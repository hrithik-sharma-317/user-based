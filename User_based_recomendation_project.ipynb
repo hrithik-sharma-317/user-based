{
 "cells": [
  {
   "cell_type": "code",
   "execution_count": null,
   "id": "345d5e5f",
   "metadata": {},
   "outputs": [],
   "source": []
  },
  {
   "cell_type": "code",
   "execution_count": 1,
   "id": "8e81e3ea",
   "metadata": {
    "id": "QB4LPEwAEpwE"
   },
   "outputs": [],
   "source": [
    "#Import the Libraries \n",
    "import pandas as pd\n",
    "import numpy as np\n",
    "import matplotlib.pyplot as plt\n",
    "import seaborn as sns \n",
    "import warnings\n",
    "warnings.filterwarnings(\"ignore\")\n",
    "from sklearn.metrics.pairwise import cosine_similarity\n",
    "import re\n",
    "from PIL import Image\n",
    "import requests\n",
    "import random\n",
    "from sklearn.feature_extraction.text import CountVectorizer\n",
    "import nltk\n",
    "from nltk.corpus import stopwords"
   ]
  },
  {
   "cell_type": "code",
   "execution_count": 2,
   "id": "ba21a787",
   "metadata": {
    "colab": {
     "base_uri": "https://localhost:8080/",
     "height": 424
    },
    "id": "qqJgjDSTE_qV",
    "outputId": "5e02da08-8878-4089-d190-04e89099cfc5"
   },
   "outputs": [
    {
     "data": {
      "text/html": [
       "<div>\n",
       "<style scoped>\n",
       "    .dataframe tbody tr th:only-of-type {\n",
       "        vertical-align: middle;\n",
       "    }\n",
       "\n",
       "    .dataframe tbody tr th {\n",
       "        vertical-align: top;\n",
       "    }\n",
       "\n",
       "    .dataframe thead th {\n",
       "        text-align: right;\n",
       "    }\n",
       "</style>\n",
       "<table border=\"1\" class=\"dataframe\">\n",
       "  <thead>\n",
       "    <tr style=\"text-align: right;\">\n",
       "      <th></th>\n",
       "      <th>User-ID</th>\n",
       "      <th>Location</th>\n",
       "      <th>Age</th>\n",
       "    </tr>\n",
       "  </thead>\n",
       "  <tbody>\n",
       "    <tr>\n",
       "      <th>0</th>\n",
       "      <td>1</td>\n",
       "      <td>nyc, new york, usa</td>\n",
       "      <td>NaN</td>\n",
       "    </tr>\n",
       "    <tr>\n",
       "      <th>1</th>\n",
       "      <td>2</td>\n",
       "      <td>stockton, california, usa</td>\n",
       "      <td>18.0</td>\n",
       "    </tr>\n",
       "    <tr>\n",
       "      <th>2</th>\n",
       "      <td>3</td>\n",
       "      <td>moscow, yukon territory, russia</td>\n",
       "      <td>NaN</td>\n",
       "    </tr>\n",
       "    <tr>\n",
       "      <th>3</th>\n",
       "      <td>4</td>\n",
       "      <td>porto, v.n.gaia, portugal</td>\n",
       "      <td>17.0</td>\n",
       "    </tr>\n",
       "    <tr>\n",
       "      <th>4</th>\n",
       "      <td>5</td>\n",
       "      <td>farnborough, hants, united kingdom</td>\n",
       "      <td>NaN</td>\n",
       "    </tr>\n",
       "    <tr>\n",
       "      <th>...</th>\n",
       "      <td>...</td>\n",
       "      <td>...</td>\n",
       "      <td>...</td>\n",
       "    </tr>\n",
       "    <tr>\n",
       "      <th>278853</th>\n",
       "      <td>278854</td>\n",
       "      <td>portland, oregon, usa</td>\n",
       "      <td>NaN</td>\n",
       "    </tr>\n",
       "    <tr>\n",
       "      <th>278854</th>\n",
       "      <td>278855</td>\n",
       "      <td>tacoma, washington, united kingdom</td>\n",
       "      <td>50.0</td>\n",
       "    </tr>\n",
       "    <tr>\n",
       "      <th>278855</th>\n",
       "      <td>278856</td>\n",
       "      <td>brampton, ontario, canada</td>\n",
       "      <td>NaN</td>\n",
       "    </tr>\n",
       "    <tr>\n",
       "      <th>278856</th>\n",
       "      <td>278857</td>\n",
       "      <td>knoxville, tennessee, usa</td>\n",
       "      <td>NaN</td>\n",
       "    </tr>\n",
       "    <tr>\n",
       "      <th>278857</th>\n",
       "      <td>278858</td>\n",
       "      <td>dublin, n/a, ireland</td>\n",
       "      <td>NaN</td>\n",
       "    </tr>\n",
       "  </tbody>\n",
       "</table>\n",
       "<p>278858 rows × 3 columns</p>\n",
       "</div>"
      ],
      "text/plain": [
       "        User-ID                            Location   Age\n",
       "0             1                  nyc, new york, usa   NaN\n",
       "1             2           stockton, california, usa  18.0\n",
       "2             3     moscow, yukon territory, russia   NaN\n",
       "3             4           porto, v.n.gaia, portugal  17.0\n",
       "4             5  farnborough, hants, united kingdom   NaN\n",
       "...         ...                                 ...   ...\n",
       "278853   278854               portland, oregon, usa   NaN\n",
       "278854   278855  tacoma, washington, united kingdom  50.0\n",
       "278855   278856           brampton, ontario, canada   NaN\n",
       "278856   278857           knoxville, tennessee, usa   NaN\n",
       "278857   278858                dublin, n/a, ireland   NaN\n",
       "\n",
       "[278858 rows x 3 columns]"
      ]
     },
     "execution_count": 2,
     "metadata": {},
     "output_type": "execute_result"
    }
   ],
   "source": [
    "20#Importing of the dataset \n",
    "users=pd.read_csv(\"Users.csv\")\n",
    "users"
   ]
  },
  {
   "cell_type": "markdown",
   "id": "4624a122",
   "metadata": {
    "id": "ANVbt8aWKpMx"
   },
   "source": [
    "# **CHECKING FOR MISSING VALUES WITH VISUALISATION**"
   ]
  },
  {
   "cell_type": "code",
   "execution_count": 3,
   "id": "d48de320",
   "metadata": {
    "colab": {
     "base_uri": "https://localhost:8080/",
     "height": 300
    },
    "id": "LyHZfieaVv3w",
    "outputId": "1dac7ff5-2d12-4445-b0b8-7b0d955cd7e4"
   },
   "outputs": [
    {
     "data": {
      "text/html": [
       "<div>\n",
       "<style scoped>\n",
       "    .dataframe tbody tr th:only-of-type {\n",
       "        vertical-align: middle;\n",
       "    }\n",
       "\n",
       "    .dataframe tbody tr th {\n",
       "        vertical-align: top;\n",
       "    }\n",
       "\n",
       "    .dataframe thead th {\n",
       "        text-align: right;\n",
       "    }\n",
       "</style>\n",
       "<table border=\"1\" class=\"dataframe\">\n",
       "  <thead>\n",
       "    <tr style=\"text-align: right;\">\n",
       "      <th></th>\n",
       "      <th>User-ID</th>\n",
       "      <th>Age</th>\n",
       "    </tr>\n",
       "  </thead>\n",
       "  <tbody>\n",
       "    <tr>\n",
       "      <th>count</th>\n",
       "      <td>278858.00000</td>\n",
       "      <td>168096.000000</td>\n",
       "    </tr>\n",
       "    <tr>\n",
       "      <th>mean</th>\n",
       "      <td>139429.50000</td>\n",
       "      <td>34.751434</td>\n",
       "    </tr>\n",
       "    <tr>\n",
       "      <th>std</th>\n",
       "      <td>80499.51502</td>\n",
       "      <td>14.428097</td>\n",
       "    </tr>\n",
       "    <tr>\n",
       "      <th>min</th>\n",
       "      <td>1.00000</td>\n",
       "      <td>0.000000</td>\n",
       "    </tr>\n",
       "    <tr>\n",
       "      <th>25%</th>\n",
       "      <td>69715.25000</td>\n",
       "      <td>24.000000</td>\n",
       "    </tr>\n",
       "    <tr>\n",
       "      <th>50%</th>\n",
       "      <td>139429.50000</td>\n",
       "      <td>32.000000</td>\n",
       "    </tr>\n",
       "    <tr>\n",
       "      <th>75%</th>\n",
       "      <td>209143.75000</td>\n",
       "      <td>44.000000</td>\n",
       "    </tr>\n",
       "    <tr>\n",
       "      <th>max</th>\n",
       "      <td>278858.00000</td>\n",
       "      <td>244.000000</td>\n",
       "    </tr>\n",
       "  </tbody>\n",
       "</table>\n",
       "</div>"
      ],
      "text/plain": [
       "            User-ID            Age\n",
       "count  278858.00000  168096.000000\n",
       "mean   139429.50000      34.751434\n",
       "std     80499.51502      14.428097\n",
       "min         1.00000       0.000000\n",
       "25%     69715.25000      24.000000\n",
       "50%    139429.50000      32.000000\n",
       "75%    209143.75000      44.000000\n",
       "max    278858.00000     244.000000"
      ]
     },
     "execution_count": 3,
     "metadata": {},
     "output_type": "execute_result"
    }
   ],
   "source": [
    "users.describe()"
   ]
  },
  {
   "cell_type": "code",
   "execution_count": 4,
   "id": "f6556e7b",
   "metadata": {
    "colab": {
     "base_uri": "https://localhost:8080/"
    },
    "id": "SADAHcv0FvdG",
    "outputId": "6f2896f7-0db1-4091-d861-4c175c679457"
   },
   "outputs": [
    {
     "name": "stdout",
     "output_type": "stream",
     "text": [
      "<class 'pandas.core.frame.DataFrame'>\n",
      "RangeIndex: 278858 entries, 0 to 278857\n",
      "Data columns (total 3 columns):\n",
      " #   Column    Non-Null Count   Dtype  \n",
      "---  ------    --------------   -----  \n",
      " 0   User-ID   278858 non-null  int64  \n",
      " 1   Location  278858 non-null  object \n",
      " 2   Age       168096 non-null  float64\n",
      "dtypes: float64(1), int64(1), object(1)\n",
      "memory usage: 6.4+ MB\n"
     ]
    }
   ],
   "source": [
    "users.info()"
   ]
  },
  {
   "cell_type": "code",
   "execution_count": 5,
   "id": "8c3f8dbd",
   "metadata": {
    "colab": {
     "base_uri": "https://localhost:8080/"
    },
    "id": "hoMQaQnLF8FJ",
    "outputId": "a959e3d9-ff1a-4c92-e8e5-bdea67d8abdd"
   },
   "outputs": [
    {
     "data": {
      "text/plain": [
       "User-ID          0\n",
       "Location         0\n",
       "Age         110762\n",
       "dtype: int64"
      ]
     },
     "execution_count": 5,
     "metadata": {},
     "output_type": "execute_result"
    }
   ],
   "source": [
    "#checking for Null values \n",
    "users.isnull().sum()"
   ]
  },
  {
   "cell_type": "code",
   "execution_count": 6,
   "id": "99f70444",
   "metadata": {
    "id": "JiJYFnsLGC-h"
   },
   "outputs": [],
   "source": [
    "#Hence it is clear from above that there is presence of Null values in 'Age' column"
   ]
  },
  {
   "cell_type": "code",
   "execution_count": 7,
   "id": "e8d6bc12",
   "metadata": {
    "colab": {
     "base_uri": "https://localhost:8080/",
     "height": 613
    },
    "id": "ZG8KMXygGO1X",
    "outputId": "db86f6ba-27f7-421b-c717-3a5aa7f97528"
   },
   "outputs": [
    {
     "data": {
      "text/plain": [
       "<AxesSubplot:>"
      ]
     },
     "execution_count": 7,
     "metadata": {},
     "output_type": "execute_result"
    },
    {
     "data": {
      "image/png": "[encoded data removed]",
      "text/plain": [
       "<Figure size 864x720 with 2 Axes>"
      ]
     },
     "metadata": {
      "needs_background": "light"
     },
     "output_type": "display_data"
    }
   ],
   "source": [
    "#Plotting of Null values \n",
    "fig=plt.figure(figsize=(12,10))\n",
    "cols=users.columns\n",
    "colours = ['#000099','#ffff00'] #specify the colours Yellow = missing value , Blue = not missing\n",
    "sns.heatmap(users[cols].isnull(),\n",
    "            cmap=sns.color_palette(colours))                            "
   ]
  },
  {
   "cell_type": "code",
   "execution_count": 8,
   "id": "f31a94f2",
   "metadata": {
    "colab": {
     "base_uri": "https://localhost:8080/",
     "height": 476
    },
    "id": "PD_UhHf0GUM0",
    "outputId": "da68f9eb-16ab-45d7-85cb-3051c43abd1a"
   },
   "outputs": [
    {
     "data": {
      "text/plain": [
       "<AxesSubplot:>"
      ]
     },
     "execution_count": 8,
     "metadata": {},
     "output_type": "execute_result"
    },
    {
     "data": {
      "image/png": "[encoded data removed]",
      "text/plain": [
       "<Figure size 1800x720 with 3 Axes>"
      ]
     },
     "metadata": {
      "needs_background": "light"
     },
     "output_type": "display_data"
    }
   ],
   "source": [
    "#Plotting bar plot for missing values \n",
    "import missingno as msno\n",
    "fig=plt.figure(figsize=(4,6))\n",
    "msno.bar(users)"
   ]
  },
  {
   "cell_type": "code",
   "execution_count": 9,
   "id": "63028a38",
   "metadata": {
    "id": "KDe7XYkYJQNh"
   },
   "outputs": [],
   "source": [
    "#Hence from above two plots we can clearly see missing values in 'Age\" column around 40 %"
   ]
  },
  {
   "cell_type": "markdown",
   "id": "56def556",
   "metadata": {
    "id": "LKR7CfXhcJZm"
   },
   "source": [
    "# **OUTLIER DETECTION**"
   ]
  },
  {
   "cell_type": "code",
   "execution_count": 10,
   "id": "d882617f",
   "metadata": {
    "colab": {
     "base_uri": "https://localhost:8080/",
     "height": 405
    },
    "id": "2mIMvCp3KBex",
    "outputId": "2d47908f-8673-427a-bb63-1258ca96dffd"
   },
   "outputs": [
    {
     "data": {
      "text/plain": [
       "<AxesSubplot:xlabel='Age', ylabel='Count'>"
      ]
     },
     "execution_count": 10,
     "metadata": {},
     "output_type": "execute_result"
    },
    {
     "data": {
      "image/png": "[encoded data removed]",
      "text/plain": [
       "<Figure size 504x432 with 1 Axes>"
      ]
     },
     "metadata": {
      "needs_background": "light"
     },
     "output_type": "display_data"
    }
   ],
   "source": [
    "#Histogram of Age \n",
    "fig=plt.figure(figsize=(7,6))\n",
    "sns.histplot(users['Age'],bins=20)"
   ]
  },
  {
   "cell_type": "code",
   "execution_count": 11,
   "id": "295162de",
   "metadata": {
    "colab": {
     "base_uri": "https://localhost:8080/",
     "height": 351
    },
    "id": "9etWgTqReja0",
    "outputId": "63efa23c-85a4-4cd5-cafb-29bffb546986"
   },
   "outputs": [
    {
     "data": {
      "text/plain": [
       "<AxesSubplot:xlabel='Age'>"
      ]
     },
     "execution_count": 11,
     "metadata": {},
     "output_type": "execute_result"
    },
    {
     "data": {
      "image/png": "[encoded data removed]",
      "text/plain": [
       "<Figure size 432x288 with 1 Axes>"
      ]
     },
     "metadata": {
      "needs_background": "light"
     },
     "output_type": "display_data"
    }
   ],
   "source": [
    "sns.boxplot(users['Age'])"
   ]
  },
  {
   "cell_type": "code",
   "execution_count": 12,
   "id": "ccbab5e7",
   "metadata": {
    "id": "fJ7rKJOAby8z"
   },
   "outputs": [],
   "source": [
    "users_copy=users.copy()"
   ]
  },
  {
   "cell_type": "code",
   "execution_count": 13,
   "id": "aa53fb35",
   "metadata": {
    "id": "PFyN4x1zV5h4"
   },
   "outputs": [],
   "source": [
    "#Boxplot\n",
    "def plot_box(df,ft):\n",
    "  df.boxplot(column=[ft])\n",
    "  plt.grid(False)\n",
    "  plt.show()"
   ]
  },
  {
   "cell_type": "code",
   "execution_count": 14,
   "id": "42e328bc",
   "metadata": {
    "colab": {
     "base_uri": "https://localhost:8080/",
     "height": 374
    },
    "id": "42Lyvtmib9vQ",
    "outputId": "837ab803-bfcc-44ee-e1f2-d7fa8393bfc4"
   },
   "outputs": [
    {
     "data": {
      "image/png": "[encoded data removed]",
      "text/plain": [
       "<Figure size 504x432 with 1 Axes>"
      ]
     },
     "metadata": {
      "needs_background": "light"
     },
     "output_type": "display_data"
    }
   ],
   "source": [
    "fig=plt.figure(figsize=(7,6))\n",
    "plot_box(users_copy,\"Age\")"
   ]
  },
  {
   "cell_type": "code",
   "execution_count": 15,
   "id": "b09c4a59",
   "metadata": {
    "id": "yBaR3rbkcIIU"
   },
   "outputs": [],
   "source": [
    "#Define a Function outliers in which we will store outliers\n",
    "def outliers(df,ft):\n",
    "  Q1= df[ft].quantile(0.25)\n",
    "  Q3= df[ft].quantile(0.75)\n",
    "  IQR = Q3-Q1\n",
    "\n",
    "  lower_bound=Q1-1.5*IQR\n",
    "  upper_bound=Q3+1.5*IQR\n",
    "\n",
    "  ls=df.index [ (df[ft]<lower_bound)| (df[ft]>upper_bound) ]\n",
    "\n",
    "  return ls"
   ]
  },
  {
   "cell_type": "code",
   "execution_count": 16,
   "id": "00f2be0f",
   "metadata": {
    "id": "KXVvbwMzdkTE"
   },
   "outputs": [],
   "source": [
    "#create an empty list to store output indices from multiple rows\n",
    "index_list = []\n",
    "for feature in ['Age']:\n",
    "  index_list.extend(outliers(users_copy,feature))"
   ]
  },
  {
   "cell_type": "code",
   "execution_count": 17,
   "id": "6579f6ce",
   "metadata": {
    "colab": {
     "base_uri": "https://localhost:8080/"
    },
    "id": "ww-5iEMJd9mL",
    "outputId": "8d78a837-521f-42ff-c7c8-8e1f6af2af49"
   },
   "outputs": [
    {
     "data": {
      "text/plain": [
       "[220, 689, 957, 1147, 1288, 1322, 1485, 1578, 2250, 2655]"
      ]
     },
     "execution_count": 17,
     "metadata": {},
     "output_type": "execute_result"
    }
   ],
   "source": [
    "index_list[:10]"
   ]
  },
  {
   "cell_type": "code",
   "execution_count": 18,
   "id": "f089f45f",
   "metadata": {
    "id": "J1fUcPzVd_n7"
   },
   "outputs": [],
   "source": [
    "#define a function remove which will provide data without outliers\n",
    "def remove (df,ls):\n",
    "  ls= sorted(set(ls))\n",
    "  df=df.drop(ls)\n",
    "  return df"
   ]
  },
  {
   "cell_type": "code",
   "execution_count": 19,
   "id": "63323422",
   "metadata": {
    "colab": {
     "base_uri": "https://localhost:8080/"
    },
    "id": "Zqq1kreWeRAU",
    "outputId": "6b864c95-1868-4f55-926e-256d4b4ed775"
   },
   "outputs": [
    {
     "data": {
      "text/plain": [
       "(277774, 3)"
      ]
     },
     "execution_count": 19,
     "metadata": {},
     "output_type": "execute_result"
    }
   ],
   "source": [
    "users_data=remove(users_copy,index_list)\n",
    "users_data.shape"
   ]
  },
  {
   "cell_type": "code",
   "execution_count": 20,
   "id": "caed58e7",
   "metadata": {
    "colab": {
     "base_uri": "https://localhost:8080/",
     "height": 351
    },
    "id": "pEvimXw0ebpc",
    "outputId": "708c4c92-2963-40a9-8b67-7b23c219e7ea"
   },
   "outputs": [
    {
     "data": {
      "text/plain": [
       "<AxesSubplot:xlabel='Age'>"
      ]
     },
     "execution_count": 20,
     "metadata": {},
     "output_type": "execute_result"
    },
    {
     "data": {
      "image/png": "[encoded data removed]",
      "text/plain": [
       "<Figure size 432x288 with 1 Axes>"
      ]
     },
     "metadata": {
      "needs_background": "light"
     },
     "output_type": "display_data"
    }
   ],
   "source": [
    "sns.boxplot(users_data['Age'])"
   ]
  },
  {
   "cell_type": "code",
   "execution_count": 21,
   "id": "f7f3adb1",
   "metadata": {
    "colab": {
     "base_uri": "https://localhost:8080/",
     "height": 728
    },
    "id": "D51o1Bmue6Yb",
    "outputId": "1834ce97-da3a-4a5a-d75a-ecae64dd2b7f"
   },
   "outputs": [
    {
     "data": {
      "text/plain": [
       "Text(0.5, 1.0, 'After Outlier data processing')"
      ]
     },
     "execution_count": 21,
     "metadata": {},
     "output_type": "execute_result"
    },
    {
     "data": {
      "image/png": "[encoded data removed]",
      "text/plain": [
       "<Figure size 864x720 with 2 Axes>"
      ]
     },
     "metadata": {
      "needs_background": "light"
     },
     "output_type": "display_data"
    }
   ],
   "source": [
    "#Before and After outlier removal\n",
    "fig, ax = plt.subplots(2,figsize=(12,10))\n",
    "sns.boxplot(users['Age'],ax=ax[0])\n",
    "ax[0].set_title(\"Before Outlier data processing\")\n",
    "sns.boxplot(users_data['Age'],ax=ax[1])\n",
    "ax[1].set_title(\"After Outlier data processing\")"
   ]
  },
  {
   "cell_type": "code",
   "execution_count": 22,
   "id": "47af618c",
   "metadata": {
    "colab": {
     "base_uri": "https://localhost:8080/",
     "height": 407
    },
    "id": "yn7mYZ5CoE5Y",
    "outputId": "c2e77f8b-3655-402d-d324-87603de8cc35"
   },
   "outputs": [
    {
     "data": {
      "text/plain": [
       "Text(0.5, 1.0, 'After Outlier data processing')"
      ]
     },
     "execution_count": 22,
     "metadata": {},
     "output_type": "execute_result"
    },
    {
     "data": {
      "image/png": "[encoded data removed]",
      "text/plain": [
       "<Figure size 720x432 with 2 Axes>"
      ]
     },
     "metadata": {
      "needs_background": "light"
     },
     "output_type": "display_data"
    }
   ],
   "source": [
    "fig, ax = plt.subplots(1,2,figsize=(10,6)) \n",
    "ax[0].hist(users[\"Age\"],bins=20) \n",
    "ax[0].set_title(\"Before Outlier data processing\")\n",
    "\n",
    "ax[1].hist(users_data[\"Age\"],bins=20)   \n",
    "ax[1].set_title(\"After Outlier data processing\")"
   ]
  },
  {
   "cell_type": "code",
   "execution_count": 23,
   "id": "fd665a7d",
   "metadata": {
    "colab": {
     "base_uri": "https://localhost:8080/"
    },
    "id": "yaaTbkDcfYG1",
    "outputId": "7977ceb9-148e-4860-e3ec-e22ce2bd3fe3"
   },
   "outputs": [
    {
     "data": {
      "text/plain": [
       "count    167012.000000\n",
       "mean         34.373590\n",
       "std          13.517693\n",
       "min           0.000000\n",
       "25%          24.000000\n",
       "50%          32.000000\n",
       "75%          44.000000\n",
       "max          74.000000\n",
       "Name: Age, dtype: float64"
      ]
     },
     "execution_count": 23,
     "metadata": {},
     "output_type": "execute_result"
    }
   ],
   "source": [
    "#calculate mean for cleaned data set to impute values \n",
    "users_data[\"Age\"].describe()"
   ]
  },
  {
   "cell_type": "code",
   "execution_count": 24,
   "id": "632bfc33",
   "metadata": {
    "id": "LcZhgSCOf8DN"
   },
   "outputs": [],
   "source": [
    "#We will impute mean rounded off to 34 in our original dataset \n",
    "users['Age'].fillna(34,inplace=True)"
   ]
  },
  {
   "cell_type": "code",
   "execution_count": 25,
   "id": "ab90c60b",
   "metadata": {
    "colab": {
     "base_uri": "https://localhost:8080/"
    },
    "id": "fVwwBedMiR2q",
    "outputId": "5ddc0416-983f-4754-c1c9-05f0c60c51cb"
   },
   "outputs": [
    {
     "name": "stdout",
     "output_type": "stream",
     "text": [
      "<class 'pandas.core.frame.DataFrame'>\n",
      "RangeIndex: 278858 entries, 0 to 278857\n",
      "Data columns (total 3 columns):\n",
      " #   Column    Non-Null Count   Dtype  \n",
      "---  ------    --------------   -----  \n",
      " 0   User-ID   278858 non-null  int64  \n",
      " 1   Location  278858 non-null  object \n",
      " 2   Age       278858 non-null  float64\n",
      "dtypes: float64(1), int64(1), object(1)\n",
      "memory usage: 6.4+ MB\n"
     ]
    }
   ],
   "source": [
    "users.info()"
   ]
  },
  {
   "cell_type": "code",
   "execution_count": 26,
   "id": "68955790",
   "metadata": {
    "colab": {
     "base_uri": "https://localhost:8080/",
     "height": 476
    },
    "id": "P4AyKQ3dh_BP",
    "outputId": "0fff0913-6f02-4664-aad4-eebc9648b170"
   },
   "outputs": [
    {
     "data": {
      "text/plain": [
       "<AxesSubplot:>"
      ]
     },
     "execution_count": 26,
     "metadata": {},
     "output_type": "execute_result"
    },
    {
     "data": {
      "image/png": "[encoded data removed]",
      "text/plain": [
       "<Figure size 1800x720 with 3 Axes>"
      ]
     },
     "metadata": {
      "needs_background": "light"
     },
     "output_type": "display_data"
    }
   ],
   "source": [
    "#Visualisation of cleaned Data\n",
    "fig=plt.figure(figsize=(4,6))\n",
    "msno.bar(users)"
   ]
  },
  {
   "cell_type": "code",
   "execution_count": 27,
   "id": "f47143af",
   "metadata": {
    "colab": {
     "base_uri": "https://localhost:8080/",
     "height": 424
    },
    "id": "nb5CKDdZiqTZ",
    "outputId": "efb933ab-26a5-4897-d832-69044ce1dc4c"
   },
   "outputs": [
    {
     "data": {
      "text/plain": [
       "User-ID     366\n",
       "Location    366\n",
       "Age         366\n",
       "dtype: int64"
      ]
     },
     "execution_count": 27,
     "metadata": {},
     "output_type": "execute_result"
    }
   ],
   "source": [
    "#Display of Age > 100 i.e outliers \n",
    "users[users.Age > 100].count()"
   ]
  },
  {
   "cell_type": "code",
   "execution_count": 28,
   "id": "275f8bf5",
   "metadata": {},
   "outputs": [
    {
     "data": {
      "text/html": [
       "<div>\n",
       "<style scoped>\n",
       "    .dataframe tbody tr th:only-of-type {\n",
       "        vertical-align: middle;\n",
       "    }\n",
       "\n",
       "    .dataframe tbody tr th {\n",
       "        vertical-align: top;\n",
       "    }\n",
       "\n",
       "    .dataframe thead th {\n",
       "        text-align: right;\n",
       "    }\n",
       "</style>\n",
       "<table border=\"1\" class=\"dataframe\">\n",
       "  <thead>\n",
       "    <tr style=\"text-align: right;\">\n",
       "      <th></th>\n",
       "      <th>User-ID</th>\n",
       "      <th>Location</th>\n",
       "      <th>Age</th>\n",
       "    </tr>\n",
       "  </thead>\n",
       "  <tbody>\n",
       "  </tbody>\n",
       "</table>\n",
       "</div>"
      ],
      "text/plain": [
       "Empty DataFrame\n",
       "Columns: [User-ID, Location, Age]\n",
       "Index: []"
      ]
     },
     "execution_count": 28,
     "metadata": {},
     "output_type": "execute_result"
    }
   ],
   "source": [
    "#Replacing Age>100 with 100\n",
    "users[\"Age\"] = np.where(users[\"Age\"] >100, 100,users['Age'])\n",
    "users[users.Age > 100]"
   ]
  },
  {
   "cell_type": "code",
   "execution_count": 29,
   "id": "d69dc9e6",
   "metadata": {
    "colab": {
     "base_uri": "https://localhost:8080/",
     "height": 424
    },
    "id": "TTQEoKckk4eo",
    "outputId": "0a65a2bb-ff5a-4dce-a086-9943b49b4e20"
   },
   "outputs": [
    {
     "data": {
      "text/plain": [
       "User-ID     4313\n",
       "Location    4313\n",
       "Age         4313\n",
       "dtype: int64"
      ]
     },
     "execution_count": 29,
     "metadata": {},
     "output_type": "execute_result"
    }
   ],
   "source": [
    "#Display of Age < 15 i.e outliers in original dataset\n",
    "users[users.Age < 15].count()"
   ]
  },
  {
   "cell_type": "code",
   "execution_count": 30,
   "id": "835174b3",
   "metadata": {},
   "outputs": [
    {
     "data": {
      "text/html": [
       "<div>\n",
       "<style scoped>\n",
       "    .dataframe tbody tr th:only-of-type {\n",
       "        vertical-align: middle;\n",
       "    }\n",
       "\n",
       "    .dataframe tbody tr th {\n",
       "        vertical-align: top;\n",
       "    }\n",
       "\n",
       "    .dataframe thead th {\n",
       "        text-align: right;\n",
       "    }\n",
       "</style>\n",
       "<table border=\"1\" class=\"dataframe\">\n",
       "  <thead>\n",
       "    <tr style=\"text-align: right;\">\n",
       "      <th></th>\n",
       "      <th>User-ID</th>\n",
       "      <th>Location</th>\n",
       "      <th>Age</th>\n",
       "    </tr>\n",
       "  </thead>\n",
       "  <tbody>\n",
       "  </tbody>\n",
       "</table>\n",
       "</div>"
      ],
      "text/plain": [
       "Empty DataFrame\n",
       "Columns: [User-ID, Location, Age]\n",
       "Index: []"
      ]
     },
     "execution_count": 30,
     "metadata": {},
     "output_type": "execute_result"
    }
   ],
   "source": [
    "users[\"Age\"] = np.where(users[\"Age\"] <15, 15,users['Age'])\n",
    "users[users.Age < 15]"
   ]
  },
  {
   "cell_type": "code",
   "execution_count": null,
   "id": "518e9276",
   "metadata": {},
   "outputs": [],
   "source": []
  },
  {
   "cell_type": "code",
   "execution_count": 31,
   "id": "081c899f",
   "metadata": {
    "colab": {
     "base_uri": "https://localhost:8080/",
     "height": 206
    },
    "id": "kA3OIVQutvgE",
    "outputId": "3427340c-3a13-4440-b0f8-410a2a7dbef8"
   },
   "outputs": [
    {
     "data": {
      "text/html": [
       "<div>\n",
       "<style scoped>\n",
       "    .dataframe tbody tr th:only-of-type {\n",
       "        vertical-align: middle;\n",
       "    }\n",
       "\n",
       "    .dataframe tbody tr th {\n",
       "        vertical-align: top;\n",
       "    }\n",
       "\n",
       "    .dataframe thead th {\n",
       "        text-align: right;\n",
       "    }\n",
       "</style>\n",
       "<table border=\"1\" class=\"dataframe\">\n",
       "  <thead>\n",
       "    <tr style=\"text-align: right;\">\n",
       "      <th></th>\n",
       "      <th>User-ID</th>\n",
       "      <th>Location</th>\n",
       "      <th>Age</th>\n",
       "      <th>country</th>\n",
       "    </tr>\n",
       "  </thead>\n",
       "  <tbody>\n",
       "    <tr>\n",
       "      <th>0</th>\n",
       "      <td>1</td>\n",
       "      <td>nyc, new york, usa</td>\n",
       "      <td>34.0</td>\n",
       "      <td>usa</td>\n",
       "    </tr>\n",
       "    <tr>\n",
       "      <th>1</th>\n",
       "      <td>2</td>\n",
       "      <td>stockton, california, usa</td>\n",
       "      <td>18.0</td>\n",
       "      <td>usa</td>\n",
       "    </tr>\n",
       "    <tr>\n",
       "      <th>2</th>\n",
       "      <td>3</td>\n",
       "      <td>moscow, yukon territory, russia</td>\n",
       "      <td>34.0</td>\n",
       "      <td>russia</td>\n",
       "    </tr>\n",
       "    <tr>\n",
       "      <th>3</th>\n",
       "      <td>4</td>\n",
       "      <td>porto, v.n.gaia, portugal</td>\n",
       "      <td>17.0</td>\n",
       "      <td>portugal</td>\n",
       "    </tr>\n",
       "    <tr>\n",
       "      <th>4</th>\n",
       "      <td>5</td>\n",
       "      <td>farnborough, hants, united kingdom</td>\n",
       "      <td>34.0</td>\n",
       "      <td>united kingdom</td>\n",
       "    </tr>\n",
       "  </tbody>\n",
       "</table>\n",
       "</div>"
      ],
      "text/plain": [
       "   User-ID                            Location   Age          country\n",
       "0        1                  nyc, new york, usa  34.0              usa\n",
       "1        2           stockton, california, usa  18.0              usa\n",
       "2        3     moscow, yukon territory, russia  34.0           russia\n",
       "3        4           porto, v.n.gaia, portugal  17.0         portugal\n",
       "4        5  farnborough, hants, united kingdom  34.0   united kingdom"
      ]
     },
     "execution_count": 31,
     "metadata": {},
     "output_type": "execute_result"
    }
   ],
   "source": [
    "users['country'] = users['Location'].str.split(',').apply(lambda x: x[-1])\n",
    "users.head()"
   ]
  },
  {
   "cell_type": "code",
   "execution_count": 32,
   "id": "aa9d3df0",
   "metadata": {
    "colab": {
     "base_uri": "https://localhost:8080/",
     "height": 424
    },
    "id": "PxpUrhFytvQm",
    "outputId": "a5de3bb5-0d26-4d4d-fa8e-73bbf5c39371"
   },
   "outputs": [
    {
     "data": {
      "text/html": [
       "<div>\n",
       "<style scoped>\n",
       "    .dataframe tbody tr th:only-of-type {\n",
       "        vertical-align: middle;\n",
       "    }\n",
       "\n",
       "    .dataframe tbody tr th {\n",
       "        vertical-align: top;\n",
       "    }\n",
       "\n",
       "    .dataframe thead th {\n",
       "        text-align: right;\n",
       "    }\n",
       "</style>\n",
       "<table border=\"1\" class=\"dataframe\">\n",
       "  <thead>\n",
       "    <tr style=\"text-align: right;\">\n",
       "      <th></th>\n",
       "      <th>User-ID</th>\n",
       "      <th>Location</th>\n",
       "      <th>Age</th>\n",
       "      <th>country</th>\n",
       "    </tr>\n",
       "  </thead>\n",
       "  <tbody>\n",
       "    <tr>\n",
       "      <th>0</th>\n",
       "      <td>1</td>\n",
       "      <td>nyc, new york, usa</td>\n",
       "      <td>34.0</td>\n",
       "      <td>usa</td>\n",
       "    </tr>\n",
       "    <tr>\n",
       "      <th>1</th>\n",
       "      <td>2</td>\n",
       "      <td>stockton, california, usa</td>\n",
       "      <td>18.0</td>\n",
       "      <td>usa</td>\n",
       "    </tr>\n",
       "    <tr>\n",
       "      <th>2</th>\n",
       "      <td>3</td>\n",
       "      <td>moscow, yukon territory, russia</td>\n",
       "      <td>34.0</td>\n",
       "      <td>russia</td>\n",
       "    </tr>\n",
       "    <tr>\n",
       "      <th>3</th>\n",
       "      <td>4</td>\n",
       "      <td>porto, v.n.gaia, portugal</td>\n",
       "      <td>17.0</td>\n",
       "      <td>portugal</td>\n",
       "    </tr>\n",
       "    <tr>\n",
       "      <th>4</th>\n",
       "      <td>5</td>\n",
       "      <td>farnborough, hants, united kingdom</td>\n",
       "      <td>34.0</td>\n",
       "      <td>united kingdom</td>\n",
       "    </tr>\n",
       "    <tr>\n",
       "      <th>...</th>\n",
       "      <td>...</td>\n",
       "      <td>...</td>\n",
       "      <td>...</td>\n",
       "      <td>...</td>\n",
       "    </tr>\n",
       "    <tr>\n",
       "      <th>278853</th>\n",
       "      <td>278854</td>\n",
       "      <td>portland, oregon, usa</td>\n",
       "      <td>34.0</td>\n",
       "      <td>usa</td>\n",
       "    </tr>\n",
       "    <tr>\n",
       "      <th>278854</th>\n",
       "      <td>278855</td>\n",
       "      <td>tacoma, washington, united kingdom</td>\n",
       "      <td>50.0</td>\n",
       "      <td>united kingdom</td>\n",
       "    </tr>\n",
       "    <tr>\n",
       "      <th>278855</th>\n",
       "      <td>278856</td>\n",
       "      <td>brampton, ontario, canada</td>\n",
       "      <td>34.0</td>\n",
       "      <td>canada</td>\n",
       "    </tr>\n",
       "    <tr>\n",
       "      <th>278856</th>\n",
       "      <td>278857</td>\n",
       "      <td>knoxville, tennessee, usa</td>\n",
       "      <td>34.0</td>\n",
       "      <td>usa</td>\n",
       "    </tr>\n",
       "    <tr>\n",
       "      <th>278857</th>\n",
       "      <td>278858</td>\n",
       "      <td>dublin, n/a, ireland</td>\n",
       "      <td>34.0</td>\n",
       "      <td>ireland</td>\n",
       "    </tr>\n",
       "  </tbody>\n",
       "</table>\n",
       "<p>278858 rows × 4 columns</p>\n",
       "</div>"
      ],
      "text/plain": [
       "        User-ID                            Location   Age          country\n",
       "0             1                  nyc, new york, usa  34.0              usa\n",
       "1             2           stockton, california, usa  18.0              usa\n",
       "2             3     moscow, yukon territory, russia  34.0           russia\n",
       "3             4           porto, v.n.gaia, portugal  17.0         portugal\n",
       "4             5  farnborough, hants, united kingdom  34.0   united kingdom\n",
       "...         ...                                 ...   ...              ...\n",
       "278853   278854               portland, oregon, usa  34.0              usa\n",
       "278854   278855  tacoma, washington, united kingdom  50.0   united kingdom\n",
       "278855   278856           brampton, ontario, canada  34.0           canada\n",
       "278856   278857           knoxville, tennessee, usa  34.0              usa\n",
       "278857   278858                dublin, n/a, ireland  34.0          ireland\n",
       "\n",
       "[278858 rows x 4 columns]"
      ]
     },
     "execution_count": 32,
     "metadata": {},
     "output_type": "execute_result"
    }
   ],
   "source": [
    "users"
   ]
  },
  {
   "cell_type": "code",
   "execution_count": 33,
   "id": "ec4ed085",
   "metadata": {
    "colab": {
     "base_uri": "https://localhost:8080/",
     "height": 206
    },
    "id": "4v0sij2mzEYb",
    "outputId": "8f6f0182-adfe-475b-a883-124344d835a6"
   },
   "outputs": [
    {
     "data": {
      "text/html": [
       "<div>\n",
       "<style scoped>\n",
       "    .dataframe tbody tr th:only-of-type {\n",
       "        vertical-align: middle;\n",
       "    }\n",
       "\n",
       "    .dataframe tbody tr th {\n",
       "        vertical-align: top;\n",
       "    }\n",
       "\n",
       "    .dataframe thead th {\n",
       "        text-align: right;\n",
       "    }\n",
       "</style>\n",
       "<table border=\"1\" class=\"dataframe\">\n",
       "  <thead>\n",
       "    <tr style=\"text-align: right;\">\n",
       "      <th></th>\n",
       "      <th>User-ID</th>\n",
       "      <th>Age</th>\n",
       "      <th>country</th>\n",
       "    </tr>\n",
       "  </thead>\n",
       "  <tbody>\n",
       "    <tr>\n",
       "      <th>0</th>\n",
       "      <td>1</td>\n",
       "      <td>34.0</td>\n",
       "      <td>usa</td>\n",
       "    </tr>\n",
       "    <tr>\n",
       "      <th>1</th>\n",
       "      <td>2</td>\n",
       "      <td>18.0</td>\n",
       "      <td>usa</td>\n",
       "    </tr>\n",
       "    <tr>\n",
       "      <th>2</th>\n",
       "      <td>3</td>\n",
       "      <td>34.0</td>\n",
       "      <td>russia</td>\n",
       "    </tr>\n",
       "    <tr>\n",
       "      <th>3</th>\n",
       "      <td>4</td>\n",
       "      <td>17.0</td>\n",
       "      <td>portugal</td>\n",
       "    </tr>\n",
       "    <tr>\n",
       "      <th>4</th>\n",
       "      <td>5</td>\n",
       "      <td>34.0</td>\n",
       "      <td>united kingdom</td>\n",
       "    </tr>\n",
       "  </tbody>\n",
       "</table>\n",
       "</div>"
      ],
      "text/plain": [
       "   User-ID   Age          country\n",
       "0        1  34.0              usa\n",
       "1        2  18.0              usa\n",
       "2        3  34.0           russia\n",
       "3        4  17.0         portugal\n",
       "4        5  34.0   united kingdom"
      ]
     },
     "execution_count": 33,
     "metadata": {},
     "output_type": "execute_result"
    }
   ],
   "source": [
    "#Dopping Location column as we have captured country column from it\n",
    "users=users.drop([\"Location\"],axis=1)\n",
    "users.head()"
   ]
  },
  {
   "cell_type": "code",
   "execution_count": 34,
   "id": "7a363562",
   "metadata": {
    "id": "d9EW7viCzEO5"
   },
   "outputs": [],
   "source": [
    "#Now working with books Dataset "
   ]
  },
  {
   "cell_type": "code",
   "execution_count": 35,
   "id": "ab4b5385",
   "metadata": {
    "colab": {
     "base_uri": "https://localhost:8080/",
     "height": 973
    },
    "id": "2qmHh0AenMEg",
    "outputId": "d4a8f3c1-c9bb-4c6d-9a1d-33fb0535a1d0"
   },
   "outputs": [
    {
     "data": {
      "text/html": [
       "<div>\n",
       "<style scoped>\n",
       "    .dataframe tbody tr th:only-of-type {\n",
       "        vertical-align: middle;\n",
       "    }\n",
       "\n",
       "    .dataframe tbody tr th {\n",
       "        vertical-align: top;\n",
       "    }\n",
       "\n",
       "    .dataframe thead th {\n",
       "        text-align: right;\n",
       "    }\n",
       "</style>\n",
       "<table border=\"1\" class=\"dataframe\">\n",
       "  <thead>\n",
       "    <tr style=\"text-align: right;\">\n",
       "      <th></th>\n",
       "      <th>ISBN</th>\n",
       "      <th>Book-Title</th>\n",
       "      <th>Book-Author</th>\n",
       "      <th>Year-Of-Publication</th>\n",
       "      <th>Publisher</th>\n",
       "      <th>Image-URL-S</th>\n",
       "      <th>Image-URL-M</th>\n",
       "      <th>Image-URL-L</th>\n",
       "    </tr>\n",
       "  </thead>\n",
       "  <tbody>\n",
       "    <tr>\n",
       "      <th>0</th>\n",
       "      <td>0195153448</td>\n",
       "      <td>Classical Mythology</td>\n",
       "      <td>Mark P. O. Morford</td>\n",
       "      <td>2002</td>\n",
       "      <td>Oxford University Press</td>\n",
       "      <td>http://images.amazon.com/images/P/0195153448.0...</td>\n",
       "      <td>http://images.amazon.com/images/P/0195153448.0...</td>\n",
       "      <td>http://images.amazon.com/images/P/0195153448.0...</td>\n",
       "    </tr>\n",
       "    <tr>\n",
       "      <th>1</th>\n",
       "      <td>0002005018</td>\n",
       "      <td>Clara Callan</td>\n",
       "      <td>Richard Bruce Wright</td>\n",
       "      <td>2001</td>\n",
       "      <td>HarperFlamingo Canada</td>\n",
       "      <td>http://images.amazon.com/images/P/0002005018.0...</td>\n",
       "      <td>http://images.amazon.com/images/P/0002005018.0...</td>\n",
       "      <td>http://images.amazon.com/images/P/0002005018.0...</td>\n",
       "    </tr>\n",
       "    <tr>\n",
       "      <th>2</th>\n",
       "      <td>0060973129</td>\n",
       "      <td>Decision in Normandy</td>\n",
       "      <td>Carlo D'Este</td>\n",
       "      <td>1991</td>\n",
       "      <td>HarperPerennial</td>\n",
       "      <td>http://images.amazon.com/images/P/0060973129.0...</td>\n",
       "      <td>http://images.amazon.com/images/P/0060973129.0...</td>\n",
       "      <td>http://images.amazon.com/images/P/0060973129.0...</td>\n",
       "    </tr>\n",
       "    <tr>\n",
       "      <th>3</th>\n",
       "      <td>0374157065</td>\n",
       "      <td>Flu: The Story of the Great Influenza Pandemic...</td>\n",
       "      <td>Gina Bari Kolata</td>\n",
       "      <td>1999</td>\n",
       "      <td>Farrar Straus Giroux</td>\n",
       "      <td>http://images.amazon.com/images/P/0374157065.0...</td>\n",
       "      <td>http://images.amazon.com/images/P/0374157065.0...</td>\n",
       "      <td>http://images.amazon.com/images/P/0374157065.0...</td>\n",
       "    </tr>\n",
       "    <tr>\n",
       "      <th>4</th>\n",
       "      <td>0393045218</td>\n",
       "      <td>The Mummies of Urumchi</td>\n",
       "      <td>E. J. W. Barber</td>\n",
       "      <td>1999</td>\n",
       "      <td>W. W. Norton &amp;amp; Company</td>\n",
       "      <td>http://images.amazon.com/images/P/0393045218.0...</td>\n",
       "      <td>http://images.amazon.com/images/P/0393045218.0...</td>\n",
       "      <td>http://images.amazon.com/images/P/0393045218.0...</td>\n",
       "    </tr>\n",
       "    <tr>\n",
       "      <th>...</th>\n",
       "      <td>...</td>\n",
       "      <td>...</td>\n",
       "      <td>...</td>\n",
       "      <td>...</td>\n",
       "      <td>...</td>\n",
       "      <td>...</td>\n",
       "      <td>...</td>\n",
       "      <td>...</td>\n",
       "    </tr>\n",
       "    <tr>\n",
       "      <th>271355</th>\n",
       "      <td>0440400988</td>\n",
       "      <td>There's a Bat in Bunk Five</td>\n",
       "      <td>Paula Danziger</td>\n",
       "      <td>1988</td>\n",
       "      <td>Random House Childrens Pub (Mm)</td>\n",
       "      <td>http://images.amazon.com/images/P/0440400988.0...</td>\n",
       "      <td>http://images.amazon.com/images/P/0440400988.0...</td>\n",
       "      <td>http://images.amazon.com/images/P/0440400988.0...</td>\n",
       "    </tr>\n",
       "    <tr>\n",
       "      <th>271356</th>\n",
       "      <td>0525447644</td>\n",
       "      <td>From One to One Hundred</td>\n",
       "      <td>Teri Sloat</td>\n",
       "      <td>1991</td>\n",
       "      <td>Dutton Books</td>\n",
       "      <td>http://images.amazon.com/images/P/0525447644.0...</td>\n",
       "      <td>http://images.amazon.com/images/P/0525447644.0...</td>\n",
       "      <td>http://images.amazon.com/images/P/0525447644.0...</td>\n",
       "    </tr>\n",
       "    <tr>\n",
       "      <th>271357</th>\n",
       "      <td>006008667X</td>\n",
       "      <td>Lily Dale : The True Story of the Town that Ta...</td>\n",
       "      <td>Christine Wicker</td>\n",
       "      <td>2004</td>\n",
       "      <td>HarperSanFrancisco</td>\n",
       "      <td>http://images.amazon.com/images/P/006008667X.0...</td>\n",
       "      <td>http://images.amazon.com/images/P/006008667X.0...</td>\n",
       "      <td>http://images.amazon.com/images/P/006008667X.0...</td>\n",
       "    </tr>\n",
       "    <tr>\n",
       "      <th>271358</th>\n",
       "      <td>0192126040</td>\n",
       "      <td>Republic (World's Classics)</td>\n",
       "      <td>Plato</td>\n",
       "      <td>1996</td>\n",
       "      <td>Oxford University Press</td>\n",
       "      <td>http://images.amazon.com/images/P/0192126040.0...</td>\n",
       "      <td>http://images.amazon.com/images/P/0192126040.0...</td>\n",
       "      <td>http://images.amazon.com/images/P/0192126040.0...</td>\n",
       "    </tr>\n",
       "    <tr>\n",
       "      <th>271359</th>\n",
       "      <td>0767409752</td>\n",
       "      <td>A Guided Tour of Rene Descartes' Meditations o...</td>\n",
       "      <td>Christopher  Biffle</td>\n",
       "      <td>2000</td>\n",
       "      <td>McGraw-Hill Humanities/Social Sciences/Languages</td>\n",
       "      <td>http://images.amazon.com/images/P/0767409752.0...</td>\n",
       "      <td>http://images.amazon.com/images/P/0767409752.0...</td>\n",
       "      <td>http://images.amazon.com/images/P/0767409752.0...</td>\n",
       "    </tr>\n",
       "  </tbody>\n",
       "</table>\n",
       "<p>271360 rows × 8 columns</p>\n",
       "</div>"
      ],
      "text/plain": [
       "              ISBN                                         Book-Title  \\\n",
       "0       0195153448                                Classical Mythology   \n",
       "1       0002005018                                       Clara Callan   \n",
       "2       0060973129                               Decision in Normandy   \n",
       "3       0374157065  Flu: The Story of the Great Influenza Pandemic...   \n",
       "4       0393045218                             The Mummies of Urumchi   \n",
       "...            ...                                                ...   \n",
       "271355  0440400988                         There's a Bat in Bunk Five   \n",
       "271356  0525447644                            From One to One Hundred   \n",
       "271357  006008667X  Lily Dale : The True Story of the Town that Ta...   \n",
       "271358  0192126040                        Republic (World's Classics)   \n",
       "271359  0767409752  A Guided Tour of Rene Descartes' Meditations o...   \n",
       "\n",
       "                 Book-Author Year-Of-Publication  \\\n",
       "0         Mark P. O. Morford                2002   \n",
       "1       Richard Bruce Wright                2001   \n",
       "2               Carlo D'Este                1991   \n",
       "3           Gina Bari Kolata                1999   \n",
       "4            E. J. W. Barber                1999   \n",
       "...                      ...                 ...   \n",
       "271355        Paula Danziger                1988   \n",
       "271356            Teri Sloat                1991   \n",
       "271357      Christine Wicker                2004   \n",
       "271358                 Plato                1996   \n",
       "271359   Christopher  Biffle                2000   \n",
       "\n",
       "                                               Publisher  \\\n",
       "0                                Oxford University Press   \n",
       "1                                  HarperFlamingo Canada   \n",
       "2                                        HarperPerennial   \n",
       "3                                   Farrar Straus Giroux   \n",
       "4                             W. W. Norton &amp; Company   \n",
       "...                                                  ...   \n",
       "271355                   Random House Childrens Pub (Mm)   \n",
       "271356                                      Dutton Books   \n",
       "271357                                HarperSanFrancisco   \n",
       "271358                           Oxford University Press   \n",
       "271359  McGraw-Hill Humanities/Social Sciences/Languages   \n",
       "\n",
       "                                              Image-URL-S  \\\n",
       "0       http://images.amazon.com/images/P/0195153448.0...   \n",
       "1       http://images.amazon.com/images/P/0002005018.0...   \n",
       "2       http://images.amazon.com/images/P/0060973129.0...   \n",
       "3       http://images.amazon.com/images/P/0374157065.0...   \n",
       "4       http://images.amazon.com/images/P/0393045218.0...   \n",
       "...                                                   ...   \n",
       "271355  http://images.amazon.com/images/P/0440400988.0...   \n",
       "271356  http://images.amazon.com/images/P/0525447644.0...   \n",
       "271357  http://images.amazon.com/images/P/006008667X.0...   \n",
       "271358  http://images.amazon.com/images/P/0192126040.0...   \n",
       "271359  http://images.amazon.com/images/P/0767409752.0...   \n",
       "\n",
       "                                              Image-URL-M  \\\n",
       "0       http://images.amazon.com/images/P/0195153448.0...   \n",
       "1       http://images.amazon.com/images/P/0002005018.0...   \n",
       "2       http://images.amazon.com/images/P/0060973129.0...   \n",
       "3       http://images.amazon.com/images/P/0374157065.0...   \n",
       "4       http://images.amazon.com/images/P/0393045218.0...   \n",
       "...                                                   ...   \n",
       "271355  http://images.amazon.com/images/P/0440400988.0...   \n",
       "271356  http://images.amazon.com/images/P/0525447644.0...   \n",
       "271357  http://images.amazon.com/images/P/006008667X.0...   \n",
       "271358  http://images.amazon.com/images/P/0192126040.0...   \n",
       "271359  http://images.amazon.com/images/P/0767409752.0...   \n",
       "\n",
       "                                              Image-URL-L  \n",
       "0       http://images.amazon.com/images/P/0195153448.0...  \n",
       "1       http://images.amazon.com/images/P/0002005018.0...  \n",
       "2       http://images.amazon.com/images/P/0060973129.0...  \n",
       "3       http://images.amazon.com/images/P/0374157065.0...  \n",
       "4       http://images.amazon.com/images/P/0393045218.0...  \n",
       "...                                                   ...  \n",
       "271355  http://images.amazon.com/images/P/0440400988.0...  \n",
       "271356  http://images.amazon.com/images/P/0525447644.0...  \n",
       "271357  http://images.amazon.com/images/P/006008667X.0...  \n",
       "271358  http://images.amazon.com/images/P/0192126040.0...  \n",
       "271359  http://images.amazon.com/images/P/0767409752.0...  \n",
       "\n",
       "[271360 rows x 8 columns]"
      ]
     },
     "execution_count": 35,
     "metadata": {},
     "output_type": "execute_result"
    }
   ],
   "source": [
    "#Importing the books dataset\n",
    "books=pd.read_csv(\"Books.csv\")\n",
    "books"
   ]
  },
  {
   "cell_type": "code",
   "execution_count": 36,
   "id": "e35c555c",
   "metadata": {
    "colab": {
     "base_uri": "https://localhost:8080/"
    },
    "id": "aMzFwIcYtLU3",
    "outputId": "729bc4b6-6ae9-491e-df91-993c0f91eda0"
   },
   "outputs": [
    {
     "name": "stdout",
     "output_type": "stream",
     "text": [
      "<class 'pandas.core.frame.DataFrame'>\n",
      "RangeIndex: 271360 entries, 0 to 271359\n",
      "Data columns (total 8 columns):\n",
      " #   Column               Non-Null Count   Dtype \n",
      "---  ------               --------------   ----- \n",
      " 0   ISBN                 271360 non-null  object\n",
      " 1   Book-Title           271360 non-null  object\n",
      " 2   Book-Author          271359 non-null  object\n",
      " 3   Year-Of-Publication  271360 non-null  object\n",
      " 4   Publisher            271358 non-null  object\n",
      " 5   Image-URL-S          271360 non-null  object\n",
      " 6   Image-URL-M          271360 non-null  object\n",
      " 7   Image-URL-L          271357 non-null  object\n",
      "dtypes: object(8)\n",
      "memory usage: 16.6+ MB\n"
     ]
    }
   ],
   "source": [
    "#Checking info about data\n",
    "books.info()"
   ]
  },
  {
   "cell_type": "code",
   "execution_count": 37,
   "id": "99dfdbca",
   "metadata": {
    "colab": {
     "base_uri": "https://localhost:8080/"
    },
    "id": "QIuqj2DxxeGe",
    "outputId": "4b37eb20-4c70-4ec1-cb0d-b8c8b933d18b"
   },
   "outputs": [
    {
     "data": {
      "text/plain": [
       "ISBN                   0\n",
       "Book-Title             0\n",
       "Book-Author            1\n",
       "Year-Of-Publication    0\n",
       "Publisher              2\n",
       "Image-URL-S            0\n",
       "Image-URL-M            0\n",
       "Image-URL-L            3\n",
       "dtype: int64"
      ]
     },
     "execution_count": 37,
     "metadata": {},
     "output_type": "execute_result"
    }
   ],
   "source": [
    "#Checking for Null values \n",
    "books.isnull().sum()"
   ]
  },
  {
   "cell_type": "code",
   "execution_count": 38,
   "id": "7f083e34",
   "metadata": {
    "colab": {
     "base_uri": "https://localhost:8080/",
     "height": 143
    },
    "id": "iYEf-XFEXLUy",
    "outputId": "1c99b611-3030-45e7-bf17-7f20ee81395b"
   },
   "outputs": [
    {
     "data": {
      "text/html": [
       "<div>\n",
       "<style scoped>\n",
       "    .dataframe tbody tr th:only-of-type {\n",
       "        vertical-align: middle;\n",
       "    }\n",
       "\n",
       "    .dataframe tbody tr th {\n",
       "        vertical-align: top;\n",
       "    }\n",
       "\n",
       "    .dataframe thead th {\n",
       "        text-align: right;\n",
       "    }\n",
       "</style>\n",
       "<table border=\"1\" class=\"dataframe\">\n",
       "  <thead>\n",
       "    <tr style=\"text-align: right;\">\n",
       "      <th></th>\n",
       "      <th>ISBN</th>\n",
       "      <th>Book-Title</th>\n",
       "      <th>Book-Author</th>\n",
       "      <th>Year-Of-Publication</th>\n",
       "      <th>Publisher</th>\n",
       "      <th>Image-URL-S</th>\n",
       "      <th>Image-URL-M</th>\n",
       "      <th>Image-URL-L</th>\n",
       "    </tr>\n",
       "  </thead>\n",
       "  <tbody>\n",
       "    <tr>\n",
       "      <th>0</th>\n",
       "      <td>0195153448</td>\n",
       "      <td>Classical Mythology</td>\n",
       "      <td>Mark P. O. Morford</td>\n",
       "      <td>2002</td>\n",
       "      <td>Oxford University Press</td>\n",
       "      <td>http://images.amazon.com/images/P/0195153448.0...</td>\n",
       "      <td>http://images.amazon.com/images/P/0195153448.0...</td>\n",
       "      <td>http://images.amazon.com/images/P/0195153448.0...</td>\n",
       "    </tr>\n",
       "    <tr>\n",
       "      <th>1</th>\n",
       "      <td>0002005018</td>\n",
       "      <td>Clara Callan</td>\n",
       "      <td>Richard Bruce Wright</td>\n",
       "      <td>2001</td>\n",
       "      <td>HarperFlamingo Canada</td>\n",
       "      <td>http://images.amazon.com/images/P/0002005018.0...</td>\n",
       "      <td>http://images.amazon.com/images/P/0002005018.0...</td>\n",
       "      <td>http://images.amazon.com/images/P/0002005018.0...</td>\n",
       "    </tr>\n",
       "    <tr>\n",
       "      <th>2</th>\n",
       "      <td>0060973129</td>\n",
       "      <td>Decision in Normandy</td>\n",
       "      <td>Carlo D'Este</td>\n",
       "      <td>1991</td>\n",
       "      <td>HarperPerennial</td>\n",
       "      <td>http://images.amazon.com/images/P/0060973129.0...</td>\n",
       "      <td>http://images.amazon.com/images/P/0060973129.0...</td>\n",
       "      <td>http://images.amazon.com/images/P/0060973129.0...</td>\n",
       "    </tr>\n",
       "  </tbody>\n",
       "</table>\n",
       "</div>"
      ],
      "text/plain": [
       "         ISBN            Book-Title           Book-Author Year-Of-Publication  \\\n",
       "0  0195153448   Classical Mythology    Mark P. O. Morford                2002   \n",
       "1  0002005018          Clara Callan  Richard Bruce Wright                2001   \n",
       "2  0060973129  Decision in Normandy          Carlo D'Este                1991   \n",
       "\n",
       "                 Publisher                                        Image-URL-S  \\\n",
       "0  Oxford University Press  http://images.amazon.com/images/P/0195153448.0...   \n",
       "1    HarperFlamingo Canada  http://images.amazon.com/images/P/0002005018.0...   \n",
       "2          HarperPerennial  http://images.amazon.com/images/P/0060973129.0...   \n",
       "\n",
       "                                         Image-URL-M  \\\n",
       "0  http://images.amazon.com/images/P/0195153448.0...   \n",
       "1  http://images.amazon.com/images/P/0002005018.0...   \n",
       "2  http://images.amazon.com/images/P/0060973129.0...   \n",
       "\n",
       "                                         Image-URL-L  \n",
       "0  http://images.amazon.com/images/P/0195153448.0...  \n",
       "1  http://images.amazon.com/images/P/0002005018.0...  \n",
       "2  http://images.amazon.com/images/P/0060973129.0...  "
      ]
     },
     "execution_count": 38,
     "metadata": {},
     "output_type": "execute_result"
    }
   ],
   "source": [
    "#Dropping all image columns as we plan to not use it further for our model\n",
    "book=books\n",
    "book.head(3)"
   ]
  },
  {
   "cell_type": "code",
   "execution_count": 39,
   "id": "9304483f",
   "metadata": {
    "colab": {
     "base_uri": "https://localhost:8080/"
    },
    "id": "5HyQ4gcexppd",
    "outputId": "37905ea3-9306-457a-dc47-f659e312d369"
   },
   "outputs": [
    {
     "data": {
      "text/plain": [
       "2002    13903\n",
       "2001    13715\n",
       "1999    13414\n",
       "2000    13373\n",
       "1998    12116\n",
       "        ...  \n",
       "1924        1\n",
       "2012        1\n",
       "1927        1\n",
       "1931        1\n",
       "2037        1\n",
       "Name: Year-Of-Publication, Length: 202, dtype: int64"
      ]
     },
     "execution_count": 39,
     "metadata": {},
     "output_type": "execute_result"
    }
   ],
   "source": [
    "#hence from above there is very less null values present which are acceptable\n",
    "#Checking value counts of years >2021\n",
    "book[\"Year-Of-Publication\"].value_counts()"
   ]
  },
  {
   "cell_type": "code",
   "execution_count": 40,
   "id": "6c6ca0ad",
   "metadata": {
    "colab": {
     "base_uri": "https://localhost:8080/"
    },
    "id": "wi9JhuMLyFgE",
    "outputId": "b3c211aa-27e3-47d8-c50b-932d2c997332"
   },
   "outputs": [
    {
     "data": {
      "text/plain": [
       "array([2002, 2001, 1991, 1999, 2000, 1993, 1996, 1988, 2004, 1998, 1994,\n",
       "       2003, 1997, 1983, 1979, 1995, 1982, 1985, 1992, 1986, 1978, 1980,\n",
       "       1952, 1987, 1990, 1981, 1989, 1984, 0, 1968, 1961, 1958, 1974,\n",
       "       1976, 1971, 1977, 1975, 1965, 1941, 1970, 1962, 1973, 1972, 1960,\n",
       "       1966, 1920, 1956, 1959, 1953, 1951, 1942, 1963, 1964, 1969, 1954,\n",
       "       1950, 1967, 2005, 1957, 1940, 1937, 1955, 1946, 1936, 1930, 2011,\n",
       "       1925, 1948, 1943, 1947, 1945, 1923, 2020, 1939, 1926, 1938, 2030,\n",
       "       1911, 1904, 1949, 1932, 1928, 1929, 1927, 1931, 1914, 2050, 1934,\n",
       "       1910, 1933, 1902, 1924, 1921, 1900, 2038, 2026, 1944, 1917, 1901,\n",
       "       2010, 1908, 1906, 1935, 1806, 2021, '2000', '1995', '1999', '2004',\n",
       "       '2003', '1990', '1994', '1986', '1989', '2002', '1981', '1993',\n",
       "       '1983', '1982', '1976', '1991', '1977', '1998', '1992', '1996',\n",
       "       '0', '1997', '2001', '1974', '1968', '1987', '1984', '1988',\n",
       "       '1963', '1956', '1970', '1985', '1978', '1973', '1980', '1979',\n",
       "       '1975', '1969', '1961', '1965', '1939', '1958', '1950', '1953',\n",
       "       '1966', '1971', '1959', '1972', '1955', '1957', '1945', '1960',\n",
       "       '1967', '1932', '1924', '1964', '2012', '1911', '1927', '1948',\n",
       "       '1962', '2006', '1952', '1940', '1951', '1931', '1954', '2005',\n",
       "       '1930', '1941', '1944', 'DK Publishing Inc', '1943', '1938',\n",
       "       '1900', '1942', '1923', '1920', '1933', 'Gallimard', '1909',\n",
       "       '1946', '2008', '1378', '2030', '1936', '1947', '2011', '2020',\n",
       "       '1919', '1949', '1922', '1897', '2024', '1376', '1926', '2037'],\n",
       "      dtype=object)"
      ]
     },
     "execution_count": 40,
     "metadata": {},
     "output_type": "execute_result"
    }
   ],
   "source": [
    "book['Year-Of-Publication'].unique()"
   ]
  },
  {
   "cell_type": "code",
   "execution_count": 41,
   "id": "33914906",
   "metadata": {
    "colab": {
     "base_uri": "https://localhost:8080/"
    },
    "id": "Lzb-2neVecXH",
    "outputId": "4bc4ac75-ef2a-4eca-a762-d217a54e88d3"
   },
   "outputs": [],
   "source": [
    "pd.set_option('display.max_colwidth', -1)"
   ]
  },
  {
   "cell_type": "code",
   "execution_count": 42,
   "id": "c3323b45",
   "metadata": {
    "colab": {
     "base_uri": "https://localhost:8080/",
     "height": 312
    },
    "id": "mdXnk3LB2f2k",
    "outputId": "99d6b2d0-6220-4a76-971e-81cb23bc091d"
   },
   "outputs": [
    {
     "data": {
      "text/html": [
       "<div>\n",
       "<style scoped>\n",
       "    .dataframe tbody tr th:only-of-type {\n",
       "        vertical-align: middle;\n",
       "    }\n",
       "\n",
       "    .dataframe tbody tr th {\n",
       "        vertical-align: top;\n",
       "    }\n",
       "\n",
       "    .dataframe thead th {\n",
       "        text-align: right;\n",
       "    }\n",
       "</style>\n",
       "<table border=\"1\" class=\"dataframe\">\n",
       "  <thead>\n",
       "    <tr style=\"text-align: right;\">\n",
       "      <th></th>\n",
       "      <th>ISBN</th>\n",
       "      <th>Book-Title</th>\n",
       "      <th>Book-Author</th>\n",
       "      <th>Year-Of-Publication</th>\n",
       "      <th>Publisher</th>\n",
       "      <th>Image-URL-S</th>\n",
       "      <th>Image-URL-M</th>\n",
       "      <th>Image-URL-L</th>\n",
       "    </tr>\n",
       "  </thead>\n",
       "  <tbody>\n",
       "    <tr>\n",
       "      <th>209538</th>\n",
       "      <td>078946697X</td>\n",
       "      <td>DK Readers: Creating the X-Men, How It All Began (Level 4: Proficient Readers)\\\";Michael Teitelbaum\"</td>\n",
       "      <td>2000</td>\n",
       "      <td>DK Publishing Inc</td>\n",
       "      <td>http://images.amazon.com/images/P/078946697X.01.THUMBZZZ.jpg</td>\n",
       "      <td>http://images.amazon.com/images/P/078946697X.01.MZZZZZZZ.jpg</td>\n",
       "      <td>http://images.amazon.com/images/P/078946697X.01.LZZZZZZZ.jpg</td>\n",
       "      <td>NaN</td>\n",
       "    </tr>\n",
       "    <tr>\n",
       "      <th>221678</th>\n",
       "      <td>0789466953</td>\n",
       "      <td>DK Readers: Creating the X-Men, How Comic Books Come to Life (Level 4: Proficient Readers)\\\";James Buckley\"</td>\n",
       "      <td>2000</td>\n",
       "      <td>DK Publishing Inc</td>\n",
       "      <td>http://images.amazon.com/images/P/0789466953.01.THUMBZZZ.jpg</td>\n",
       "      <td>http://images.amazon.com/images/P/0789466953.01.MZZZZZZZ.jpg</td>\n",
       "      <td>http://images.amazon.com/images/P/0789466953.01.LZZZZZZZ.jpg</td>\n",
       "      <td>NaN</td>\n",
       "    </tr>\n",
       "  </tbody>\n",
       "</table>\n",
       "</div>"
      ],
      "text/plain": [
       "              ISBN  \\\n",
       "209538  078946697X   \n",
       "221678  0789466953   \n",
       "\n",
       "                                                                                                         Book-Title  \\\n",
       "209538  DK Readers: Creating the X-Men, How It All Began (Level 4: Proficient Readers)\\\";Michael Teitelbaum\"          \n",
       "221678  DK Readers: Creating the X-Men, How Comic Books Come to Life (Level 4: Proficient Readers)\\\";James Buckley\"   \n",
       "\n",
       "       Book-Author Year-Of-Publication  \\\n",
       "209538  2000        DK Publishing Inc    \n",
       "221678  2000        DK Publishing Inc    \n",
       "\n",
       "                                                           Publisher  \\\n",
       "209538  http://images.amazon.com/images/P/078946697X.01.THUMBZZZ.jpg   \n",
       "221678  http://images.amazon.com/images/P/0789466953.01.THUMBZZZ.jpg   \n",
       "\n",
       "                                                         Image-URL-S  \\\n",
       "209538  http://images.amazon.com/images/P/078946697X.01.MZZZZZZZ.jpg   \n",
       "221678  http://images.amazon.com/images/P/0789466953.01.MZZZZZZZ.jpg   \n",
       "\n",
       "                                                         Image-URL-M  \\\n",
       "209538  http://images.amazon.com/images/P/078946697X.01.LZZZZZZZ.jpg   \n",
       "221678  http://images.amazon.com/images/P/0789466953.01.LZZZZZZZ.jpg   \n",
       "\n",
       "       Image-URL-L  \n",
       "209538  NaN         \n",
       "221678  NaN         "
      ]
     },
     "execution_count": 42,
     "metadata": {},
     "output_type": "execute_result"
    }
   ],
   "source": [
    "#Display of year where the strings are present 'DK Publishing Inc'\n",
    "book.loc[books['Year-Of-Publication'] =='DK Publishing Inc']"
   ]
  },
  {
   "cell_type": "code",
   "execution_count": 43,
   "id": "bccc1131",
   "metadata": {
    "id": "P3NvvEWiam2X"
   },
   "outputs": [],
   "source": [
    "#In above two records almost all columns are mismatched \n",
    "#Hence correcting the values \n",
    "book.at[209538,'Year-Of-Publication']='2000'\n",
    "book.at[209538,'Book-Author']='Michael Teitelbaum'\n",
    "book.at[209538,'Publisher']='DK Publishing Inc'"
   ]
  },
  {
   "cell_type": "code",
   "execution_count": 44,
   "id": "d06047ee",
   "metadata": {
    "colab": {
     "base_uri": "https://localhost:8080/",
     "height": 159
    },
    "id": "qOveq0Kxamru",
    "outputId": "4fabd208-c43d-428f-d9ce-432a6eb4a88a"
   },
   "outputs": [
    {
     "data": {
      "text/html": [
       "<div>\n",
       "<style scoped>\n",
       "    .dataframe tbody tr th:only-of-type {\n",
       "        vertical-align: middle;\n",
       "    }\n",
       "\n",
       "    .dataframe tbody tr th {\n",
       "        vertical-align: top;\n",
       "    }\n",
       "\n",
       "    .dataframe thead th {\n",
       "        text-align: right;\n",
       "    }\n",
       "</style>\n",
       "<table border=\"1\" class=\"dataframe\">\n",
       "  <thead>\n",
       "    <tr style=\"text-align: right;\">\n",
       "      <th></th>\n",
       "      <th>ISBN</th>\n",
       "      <th>Book-Title</th>\n",
       "      <th>Book-Author</th>\n",
       "      <th>Year-Of-Publication</th>\n",
       "      <th>Publisher</th>\n",
       "      <th>Image-URL-S</th>\n",
       "      <th>Image-URL-M</th>\n",
       "      <th>Image-URL-L</th>\n",
       "    </tr>\n",
       "  </thead>\n",
       "  <tbody>\n",
       "    <tr>\n",
       "      <th>209538</th>\n",
       "      <td>078946697X</td>\n",
       "      <td>DK Readers: Creating the X-Men, How It All Began (Level 4: Proficient Readers)\\\";Michael Teitelbaum\"</td>\n",
       "      <td>Michael Teitelbaum</td>\n",
       "      <td>2000</td>\n",
       "      <td>DK Publishing Inc</td>\n",
       "      <td>http://images.amazon.com/images/P/078946697X.01.MZZZZZZZ.jpg</td>\n",
       "      <td>http://images.amazon.com/images/P/078946697X.01.LZZZZZZZ.jpg</td>\n",
       "      <td>NaN</td>\n",
       "    </tr>\n",
       "  </tbody>\n",
       "</table>\n",
       "</div>"
      ],
      "text/plain": [
       "              ISBN  \\\n",
       "209538  078946697X   \n",
       "\n",
       "                                                                                                  Book-Title  \\\n",
       "209538  DK Readers: Creating the X-Men, How It All Began (Level 4: Proficient Readers)\\\";Michael Teitelbaum\"   \n",
       "\n",
       "               Book-Author Year-Of-Publication          Publisher  \\\n",
       "209538  Michael Teitelbaum  2000                DK Publishing Inc   \n",
       "\n",
       "                                                         Image-URL-S  \\\n",
       "209538  http://images.amazon.com/images/P/078946697X.01.MZZZZZZZ.jpg   \n",
       "\n",
       "                                                         Image-URL-M  \\\n",
       "209538  http://images.amazon.com/images/P/078946697X.01.LZZZZZZZ.jpg   \n",
       "\n",
       "       Image-URL-L  \n",
       "209538  NaN         "
      ]
     },
     "execution_count": 44,
     "metadata": {},
     "output_type": "execute_result"
    }
   ],
   "source": [
    "#Print the corrected record \n",
    "book.loc[[209538]]"
   ]
  },
  {
   "cell_type": "code",
   "execution_count": 45,
   "id": "ad5cd951",
   "metadata": {
    "id": "6B1pBkBJhceB"
   },
   "outputs": [],
   "source": [
    "#Correction of 221678 th record \n",
    "book.at[221678,'Year-Of-Publication']='2000'\n",
    "book.at[221678,'Book-Author']='James Buckley'\n",
    "book.at[221678,'Publisher']='DK Publishing Inc'"
   ]
  },
  {
   "cell_type": "code",
   "execution_count": 46,
   "id": "8d10192a",
   "metadata": {
    "colab": {
     "base_uri": "https://localhost:8080/",
     "height": 159
    },
    "id": "GzhKCsKZdgJK",
    "outputId": "c5502fb5-310e-4e1f-e365-9e7964e65577"
   },
   "outputs": [
    {
     "data": {
      "text/html": [
       "<div>\n",
       "<style scoped>\n",
       "    .dataframe tbody tr th:only-of-type {\n",
       "        vertical-align: middle;\n",
       "    }\n",
       "\n",
       "    .dataframe tbody tr th {\n",
       "        vertical-align: top;\n",
       "    }\n",
       "\n",
       "    .dataframe thead th {\n",
       "        text-align: right;\n",
       "    }\n",
       "</style>\n",
       "<table border=\"1\" class=\"dataframe\">\n",
       "  <thead>\n",
       "    <tr style=\"text-align: right;\">\n",
       "      <th></th>\n",
       "      <th>ISBN</th>\n",
       "      <th>Book-Title</th>\n",
       "      <th>Book-Author</th>\n",
       "      <th>Year-Of-Publication</th>\n",
       "      <th>Publisher</th>\n",
       "      <th>Image-URL-S</th>\n",
       "      <th>Image-URL-M</th>\n",
       "      <th>Image-URL-L</th>\n",
       "    </tr>\n",
       "  </thead>\n",
       "  <tbody>\n",
       "    <tr>\n",
       "      <th>221678</th>\n",
       "      <td>0789466953</td>\n",
       "      <td>DK Readers: Creating the X-Men, How Comic Books Come to Life (Level 4: Proficient Readers)\\\";James Buckley\"</td>\n",
       "      <td>James Buckley</td>\n",
       "      <td>2000</td>\n",
       "      <td>DK Publishing Inc</td>\n",
       "      <td>http://images.amazon.com/images/P/0789466953.01.MZZZZZZZ.jpg</td>\n",
       "      <td>http://images.amazon.com/images/P/0789466953.01.LZZZZZZZ.jpg</td>\n",
       "      <td>NaN</td>\n",
       "    </tr>\n",
       "  </tbody>\n",
       "</table>\n",
       "</div>"
      ],
      "text/plain": [
       "              ISBN  \\\n",
       "221678  0789466953   \n",
       "\n",
       "                                                                                                         Book-Title  \\\n",
       "221678  DK Readers: Creating the X-Men, How Comic Books Come to Life (Level 4: Proficient Readers)\\\";James Buckley\"   \n",
       "\n",
       "          Book-Author Year-Of-Publication          Publisher  \\\n",
       "221678  James Buckley  2000                DK Publishing Inc   \n",
       "\n",
       "                                                         Image-URL-S  \\\n",
       "221678  http://images.amazon.com/images/P/0789466953.01.MZZZZZZZ.jpg   \n",
       "\n",
       "                                                         Image-URL-M  \\\n",
       "221678  http://images.amazon.com/images/P/0789466953.01.LZZZZZZZ.jpg   \n",
       "\n",
       "       Image-URL-L  \n",
       "221678  NaN         "
      ]
     },
     "execution_count": 46,
     "metadata": {},
     "output_type": "execute_result"
    }
   ],
   "source": [
    "#Print the corrected record \n",
    "book.loc[[221678]]"
   ]
  },
  {
   "cell_type": "code",
   "execution_count": 47,
   "id": "a971e786",
   "metadata": {
    "colab": {
     "base_uri": "https://localhost:8080/",
     "height": 177
    },
    "id": "u2IooBoGX0XV",
    "outputId": "c9b5bca3-21ab-4075-93b2-6f0cfc36f539"
   },
   "outputs": [
    {
     "data": {
      "text/html": [
       "<div>\n",
       "<style scoped>\n",
       "    .dataframe tbody tr th:only-of-type {\n",
       "        vertical-align: middle;\n",
       "    }\n",
       "\n",
       "    .dataframe tbody tr th {\n",
       "        vertical-align: top;\n",
       "    }\n",
       "\n",
       "    .dataframe thead th {\n",
       "        text-align: right;\n",
       "    }\n",
       "</style>\n",
       "<table border=\"1\" class=\"dataframe\">\n",
       "  <thead>\n",
       "    <tr style=\"text-align: right;\">\n",
       "      <th></th>\n",
       "      <th>ISBN</th>\n",
       "      <th>Book-Title</th>\n",
       "      <th>Book-Author</th>\n",
       "      <th>Year-Of-Publication</th>\n",
       "      <th>Publisher</th>\n",
       "      <th>Image-URL-S</th>\n",
       "      <th>Image-URL-M</th>\n",
       "      <th>Image-URL-L</th>\n",
       "    </tr>\n",
       "  </thead>\n",
       "  <tbody>\n",
       "    <tr>\n",
       "      <th>220731</th>\n",
       "      <td>2070426769</td>\n",
       "      <td>Peuple du ciel, suivi de 'Les Bergers\\\";Jean-Marie Gustave Le ClÃ?Â©zio\"</td>\n",
       "      <td>2003</td>\n",
       "      <td>Gallimard</td>\n",
       "      <td>http://images.amazon.com/images/P/2070426769.01.THUMBZZZ.jpg</td>\n",
       "      <td>http://images.amazon.com/images/P/2070426769.01.MZZZZZZZ.jpg</td>\n",
       "      <td>http://images.amazon.com/images/P/2070426769.01.LZZZZZZZ.jpg</td>\n",
       "      <td>NaN</td>\n",
       "    </tr>\n",
       "  </tbody>\n",
       "</table>\n",
       "</div>"
      ],
      "text/plain": [
       "              ISBN  \\\n",
       "220731  2070426769   \n",
       "\n",
       "                                                                      Book-Title  \\\n",
       "220731  Peuple du ciel, suivi de 'Les Bergers\\\";Jean-Marie Gustave Le ClÃ?Â©zio\"   \n",
       "\n",
       "       Book-Author Year-Of-Publication  \\\n",
       "220731  2003        Gallimard            \n",
       "\n",
       "                                                           Publisher  \\\n",
       "220731  http://images.amazon.com/images/P/2070426769.01.THUMBZZZ.jpg   \n",
       "\n",
       "                                                         Image-URL-S  \\\n",
       "220731  http://images.amazon.com/images/P/2070426769.01.MZZZZZZZ.jpg   \n",
       "\n",
       "                                                         Image-URL-M  \\\n",
       "220731  http://images.amazon.com/images/P/2070426769.01.LZZZZZZZ.jpg   \n",
       "\n",
       "       Image-URL-L  \n",
       "220731  NaN         "
      ]
     },
     "execution_count": 47,
     "metadata": {},
     "output_type": "execute_result"
    }
   ],
   "source": [
    "#exploring Another wrong year gallimard in year column\n",
    "book.loc[books['Year-Of-Publication'] =='Gallimard']"
   ]
  },
  {
   "cell_type": "code",
   "execution_count": 48,
   "id": "819b1832",
   "metadata": {
    "id": "1uuWhscFiuNe"
   },
   "outputs": [],
   "source": [
    "#Correcting the same record\n",
    "book.at[220731,'Year-Of-Publication']='2003'\n",
    "book.at[220731,'Book-Author']='Jean-Marie Gustave Le ClÃƒ?Ã‚Â©zio\"'\n",
    "book.at[220731,'Publisher']='Gallimard'\n",
    "book.at[220731,'Book-Title']='Peuple du ciel, suivi de Les Bergers'"
   ]
  },
  {
   "cell_type": "code",
   "execution_count": 49,
   "id": "b564bb7a",
   "metadata": {
    "colab": {
     "base_uri": "https://localhost:8080/",
     "height": 81
    },
    "id": "AU8zvUaxitoJ",
    "outputId": "2a56b379-1ff2-46d3-a43d-7b57fe207153"
   },
   "outputs": [
    {
     "data": {
      "text/html": [
       "<div>\n",
       "<style scoped>\n",
       "    .dataframe tbody tr th:only-of-type {\n",
       "        vertical-align: middle;\n",
       "    }\n",
       "\n",
       "    .dataframe tbody tr th {\n",
       "        vertical-align: top;\n",
       "    }\n",
       "\n",
       "    .dataframe thead th {\n",
       "        text-align: right;\n",
       "    }\n",
       "</style>\n",
       "<table border=\"1\" class=\"dataframe\">\n",
       "  <thead>\n",
       "    <tr style=\"text-align: right;\">\n",
       "      <th></th>\n",
       "      <th>ISBN</th>\n",
       "      <th>Book-Title</th>\n",
       "      <th>Book-Author</th>\n",
       "      <th>Year-Of-Publication</th>\n",
       "      <th>Publisher</th>\n",
       "      <th>Image-URL-S</th>\n",
       "      <th>Image-URL-M</th>\n",
       "      <th>Image-URL-L</th>\n",
       "    </tr>\n",
       "  </thead>\n",
       "  <tbody>\n",
       "    <tr>\n",
       "      <th>220731</th>\n",
       "      <td>2070426769</td>\n",
       "      <td>Peuple du ciel, suivi de Les Bergers</td>\n",
       "      <td>Jean-Marie Gustave Le ClÃƒ?Ã‚Â©zio\"</td>\n",
       "      <td>2003</td>\n",
       "      <td>Gallimard</td>\n",
       "      <td>http://images.amazon.com/images/P/2070426769.01.MZZZZZZZ.jpg</td>\n",
       "      <td>http://images.amazon.com/images/P/2070426769.01.LZZZZZZZ.jpg</td>\n",
       "      <td>NaN</td>\n",
       "    </tr>\n",
       "  </tbody>\n",
       "</table>\n",
       "</div>"
      ],
      "text/plain": [
       "              ISBN                            Book-Title  \\\n",
       "220731  2070426769  Peuple du ciel, suivi de Les Bergers   \n",
       "\n",
       "                                Book-Author Year-Of-Publication  Publisher  \\\n",
       "220731  Jean-Marie Gustave Le ClÃƒ?Ã‚Â©zio\"  2003                Gallimard   \n",
       "\n",
       "                                                         Image-URL-S  \\\n",
       "220731  http://images.amazon.com/images/P/2070426769.01.MZZZZZZZ.jpg   \n",
       "\n",
       "                                                         Image-URL-M  \\\n",
       "220731  http://images.amazon.com/images/P/2070426769.01.LZZZZZZZ.jpg   \n",
       "\n",
       "       Image-URL-L  \n",
       "220731  NaN         "
      ]
     },
     "execution_count": 49,
     "metadata": {},
     "output_type": "execute_result"
    }
   ],
   "source": [
    "#Print the corrected record \n",
    "book.loc[[220731]]"
   ]
  },
  {
   "cell_type": "code",
   "execution_count": 50,
   "id": "729b6762",
   "metadata": {
    "colab": {
     "base_uri": "https://localhost:8080/",
     "height": 81
    },
    "id": "dYbGnyN5YVQ9",
    "outputId": "f093bdf4-656f-423e-ac2a-1107805dc805"
   },
   "outputs": [
    {
     "data": {
      "text/html": [
       "<div>\n",
       "<style scoped>\n",
       "    .dataframe tbody tr th:only-of-type {\n",
       "        vertical-align: middle;\n",
       "    }\n",
       "\n",
       "    .dataframe tbody tr th {\n",
       "        vertical-align: top;\n",
       "    }\n",
       "\n",
       "    .dataframe thead th {\n",
       "        text-align: right;\n",
       "    }\n",
       "</style>\n",
       "<table border=\"1\" class=\"dataframe\">\n",
       "  <thead>\n",
       "    <tr style=\"text-align: right;\">\n",
       "      <th></th>\n",
       "      <th>ISBN</th>\n",
       "      <th>Book-Title</th>\n",
       "      <th>Book-Author</th>\n",
       "      <th>Year-Of-Publication</th>\n",
       "      <th>Publisher</th>\n",
       "      <th>Image-URL-S</th>\n",
       "      <th>Image-URL-M</th>\n",
       "      <th>Image-URL-L</th>\n",
       "    </tr>\n",
       "  </thead>\n",
       "  <tbody>\n",
       "    <tr>\n",
       "      <th>255409</th>\n",
       "      <td>068471809X</td>\n",
       "      <td>To Have and Have Not</td>\n",
       "      <td>Ernest Hemingway</td>\n",
       "      <td>2037</td>\n",
       "      <td>Simon &amp;amp; Schuster</td>\n",
       "      <td>http://images.amazon.com/images/P/068471809X.01.THUMBZZZ.jpg</td>\n",
       "      <td>http://images.amazon.com/images/P/068471809X.01.MZZZZZZZ.jpg</td>\n",
       "      <td>http://images.amazon.com/images/P/068471809X.01.LZZZZZZZ.jpg</td>\n",
       "    </tr>\n",
       "  </tbody>\n",
       "</table>\n",
       "</div>"
      ],
      "text/plain": [
       "              ISBN            Book-Title       Book-Author  \\\n",
       "255409  068471809X  To Have and Have Not  Ernest Hemingway   \n",
       "\n",
       "       Year-Of-Publication             Publisher  \\\n",
       "255409  2037                Simon &amp; Schuster   \n",
       "\n",
       "                                                         Image-URL-S  \\\n",
       "255409  http://images.amazon.com/images/P/068471809X.01.THUMBZZZ.jpg   \n",
       "\n",
       "                                                         Image-URL-M  \\\n",
       "255409  http://images.amazon.com/images/P/068471809X.01.MZZZZZZZ.jpg   \n",
       "\n",
       "                                                         Image-URL-L  \n",
       "255409  http://images.amazon.com/images/P/068471809X.01.LZZZZZZZ.jpg  "
      ]
     },
     "execution_count": 50,
     "metadata": {},
     "output_type": "execute_result"
    }
   ],
   "source": [
    "book.loc[books['Year-Of-Publication'] =='2037']"
   ]
  },
  {
   "cell_type": "code",
   "execution_count": 51,
   "id": "b5a643cb",
   "metadata": {
    "id": "WS9jRYwtaYqd"
   },
   "outputs": [],
   "source": [
    "## Converting year of publication in Numbers\n",
    "book['Year-Of-Publication'] = book['Year-Of-Publication'].astype(int)"
   ]
  },
  {
   "cell_type": "code",
   "execution_count": 52,
   "id": "f336c643",
   "metadata": {
    "colab": {
     "base_uri": "https://localhost:8080/",
     "height": 1000
    },
    "id": "pRS_NqPIkeml",
    "outputId": "ab74785a-fe35-4a3e-8a33-5a6b77218a51"
   },
   "outputs": [
    {
     "data": {
      "text/plain": [
       "<AxesSubplot:>"
      ]
     },
     "execution_count": 52,
     "metadata": {},
     "output_type": "execute_result"
    },
    {
     "data": {
      "image/png": "[encoded data removed]",
      "text/plain": [
       "<Figure size 864x1512 with 1 Axes>"
      ]
     },
     "metadata": {
      "needs_background": "light"
     },
     "output_type": "display_data"
    }
   ],
   "source": [
    "#plotting value counts of year of publication\n",
    "fig=plt.figure(figsize=(12,21))\n",
    "book[\"Year-Of-Publication\"].value_counts().plot(kind='barh')"
   ]
  },
  {
   "cell_type": "code",
   "execution_count": 53,
   "id": "b8d08286",
   "metadata": {
    "id": "fG3wkKNtj970"
   },
   "outputs": [],
   "source": [
    "#Hence max data year with counts is 2002 \n",
    "#Also 2037 year is also present so we will replace all >2022 with 2021\n",
    "#And with 0 as 2002\n",
    "book[\"Year-Of-Publication\"] = np.where(book[\"Year-Of-Publication\"] >2022,2021,book['Year-Of-Publication'])\n",
    "book[\"Year-Of-Publication\"] = np.where(book[\"Year-Of-Publication\"] ==0,2002,book['Year-Of-Publication'])"
   ]
  },
  {
   "cell_type": "code",
   "execution_count": 54,
   "id": "ecb2ef1b",
   "metadata": {
    "colab": {
     "base_uri": "https://localhost:8080/",
     "height": 1000
    },
    "id": "4oXgD1N-mFET",
    "outputId": "d9ab3ce0-00b9-4d87-a81c-9a196466f9a5"
   },
   "outputs": [
    {
     "data": {
      "text/plain": [
       "<AxesSubplot:>"
      ]
     },
     "execution_count": 54,
     "metadata": {},
     "output_type": "execute_result"
    },
    {
     "data": {
      "image/png": "[encoded data removed]",
      "text/plain": [
       "<Figure size 864x1440 with 1 Axes>"
      ]
     },
     "metadata": {
      "needs_background": "light"
     },
     "output_type": "display_data"
    }
   ],
   "source": [
    "fig=plt.figure(figsize=(12,20))\n",
    "book[\"Year-Of-Publication\"].value_counts().plot(kind='barh')"
   ]
  },
  {
   "cell_type": "code",
   "execution_count": 55,
   "id": "1a2d044e",
   "metadata": {
    "colab": {
     "base_uri": "https://localhost:8080/",
     "height": 424
    },
    "id": "wmSFju7FmMp6",
    "outputId": "50240425-ab10-4ec2-eb99-4960caac4ea8"
   },
   "outputs": [
    {
     "data": {
      "text/html": [
       "<div>\n",
       "<style scoped>\n",
       "    .dataframe tbody tr th:only-of-type {\n",
       "        vertical-align: middle;\n",
       "    }\n",
       "\n",
       "    .dataframe tbody tr th {\n",
       "        vertical-align: top;\n",
       "    }\n",
       "\n",
       "    .dataframe thead th {\n",
       "        text-align: right;\n",
       "    }\n",
       "</style>\n",
       "<table border=\"1\" class=\"dataframe\">\n",
       "  <thead>\n",
       "    <tr style=\"text-align: right;\">\n",
       "      <th></th>\n",
       "      <th>User-ID</th>\n",
       "      <th>ISBN</th>\n",
       "      <th>Book-Rating</th>\n",
       "    </tr>\n",
       "  </thead>\n",
       "  <tbody>\n",
       "    <tr>\n",
       "      <th>0</th>\n",
       "      <td>276725</td>\n",
       "      <td>034545104X</td>\n",
       "      <td>0</td>\n",
       "    </tr>\n",
       "    <tr>\n",
       "      <th>1</th>\n",
       "      <td>276726</td>\n",
       "      <td>0155061224</td>\n",
       "      <td>5</td>\n",
       "    </tr>\n",
       "    <tr>\n",
       "      <th>2</th>\n",
       "      <td>276727</td>\n",
       "      <td>0446520802</td>\n",
       "      <td>0</td>\n",
       "    </tr>\n",
       "    <tr>\n",
       "      <th>3</th>\n",
       "      <td>276729</td>\n",
       "      <td>052165615X</td>\n",
       "      <td>3</td>\n",
       "    </tr>\n",
       "    <tr>\n",
       "      <th>4</th>\n",
       "      <td>276729</td>\n",
       "      <td>0521795028</td>\n",
       "      <td>6</td>\n",
       "    </tr>\n",
       "    <tr>\n",
       "      <th>...</th>\n",
       "      <td>...</td>\n",
       "      <td>...</td>\n",
       "      <td>...</td>\n",
       "    </tr>\n",
       "    <tr>\n",
       "      <th>1149775</th>\n",
       "      <td>276704</td>\n",
       "      <td>1563526298</td>\n",
       "      <td>9</td>\n",
       "    </tr>\n",
       "    <tr>\n",
       "      <th>1149776</th>\n",
       "      <td>276706</td>\n",
       "      <td>0679447156</td>\n",
       "      <td>0</td>\n",
       "    </tr>\n",
       "    <tr>\n",
       "      <th>1149777</th>\n",
       "      <td>276709</td>\n",
       "      <td>0515107662</td>\n",
       "      <td>10</td>\n",
       "    </tr>\n",
       "    <tr>\n",
       "      <th>1149778</th>\n",
       "      <td>276721</td>\n",
       "      <td>0590442449</td>\n",
       "      <td>10</td>\n",
       "    </tr>\n",
       "    <tr>\n",
       "      <th>1149779</th>\n",
       "      <td>276723</td>\n",
       "      <td>05162443314</td>\n",
       "      <td>8</td>\n",
       "    </tr>\n",
       "  </tbody>\n",
       "</table>\n",
       "<p>1149780 rows × 3 columns</p>\n",
       "</div>"
      ],
      "text/plain": [
       "         User-ID         ISBN  Book-Rating\n",
       "0        276725   034545104X   0          \n",
       "1        276726   0155061224   5          \n",
       "2        276727   0446520802   0          \n",
       "3        276729   052165615X   3          \n",
       "4        276729   0521795028   6          \n",
       "...         ...          ...  ..          \n",
       "1149775  276704   1563526298   9          \n",
       "1149776  276706   0679447156   0          \n",
       "1149777  276709   0515107662   10         \n",
       "1149778  276721   0590442449   10         \n",
       "1149779  276723   05162443314  8          \n",
       "\n",
       "[1149780 rows x 3 columns]"
      ]
     },
     "execution_count": 55,
     "metadata": {},
     "output_type": "execute_result"
    }
   ],
   "source": [
    "#Importing ratings dataset\n",
    "rating=pd.read_csv(\"Ratings.csv\")\n",
    "rating"
   ]
  },
  {
   "cell_type": "code",
   "execution_count": 56,
   "id": "3790c299",
   "metadata": {
    "colab": {
     "base_uri": "https://localhost:8080/"
    },
    "id": "TOB89ULC7K7g",
    "outputId": "d84a98ca-ed1b-4c91-f10b-38dfb2ac1f4c"
   },
   "outputs": [
    {
     "name": "stdout",
     "output_type": "stream",
     "text": [
      "<class 'pandas.core.frame.DataFrame'>\n",
      "RangeIndex: 1149780 entries, 0 to 1149779\n",
      "Data columns (total 3 columns):\n",
      " #   Column       Non-Null Count    Dtype \n",
      "---  ------       --------------    ----- \n",
      " 0   User-ID      1149780 non-null  int64 \n",
      " 1   ISBN         1149780 non-null  object\n",
      " 2   Book-Rating  1149780 non-null  int64 \n",
      "dtypes: int64(2), object(1)\n",
      "memory usage: 26.3+ MB\n"
     ]
    }
   ],
   "source": [
    "#Checking the Dataset values \n",
    "rating.info()"
   ]
  },
  {
   "cell_type": "code",
   "execution_count": 57,
   "id": "ae19db16",
   "metadata": {
    "colab": {
     "base_uri": "https://localhost:8080/"
    },
    "id": "28yUFrOd7UdB",
    "outputId": "33ba42be-2acb-4aaf-aa68-c637b251a9d4"
   },
   "outputs": [
    {
     "data": {
      "text/plain": [
       "User-ID        0\n",
       "ISBN           0\n",
       "Book-Rating    0\n",
       "dtype: int64"
      ]
     },
     "execution_count": 57,
     "metadata": {},
     "output_type": "execute_result"
    }
   ],
   "source": [
    "#Checking for Null values \n",
    "rating.isnull().sum()"
   ]
  },
  {
   "cell_type": "code",
   "execution_count": 58,
   "id": "52b7473c",
   "metadata": {
    "colab": {
     "base_uri": "https://localhost:8080/"
    },
    "id": "fj_cZhTQ9SC6",
    "outputId": "bac936a6-ffa3-4674-aae4-6fdcd9edfe2e"
   },
   "outputs": [
    {
     "data": {
      "text/plain": [
       "0     716109\n",
       "8     103736\n",
       "10    78610 \n",
       "7     76457 \n",
       "9     67541 \n",
       "5     50974 \n",
       "6     36924 \n",
       "4     8904  \n",
       "3     5996  \n",
       "2     2759  \n",
       "1     1770  \n",
       "Name: Book-Rating, dtype: int64"
      ]
     },
     "execution_count": 58,
     "metadata": {},
     "output_type": "execute_result"
    }
   ],
   "source": [
    "#Checking Book Ratings Value counts \n",
    "rating['Book-Rating'].value_counts()"
   ]
  },
  {
   "cell_type": "code",
   "execution_count": 59,
   "id": "c997b5ec",
   "metadata": {
    "colab": {
     "base_uri": "https://localhost:8080/",
     "height": 514
    },
    "id": "L2lJOXEmSeA_",
    "outputId": "1f7cdb5f-a697-4be5-c3a1-96098974d8ad"
   },
   "outputs": [
    {
     "data": {
      "text/plain": [
       "<AxesSubplot:xlabel='Book-Rating', ylabel='count'>"
      ]
     },
     "execution_count": 59,
     "metadata": {},
     "output_type": "execute_result"
    },
    {
     "data": {
      "image/png": "[encoded data removed]",
      "text/plain": [
       "<Figure size 720x576 with 1 Axes>"
      ]
     },
     "metadata": {
      "needs_background": "light"
     },
     "output_type": "display_data"
    }
   ],
   "source": [
    "#Plotting Book ratings value counts for getting more idea about data\n",
    "plt.figure(figsize=(10,8))\n",
    "sns.countplot(x=\"Book-Rating\", data=rating)"
   ]
  },
  {
   "cell_type": "code",
   "execution_count": 60,
   "id": "9aeef086",
   "metadata": {
    "id": "gfx6bNzH7dWp"
   },
   "outputs": [],
   "source": [
    "#So we found out from above that '0' ratings have more data records compartively\n",
    "#As there is no need for data cleaning in ratings dataset \n",
    "#Hence merging books and ratings dataset \n",
    "data1=pd.merge(rating,book,on=['ISBN'],how='inner')"
   ]
  },
  {
   "cell_type": "code",
   "execution_count": 61,
   "id": "c24506c1",
   "metadata": {
    "colab": {
     "base_uri": "https://localhost:8080/",
     "height": 572
    },
    "id": "oaaRLPXv-OXx",
    "outputId": "199fcdd6-2fe1-426b-8f04-26b23b8e6c6b"
   },
   "outputs": [
    {
     "data": {
      "text/html": [
       "<div>\n",
       "<style scoped>\n",
       "    .dataframe tbody tr th:only-of-type {\n",
       "        vertical-align: middle;\n",
       "    }\n",
       "\n",
       "    .dataframe tbody tr th {\n",
       "        vertical-align: top;\n",
       "    }\n",
       "\n",
       "    .dataframe thead th {\n",
       "        text-align: right;\n",
       "    }\n",
       "</style>\n",
       "<table border=\"1\" class=\"dataframe\">\n",
       "  <thead>\n",
       "    <tr style=\"text-align: right;\">\n",
       "      <th></th>\n",
       "      <th>User-ID</th>\n",
       "      <th>ISBN</th>\n",
       "      <th>Book-Rating</th>\n",
       "      <th>Book-Title</th>\n",
       "      <th>Book-Author</th>\n",
       "      <th>Year-Of-Publication</th>\n",
       "      <th>Publisher</th>\n",
       "      <th>Image-URL-S</th>\n",
       "      <th>Image-URL-M</th>\n",
       "      <th>Image-URL-L</th>\n",
       "    </tr>\n",
       "  </thead>\n",
       "  <tbody>\n",
       "    <tr>\n",
       "      <th>0</th>\n",
       "      <td>276725</td>\n",
       "      <td>034545104X</td>\n",
       "      <td>0</td>\n",
       "      <td>Flesh Tones: A Novel</td>\n",
       "      <td>M. J. Rose</td>\n",
       "      <td>2002</td>\n",
       "      <td>Ballantine Books</td>\n",
       "      <td>http://images.amazon.com/images/P/034545104X.01.THUMBZZZ.jpg</td>\n",
       "      <td>http://images.amazon.com/images/P/034545104X.01.MZZZZZZZ.jpg</td>\n",
       "      <td>http://images.amazon.com/images/P/034545104X.01.LZZZZZZZ.jpg</td>\n",
       "    </tr>\n",
       "    <tr>\n",
       "      <th>1</th>\n",
       "      <td>2313</td>\n",
       "      <td>034545104X</td>\n",
       "      <td>5</td>\n",
       "      <td>Flesh Tones: A Novel</td>\n",
       "      <td>M. J. Rose</td>\n",
       "      <td>2002</td>\n",
       "      <td>Ballantine Books</td>\n",
       "      <td>http://images.amazon.com/images/P/034545104X.01.THUMBZZZ.jpg</td>\n",
       "      <td>http://images.amazon.com/images/P/034545104X.01.MZZZZZZZ.jpg</td>\n",
       "      <td>http://images.amazon.com/images/P/034545104X.01.LZZZZZZZ.jpg</td>\n",
       "    </tr>\n",
       "    <tr>\n",
       "      <th>2</th>\n",
       "      <td>6543</td>\n",
       "      <td>034545104X</td>\n",
       "      <td>0</td>\n",
       "      <td>Flesh Tones: A Novel</td>\n",
       "      <td>M. J. Rose</td>\n",
       "      <td>2002</td>\n",
       "      <td>Ballantine Books</td>\n",
       "      <td>http://images.amazon.com/images/P/034545104X.01.THUMBZZZ.jpg</td>\n",
       "      <td>http://images.amazon.com/images/P/034545104X.01.MZZZZZZZ.jpg</td>\n",
       "      <td>http://images.amazon.com/images/P/034545104X.01.LZZZZZZZ.jpg</td>\n",
       "    </tr>\n",
       "    <tr>\n",
       "      <th>3</th>\n",
       "      <td>8680</td>\n",
       "      <td>034545104X</td>\n",
       "      <td>5</td>\n",
       "      <td>Flesh Tones: A Novel</td>\n",
       "      <td>M. J. Rose</td>\n",
       "      <td>2002</td>\n",
       "      <td>Ballantine Books</td>\n",
       "      <td>http://images.amazon.com/images/P/034545104X.01.THUMBZZZ.jpg</td>\n",
       "      <td>http://images.amazon.com/images/P/034545104X.01.MZZZZZZZ.jpg</td>\n",
       "      <td>http://images.amazon.com/images/P/034545104X.01.LZZZZZZZ.jpg</td>\n",
       "    </tr>\n",
       "    <tr>\n",
       "      <th>4</th>\n",
       "      <td>10314</td>\n",
       "      <td>034545104X</td>\n",
       "      <td>9</td>\n",
       "      <td>Flesh Tones: A Novel</td>\n",
       "      <td>M. J. Rose</td>\n",
       "      <td>2002</td>\n",
       "      <td>Ballantine Books</td>\n",
       "      <td>http://images.amazon.com/images/P/034545104X.01.THUMBZZZ.jpg</td>\n",
       "      <td>http://images.amazon.com/images/P/034545104X.01.MZZZZZZZ.jpg</td>\n",
       "      <td>http://images.amazon.com/images/P/034545104X.01.LZZZZZZZ.jpg</td>\n",
       "    </tr>\n",
       "    <tr>\n",
       "      <th>...</th>\n",
       "      <td>...</td>\n",
       "      <td>...</td>\n",
       "      <td>...</td>\n",
       "      <td>...</td>\n",
       "      <td>...</td>\n",
       "      <td>...</td>\n",
       "      <td>...</td>\n",
       "      <td>...</td>\n",
       "      <td>...</td>\n",
       "      <td>...</td>\n",
       "    </tr>\n",
       "    <tr>\n",
       "      <th>1031131</th>\n",
       "      <td>276688</td>\n",
       "      <td>0517145553</td>\n",
       "      <td>0</td>\n",
       "      <td>Mostly Harmless</td>\n",
       "      <td>Douglas Adams</td>\n",
       "      <td>1995</td>\n",
       "      <td>Random House Value Pub</td>\n",
       "      <td>http://images.amazon.com/images/P/0517145553.01.THUMBZZZ.jpg</td>\n",
       "      <td>http://images.amazon.com/images/P/0517145553.01.MZZZZZZZ.jpg</td>\n",
       "      <td>http://images.amazon.com/images/P/0517145553.01.LZZZZZZZ.jpg</td>\n",
       "    </tr>\n",
       "    <tr>\n",
       "      <th>1031132</th>\n",
       "      <td>276688</td>\n",
       "      <td>1575660792</td>\n",
       "      <td>7</td>\n",
       "      <td>Gray Matter</td>\n",
       "      <td>Shirley Kennett</td>\n",
       "      <td>1996</td>\n",
       "      <td>Kensington Publishing Corporation</td>\n",
       "      <td>http://images.amazon.com/images/P/1575660792.01.THUMBZZZ.jpg</td>\n",
       "      <td>http://images.amazon.com/images/P/1575660792.01.MZZZZZZZ.jpg</td>\n",
       "      <td>http://images.amazon.com/images/P/1575660792.01.LZZZZZZZ.jpg</td>\n",
       "    </tr>\n",
       "    <tr>\n",
       "      <th>1031133</th>\n",
       "      <td>276690</td>\n",
       "      <td>0590907301</td>\n",
       "      <td>0</td>\n",
       "      <td>Triplet Trouble and the Class Trip (Triplet Trouble)</td>\n",
       "      <td>Debbie Dadey</td>\n",
       "      <td>1997</td>\n",
       "      <td>Apple</td>\n",
       "      <td>http://images.amazon.com/images/P/0590907301.01.THUMBZZZ.jpg</td>\n",
       "      <td>http://images.amazon.com/images/P/0590907301.01.MZZZZZZZ.jpg</td>\n",
       "      <td>http://images.amazon.com/images/P/0590907301.01.LZZZZZZZ.jpg</td>\n",
       "    </tr>\n",
       "    <tr>\n",
       "      <th>1031134</th>\n",
       "      <td>276704</td>\n",
       "      <td>0679752714</td>\n",
       "      <td>0</td>\n",
       "      <td>A Desert of Pure Feeling (Vintage Contemporaries)</td>\n",
       "      <td>Judith Freeman</td>\n",
       "      <td>1997</td>\n",
       "      <td>Vintage Books USA</td>\n",
       "      <td>http://images.amazon.com/images/P/0679752714.01.THUMBZZZ.jpg</td>\n",
       "      <td>http://images.amazon.com/images/P/0679752714.01.MZZZZZZZ.jpg</td>\n",
       "      <td>http://images.amazon.com/images/P/0679752714.01.LZZZZZZZ.jpg</td>\n",
       "    </tr>\n",
       "    <tr>\n",
       "      <th>1031135</th>\n",
       "      <td>276704</td>\n",
       "      <td>0806917695</td>\n",
       "      <td>5</td>\n",
       "      <td>Perplexing Lateral Thinking Puzzles: Scholastic Edition</td>\n",
       "      <td>Paul Sloane</td>\n",
       "      <td>1997</td>\n",
       "      <td>Sterling Publishing</td>\n",
       "      <td>http://images.amazon.com/images/P/0806917695.01.THUMBZZZ.jpg</td>\n",
       "      <td>http://images.amazon.com/images/P/0806917695.01.MZZZZZZZ.jpg</td>\n",
       "      <td>http://images.amazon.com/images/P/0806917695.01.LZZZZZZZ.jpg</td>\n",
       "    </tr>\n",
       "  </tbody>\n",
       "</table>\n",
       "<p>1031136 rows × 10 columns</p>\n",
       "</div>"
      ],
      "text/plain": [
       "         User-ID        ISBN  Book-Rating  \\\n",
       "0        276725   034545104X  0             \n",
       "1        2313     034545104X  5             \n",
       "2        6543     034545104X  0             \n",
       "3        8680     034545104X  5             \n",
       "4        10314    034545104X  9             \n",
       "...        ...           ... ..             \n",
       "1031131  276688   0517145553  0             \n",
       "1031132  276688   1575660792  7             \n",
       "1031133  276690   0590907301  0             \n",
       "1031134  276704   0679752714  0             \n",
       "1031135  276704   0806917695  5             \n",
       "\n",
       "                                                      Book-Title  \\\n",
       "0        Flesh Tones: A Novel                                      \n",
       "1        Flesh Tones: A Novel                                      \n",
       "2        Flesh Tones: A Novel                                      \n",
       "3        Flesh Tones: A Novel                                      \n",
       "4        Flesh Tones: A Novel                                      \n",
       "...                       ...                                      \n",
       "1031131  Mostly Harmless                                           \n",
       "1031132  Gray Matter                                               \n",
       "1031133  Triplet Trouble and the Class Trip (Triplet Trouble)      \n",
       "1031134  A Desert of Pure Feeling (Vintage Contemporaries)         \n",
       "1031135  Perplexing Lateral Thinking Puzzles: Scholastic Edition   \n",
       "\n",
       "             Book-Author  Year-Of-Publication  \\\n",
       "0        M. J. Rose       2002                  \n",
       "1        M. J. Rose       2002                  \n",
       "2        M. J. Rose       2002                  \n",
       "3        M. J. Rose       2002                  \n",
       "4        M. J. Rose       2002                  \n",
       "...             ...        ...                  \n",
       "1031131  Douglas Adams    1995                  \n",
       "1031132  Shirley Kennett  1996                  \n",
       "1031133  Debbie Dadey     1997                  \n",
       "1031134  Judith Freeman   1997                  \n",
       "1031135  Paul Sloane      1997                  \n",
       "\n",
       "                                 Publisher  \\\n",
       "0        Ballantine Books                    \n",
       "1        Ballantine Books                    \n",
       "2        Ballantine Books                    \n",
       "3        Ballantine Books                    \n",
       "4        Ballantine Books                    \n",
       "...                   ...                    \n",
       "1031131  Random House Value Pub              \n",
       "1031132  Kensington Publishing Corporation   \n",
       "1031133  Apple                               \n",
       "1031134  Vintage Books USA                   \n",
       "1031135  Sterling Publishing                 \n",
       "\n",
       "                                                          Image-URL-S  \\\n",
       "0        http://images.amazon.com/images/P/034545104X.01.THUMBZZZ.jpg   \n",
       "1        http://images.amazon.com/images/P/034545104X.01.THUMBZZZ.jpg   \n",
       "2        http://images.amazon.com/images/P/034545104X.01.THUMBZZZ.jpg   \n",
       "3        http://images.amazon.com/images/P/034545104X.01.THUMBZZZ.jpg   \n",
       "4        http://images.amazon.com/images/P/034545104X.01.THUMBZZZ.jpg   \n",
       "...                                                               ...   \n",
       "1031131  http://images.amazon.com/images/P/0517145553.01.THUMBZZZ.jpg   \n",
       "1031132  http://images.amazon.com/images/P/1575660792.01.THUMBZZZ.jpg   \n",
       "1031133  http://images.amazon.com/images/P/0590907301.01.THUMBZZZ.jpg   \n",
       "1031134  http://images.amazon.com/images/P/0679752714.01.THUMBZZZ.jpg   \n",
       "1031135  http://images.amazon.com/images/P/0806917695.01.THUMBZZZ.jpg   \n",
       "\n",
       "                                                          Image-URL-M  \\\n",
       "0        http://images.amazon.com/images/P/034545104X.01.MZZZZZZZ.jpg   \n",
       "1        http://images.amazon.com/images/P/034545104X.01.MZZZZZZZ.jpg   \n",
       "2        http://images.amazon.com/images/P/034545104X.01.MZZZZZZZ.jpg   \n",
       "3        http://images.amazon.com/images/P/034545104X.01.MZZZZZZZ.jpg   \n",
       "4        http://images.amazon.com/images/P/034545104X.01.MZZZZZZZ.jpg   \n",
       "...                                                               ...   \n",
       "1031131  http://images.amazon.com/images/P/0517145553.01.MZZZZZZZ.jpg   \n",
       "1031132  http://images.amazon.com/images/P/1575660792.01.MZZZZZZZ.jpg   \n",
       "1031133  http://images.amazon.com/images/P/0590907301.01.MZZZZZZZ.jpg   \n",
       "1031134  http://images.amazon.com/images/P/0679752714.01.MZZZZZZZ.jpg   \n",
       "1031135  http://images.amazon.com/images/P/0806917695.01.MZZZZZZZ.jpg   \n",
       "\n",
       "                                                          Image-URL-L  \n",
       "0        http://images.amazon.com/images/P/034545104X.01.LZZZZZZZ.jpg  \n",
       "1        http://images.amazon.com/images/P/034545104X.01.LZZZZZZZ.jpg  \n",
       "2        http://images.amazon.com/images/P/034545104X.01.LZZZZZZZ.jpg  \n",
       "3        http://images.amazon.com/images/P/034545104X.01.LZZZZZZZ.jpg  \n",
       "4        http://images.amazon.com/images/P/034545104X.01.LZZZZZZZ.jpg  \n",
       "...                                                               ...  \n",
       "1031131  http://images.amazon.com/images/P/0517145553.01.LZZZZZZZ.jpg  \n",
       "1031132  http://images.amazon.com/images/P/1575660792.01.LZZZZZZZ.jpg  \n",
       "1031133  http://images.amazon.com/images/P/0590907301.01.LZZZZZZZ.jpg  \n",
       "1031134  http://images.amazon.com/images/P/0679752714.01.LZZZZZZZ.jpg  \n",
       "1031135  http://images.amazon.com/images/P/0806917695.01.LZZZZZZZ.jpg  \n",
       "\n",
       "[1031136 rows x 10 columns]"
      ]
     },
     "execution_count": 61,
     "metadata": {},
     "output_type": "execute_result"
    }
   ],
   "source": [
    "data1"
   ]
  },
  {
   "cell_type": "code",
   "execution_count": 62,
   "id": "4772409b",
   "metadata": {
    "colab": {
     "base_uri": "https://localhost:8080/"
    },
    "id": "rBJqM7O--Q7x",
    "outputId": "e3f5c328-b65b-4a57-a185-25d225b913f4"
   },
   "outputs": [
    {
     "name": "stdout",
     "output_type": "stream",
     "text": [
      "<class 'pandas.core.frame.DataFrame'>\n",
      "Int64Index: 1031136 entries, 0 to 1031135\n",
      "Data columns (total 10 columns):\n",
      " #   Column               Non-Null Count    Dtype \n",
      "---  ------               --------------    ----- \n",
      " 0   User-ID              1031136 non-null  int64 \n",
      " 1   ISBN                 1031136 non-null  object\n",
      " 2   Book-Rating          1031136 non-null  int64 \n",
      " 3   Book-Title           1031136 non-null  object\n",
      " 4   Book-Author          1031135 non-null  object\n",
      " 5   Year-Of-Publication  1031136 non-null  int32 \n",
      " 6   Publisher            1031134 non-null  object\n",
      " 7   Image-URL-S          1031136 non-null  object\n",
      " 8   Image-URL-M          1031136 non-null  object\n",
      " 9   Image-URL-L          1031132 non-null  object\n",
      "dtypes: int32(1), int64(2), object(7)\n",
      "memory usage: 82.6+ MB\n"
     ]
    }
   ],
   "source": [
    "#Inspection of merged dataset data1\n",
    "data1.info()"
   ]
  },
  {
   "cell_type": "code",
   "execution_count": 63,
   "id": "f7fb453a",
   "metadata": {
    "colab": {
     "base_uri": "https://localhost:8080/",
     "height": 658
    },
    "id": "RVWa8Lu3BOPT",
    "outputId": "95d01525-855e-4f12-e772-17bec594683c"
   },
   "outputs": [
    {
     "data": {
      "text/html": [
       "<div>\n",
       "<style scoped>\n",
       "    .dataframe tbody tr th:only-of-type {\n",
       "        vertical-align: middle;\n",
       "    }\n",
       "\n",
       "    .dataframe tbody tr th {\n",
       "        vertical-align: top;\n",
       "    }\n",
       "\n",
       "    .dataframe thead th {\n",
       "        text-align: right;\n",
       "    }\n",
       "</style>\n",
       "<table border=\"1\" class=\"dataframe\">\n",
       "  <thead>\n",
       "    <tr style=\"text-align: right;\">\n",
       "      <th></th>\n",
       "      <th>User-ID</th>\n",
       "      <th>ISBN</th>\n",
       "      <th>Book-Rating</th>\n",
       "      <th>Book-Title</th>\n",
       "      <th>Book-Author</th>\n",
       "      <th>Year-Of-Publication</th>\n",
       "      <th>Publisher</th>\n",
       "      <th>Image-URL-S</th>\n",
       "      <th>Image-URL-M</th>\n",
       "      <th>Image-URL-L</th>\n",
       "      <th>Age</th>\n",
       "      <th>country</th>\n",
       "    </tr>\n",
       "  </thead>\n",
       "  <tbody>\n",
       "    <tr>\n",
       "      <th>0</th>\n",
       "      <td>276725</td>\n",
       "      <td>034545104X</td>\n",
       "      <td>0</td>\n",
       "      <td>Flesh Tones: A Novel</td>\n",
       "      <td>M. J. Rose</td>\n",
       "      <td>2002</td>\n",
       "      <td>Ballantine Books</td>\n",
       "      <td>http://images.amazon.com/images/P/034545104X.01.THUMBZZZ.jpg</td>\n",
       "      <td>http://images.amazon.com/images/P/034545104X.01.MZZZZZZZ.jpg</td>\n",
       "      <td>http://images.amazon.com/images/P/034545104X.01.LZZZZZZZ.jpg</td>\n",
       "      <td>34.0</td>\n",
       "      <td>usa</td>\n",
       "    </tr>\n",
       "    <tr>\n",
       "      <th>1</th>\n",
       "      <td>2313</td>\n",
       "      <td>034545104X</td>\n",
       "      <td>5</td>\n",
       "      <td>Flesh Tones: A Novel</td>\n",
       "      <td>M. J. Rose</td>\n",
       "      <td>2002</td>\n",
       "      <td>Ballantine Books</td>\n",
       "      <td>http://images.amazon.com/images/P/034545104X.01.THUMBZZZ.jpg</td>\n",
       "      <td>http://images.amazon.com/images/P/034545104X.01.MZZZZZZZ.jpg</td>\n",
       "      <td>http://images.amazon.com/images/P/034545104X.01.LZZZZZZZ.jpg</td>\n",
       "      <td>23.0</td>\n",
       "      <td>usa</td>\n",
       "    </tr>\n",
       "    <tr>\n",
       "      <th>2</th>\n",
       "      <td>2313</td>\n",
       "      <td>0812533550</td>\n",
       "      <td>9</td>\n",
       "      <td>Ender's Game (Ender Wiggins Saga (Paperback))</td>\n",
       "      <td>Orson Scott Card</td>\n",
       "      <td>1986</td>\n",
       "      <td>Tor Books</td>\n",
       "      <td>http://images.amazon.com/images/P/0812533550.01.THUMBZZZ.jpg</td>\n",
       "      <td>http://images.amazon.com/images/P/0812533550.01.MZZZZZZZ.jpg</td>\n",
       "      <td>http://images.amazon.com/images/P/0812533550.01.LZZZZZZZ.jpg</td>\n",
       "      <td>23.0</td>\n",
       "      <td>usa</td>\n",
       "    </tr>\n",
       "    <tr>\n",
       "      <th>3</th>\n",
       "      <td>2313</td>\n",
       "      <td>0679745580</td>\n",
       "      <td>8</td>\n",
       "      <td>In Cold Blood (Vintage International)</td>\n",
       "      <td>TRUMAN CAPOTE</td>\n",
       "      <td>1994</td>\n",
       "      <td>Vintage</td>\n",
       "      <td>http://images.amazon.com/images/P/0679745580.01.THUMBZZZ.jpg</td>\n",
       "      <td>http://images.amazon.com/images/P/0679745580.01.MZZZZZZZ.jpg</td>\n",
       "      <td>http://images.amazon.com/images/P/0679745580.01.LZZZZZZZ.jpg</td>\n",
       "      <td>23.0</td>\n",
       "      <td>usa</td>\n",
       "    </tr>\n",
       "    <tr>\n",
       "      <th>4</th>\n",
       "      <td>2313</td>\n",
       "      <td>0060173289</td>\n",
       "      <td>9</td>\n",
       "      <td>Divine Secrets of the Ya-Ya Sisterhood : A Novel</td>\n",
       "      <td>Rebecca Wells</td>\n",
       "      <td>1996</td>\n",
       "      <td>HarperCollins</td>\n",
       "      <td>http://images.amazon.com/images/P/0060173289.01.THUMBZZZ.jpg</td>\n",
       "      <td>http://images.amazon.com/images/P/0060173289.01.MZZZZZZZ.jpg</td>\n",
       "      <td>http://images.amazon.com/images/P/0060173289.01.LZZZZZZZ.jpg</td>\n",
       "      <td>23.0</td>\n",
       "      <td>usa</td>\n",
       "    </tr>\n",
       "    <tr>\n",
       "      <th>...</th>\n",
       "      <td>...</td>\n",
       "      <td>...</td>\n",
       "      <td>...</td>\n",
       "      <td>...</td>\n",
       "      <td>...</td>\n",
       "      <td>...</td>\n",
       "      <td>...</td>\n",
       "      <td>...</td>\n",
       "      <td>...</td>\n",
       "      <td>...</td>\n",
       "      <td>...</td>\n",
       "      <td>...</td>\n",
       "    </tr>\n",
       "    <tr>\n",
       "      <th>1031131</th>\n",
       "      <td>276442</td>\n",
       "      <td>2862749796</td>\n",
       "      <td>7</td>\n",
       "      <td>Le Huit</td>\n",
       "      <td>Katherine Neville</td>\n",
       "      <td>2002</td>\n",
       "      <td>Le Cherche Midi</td>\n",
       "      <td>http://images.amazon.com/images/P/2862749796.01.THUMBZZZ.jpg</td>\n",
       "      <td>http://images.amazon.com/images/P/2862749796.01.MZZZZZZZ.jpg</td>\n",
       "      <td>http://images.amazon.com/images/P/2862749796.01.LZZZZZZZ.jpg</td>\n",
       "      <td>62.0</td>\n",
       "      <td>switzerland</td>\n",
       "    </tr>\n",
       "    <tr>\n",
       "      <th>1031132</th>\n",
       "      <td>276618</td>\n",
       "      <td>3788097000</td>\n",
       "      <td>5</td>\n",
       "      <td>Ludwig Marum: Briefe aus dem Konzentrationslager Kislau</td>\n",
       "      <td>Ludwig Marum</td>\n",
       "      <td>1984</td>\n",
       "      <td>C.F. MÃ¼ller</td>\n",
       "      <td>http://images.amazon.com/images/P/3788097000.01.THUMBZZZ.jpg</td>\n",
       "      <td>http://images.amazon.com/images/P/3788097000.01.MZZZZZZZ.jpg</td>\n",
       "      <td>http://images.amazon.com/images/P/3788097000.01.LZZZZZZZ.jpg</td>\n",
       "      <td>34.0</td>\n",
       "      <td>germany\"</td>\n",
       "    </tr>\n",
       "    <tr>\n",
       "      <th>1031133</th>\n",
       "      <td>276647</td>\n",
       "      <td>0553571001</td>\n",
       "      <td>0</td>\n",
       "      <td>Christmas With Anne and Other Holiday Stories: And Other Holiday Stories</td>\n",
       "      <td>L. M. Montgomery</td>\n",
       "      <td>2001</td>\n",
       "      <td>Starfire</td>\n",
       "      <td>http://images.amazon.com/images/P/0553571001.01.THUMBZZZ.jpg</td>\n",
       "      <td>http://images.amazon.com/images/P/0553571001.01.MZZZZZZZ.jpg</td>\n",
       "      <td>http://images.amazon.com/images/P/0553571001.01.LZZZZZZZ.jpg</td>\n",
       "      <td>15.0</td>\n",
       "      <td>usa</td>\n",
       "    </tr>\n",
       "    <tr>\n",
       "      <th>1031134</th>\n",
       "      <td>276647</td>\n",
       "      <td>0689822294</td>\n",
       "      <td>10</td>\n",
       "      <td>Heaven (Coretta Scott King Author Award Winner)</td>\n",
       "      <td>Angela Johnson</td>\n",
       "      <td>1998</td>\n",
       "      <td>Simon &amp;amp; Schuster Children's Publishing</td>\n",
       "      <td>http://images.amazon.com/images/P/0689822294.01.THUMBZZZ.jpg</td>\n",
       "      <td>http://images.amazon.com/images/P/0689822294.01.MZZZZZZZ.jpg</td>\n",
       "      <td>http://images.amazon.com/images/P/0689822294.01.LZZZZZZZ.jpg</td>\n",
       "      <td>15.0</td>\n",
       "      <td>usa</td>\n",
       "    </tr>\n",
       "    <tr>\n",
       "      <th>1031135</th>\n",
       "      <td>276660</td>\n",
       "      <td>0583307841</td>\n",
       "      <td>8</td>\n",
       "      <td>ROBOT RACE (MICRO ADV 6)</td>\n",
       "      <td>David Antony Kroft</td>\n",
       "      <td>1985</td>\n",
       "      <td>HarperCollins Publishers</td>\n",
       "      <td>http://images.amazon.com/images/P/0583307841.01.THUMBZZZ.jpg</td>\n",
       "      <td>http://images.amazon.com/images/P/0583307841.01.MZZZZZZZ.jpg</td>\n",
       "      <td>http://images.amazon.com/images/P/0583307841.01.LZZZZZZZ.jpg</td>\n",
       "      <td>15.0</td>\n",
       "      <td>singapore</td>\n",
       "    </tr>\n",
       "  </tbody>\n",
       "</table>\n",
       "<p>1031136 rows × 12 columns</p>\n",
       "</div>"
      ],
      "text/plain": [
       "         User-ID        ISBN  Book-Rating  \\\n",
       "0        276725   034545104X  0             \n",
       "1        2313     034545104X  5             \n",
       "2        2313     0812533550  9             \n",
       "3        2313     0679745580  8             \n",
       "4        2313     0060173289  9             \n",
       "...       ...            ... ..             \n",
       "1031131  276442   2862749796  7             \n",
       "1031132  276618   3788097000  5             \n",
       "1031133  276647   0553571001  0             \n",
       "1031134  276647   0689822294  10            \n",
       "1031135  276660   0583307841  8             \n",
       "\n",
       "                                                                       Book-Title  \\\n",
       "0        Flesh Tones: A Novel                                                       \n",
       "1        Flesh Tones: A Novel                                                       \n",
       "2        Ender's Game (Ender Wiggins Saga (Paperback))                              \n",
       "3        In Cold Blood (Vintage International)                                      \n",
       "4        Divine Secrets of the Ya-Ya Sisterhood : A Novel                           \n",
       "...                                                   ...                           \n",
       "1031131  Le Huit                                                                    \n",
       "1031132  Ludwig Marum: Briefe aus dem Konzentrationslager Kislau                    \n",
       "1031133  Christmas With Anne and Other Holiday Stories: And Other Holiday Stories   \n",
       "1031134  Heaven (Coretta Scott King Author Award Winner)                            \n",
       "1031135  ROBOT RACE (MICRO ADV 6)                                                   \n",
       "\n",
       "                Book-Author  Year-Of-Publication  \\\n",
       "0        M. J. Rose          2002                  \n",
       "1        M. J. Rose          2002                  \n",
       "2        Orson Scott Card    1986                  \n",
       "3        TRUMAN CAPOTE       1994                  \n",
       "4        Rebecca Wells       1996                  \n",
       "...                ...        ...                  \n",
       "1031131  Katherine Neville   2002                  \n",
       "1031132  Ludwig Marum        1984                  \n",
       "1031133  L. M. Montgomery    2001                  \n",
       "1031134  Angela Johnson      1998                  \n",
       "1031135  David Antony Kroft  1985                  \n",
       "\n",
       "                                          Publisher  \\\n",
       "0        Ballantine Books                             \n",
       "1        Ballantine Books                             \n",
       "2        Tor Books                                    \n",
       "3        Vintage                                      \n",
       "4        HarperCollins                                \n",
       "...                ...                                \n",
       "1031131  Le Cherche Midi                              \n",
       "1031132  C.F. MÃ¼ller                                 \n",
       "1031133  Starfire                                     \n",
       "1031134  Simon &amp; Schuster Children's Publishing   \n",
       "1031135  HarperCollins Publishers                     \n",
       "\n",
       "                                                          Image-URL-S  \\\n",
       "0        http://images.amazon.com/images/P/034545104X.01.THUMBZZZ.jpg   \n",
       "1        http://images.amazon.com/images/P/034545104X.01.THUMBZZZ.jpg   \n",
       "2        http://images.amazon.com/images/P/0812533550.01.THUMBZZZ.jpg   \n",
       "3        http://images.amazon.com/images/P/0679745580.01.THUMBZZZ.jpg   \n",
       "4        http://images.amazon.com/images/P/0060173289.01.THUMBZZZ.jpg   \n",
       "...                                                               ...   \n",
       "1031131  http://images.amazon.com/images/P/2862749796.01.THUMBZZZ.jpg   \n",
       "1031132  http://images.amazon.com/images/P/3788097000.01.THUMBZZZ.jpg   \n",
       "1031133  http://images.amazon.com/images/P/0553571001.01.THUMBZZZ.jpg   \n",
       "1031134  http://images.amazon.com/images/P/0689822294.01.THUMBZZZ.jpg   \n",
       "1031135  http://images.amazon.com/images/P/0583307841.01.THUMBZZZ.jpg   \n",
       "\n",
       "                                                          Image-URL-M  \\\n",
       "0        http://images.amazon.com/images/P/034545104X.01.MZZZZZZZ.jpg   \n",
       "1        http://images.amazon.com/images/P/034545104X.01.MZZZZZZZ.jpg   \n",
       "2        http://images.amazon.com/images/P/0812533550.01.MZZZZZZZ.jpg   \n",
       "3        http://images.amazon.com/images/P/0679745580.01.MZZZZZZZ.jpg   \n",
       "4        http://images.amazon.com/images/P/0060173289.01.MZZZZZZZ.jpg   \n",
       "...                                                               ...   \n",
       "1031131  http://images.amazon.com/images/P/2862749796.01.MZZZZZZZ.jpg   \n",
       "1031132  http://images.amazon.com/images/P/3788097000.01.MZZZZZZZ.jpg   \n",
       "1031133  http://images.amazon.com/images/P/0553571001.01.MZZZZZZZ.jpg   \n",
       "1031134  http://images.amazon.com/images/P/0689822294.01.MZZZZZZZ.jpg   \n",
       "1031135  http://images.amazon.com/images/P/0583307841.01.MZZZZZZZ.jpg   \n",
       "\n",
       "                                                          Image-URL-L   Age  \\\n",
       "0        http://images.amazon.com/images/P/034545104X.01.LZZZZZZZ.jpg  34.0   \n",
       "1        http://images.amazon.com/images/P/034545104X.01.LZZZZZZZ.jpg  23.0   \n",
       "2        http://images.amazon.com/images/P/0812533550.01.LZZZZZZZ.jpg  23.0   \n",
       "3        http://images.amazon.com/images/P/0679745580.01.LZZZZZZZ.jpg  23.0   \n",
       "4        http://images.amazon.com/images/P/0060173289.01.LZZZZZZZ.jpg  23.0   \n",
       "...                                                               ...   ...   \n",
       "1031131  http://images.amazon.com/images/P/2862749796.01.LZZZZZZZ.jpg  62.0   \n",
       "1031132  http://images.amazon.com/images/P/3788097000.01.LZZZZZZZ.jpg  34.0   \n",
       "1031133  http://images.amazon.com/images/P/0553571001.01.LZZZZZZZ.jpg  15.0   \n",
       "1031134  http://images.amazon.com/images/P/0689822294.01.LZZZZZZZ.jpg  15.0   \n",
       "1031135  http://images.amazon.com/images/P/0583307841.01.LZZZZZZZ.jpg  15.0   \n",
       "\n",
       "              country  \n",
       "0         usa          \n",
       "1         usa          \n",
       "2         usa          \n",
       "3         usa          \n",
       "4         usa          \n",
       "...       ...          \n",
       "1031131   switzerland  \n",
       "1031132   germany\"     \n",
       "1031133   usa          \n",
       "1031134   usa          \n",
       "1031135   singapore    \n",
       "\n",
       "[1031136 rows x 12 columns]"
      ]
     },
     "execution_count": 63,
     "metadata": {},
     "output_type": "execute_result"
    }
   ],
   "source": [
    "#Now merging above data with users dataset\n",
    "dataset=pd.merge(data1,users,on=['User-ID'],how='inner')\n",
    "dataset"
   ]
  },
  {
   "cell_type": "code",
   "execution_count": 64,
   "id": "662dfb19",
   "metadata": {
    "colab": {
     "base_uri": "https://localhost:8080/",
     "height": 445
    },
    "id": "BPUiM3grzqOg",
    "outputId": "1cc7598a-81a8-41ce-ae8c-248eb8f91b61"
   },
   "outputs": [
    {
     "data": {
      "text/plain": [
       "<AxesSubplot:>"
      ]
     },
     "execution_count": 64,
     "metadata": {},
     "output_type": "execute_result"
    },
    {
     "data": {
      "image/png": "[encoded data removed]",
      "text/plain": [
       "<Figure size 864x504 with 1 Axes>"
      ]
     },
     "metadata": {
      "needs_background": "light"
     },
     "output_type": "display_data"
    }
   ],
   "source": [
    "#Plotting top 10 authors \n",
    "plt.figure(figsize=(12,7))\n",
    "dataset[\"Book-Author\"].value_counts()[:10].plot(kind='barh')"
   ]
  },
  {
   "cell_type": "code",
   "execution_count": 65,
   "id": "922460ac",
   "metadata": {
    "colab": {
     "base_uri": "https://localhost:8080/",
     "height": 445
    },
    "id": "_zULi3xB4WI6",
    "outputId": "8287fe82-74cd-49a7-e2b8-779ad88fa3dc"
   },
   "outputs": [
    {
     "data": {
      "text/plain": [
       "<AxesSubplot:>"
      ]
     },
     "execution_count": 65,
     "metadata": {},
     "output_type": "execute_result"
    },
    {
     "data": {
      "image/png": "[encoded data removed]",
      "text/plain": [
       "<Figure size 864x504 with 1 Axes>"
      ]
     },
     "metadata": {
      "needs_background": "light"
     },
     "output_type": "display_data"
    }
   ],
   "source": [
    "#plotting top 10 countries \n",
    "plt.figure(figsize=(12,7))\n",
    "dataset[\"country\"].value_counts()[:10].plot(kind='barh')"
   ]
  },
  {
   "cell_type": "code",
   "execution_count": 66,
   "id": "851e1567",
   "metadata": {
    "colab": {
     "base_uri": "https://localhost:8080/",
     "height": 265
    },
    "id": "nZ736ARhEdbb",
    "outputId": "cef9a4c0-a422-4ff4-9d7b-78c469b7f079"
   },
   "outputs": [
    {
     "data": {
      "image/png": "[encoded data removed]",
      "text/plain": [
       "<Figure size 432x288 with 1 Axes>"
      ]
     },
     "metadata": {
      "needs_background": "light"
     },
     "output_type": "display_data"
    }
   ],
   "source": [
    "#plotting age group \n",
    "plt.hist(dataset[\"Age\"],bins=10,edgecolor=\"red\")\n",
    "plt.show()"
   ]
  },
  {
   "cell_type": "code",
   "execution_count": 67,
   "id": "08ddbd2d",
   "metadata": {
    "colab": {
     "base_uri": "https://localhost:8080/",
     "height": 676
    },
    "id": "o9SxkltIHKJ6",
    "outputId": "0e2f90b0-2c11-45a9-9411-730845b74052"
   },
   "outputs": [
    {
     "data": {
      "text/html": [
       "<div>\n",
       "<style scoped>\n",
       "    .dataframe tbody tr th:only-of-type {\n",
       "        vertical-align: middle;\n",
       "    }\n",
       "\n",
       "    .dataframe tbody tr th {\n",
       "        vertical-align: top;\n",
       "    }\n",
       "\n",
       "    .dataframe thead th {\n",
       "        text-align: right;\n",
       "    }\n",
       "</style>\n",
       "<table border=\"1\" class=\"dataframe\">\n",
       "  <thead>\n",
       "    <tr style=\"text-align: right;\">\n",
       "      <th></th>\n",
       "      <th>User-ID</th>\n",
       "      <th>ISBN</th>\n",
       "      <th>Book-Rating</th>\n",
       "      <th>Book-Title</th>\n",
       "      <th>Book-Author</th>\n",
       "      <th>Year-Of-Publication</th>\n",
       "      <th>Publisher</th>\n",
       "      <th>Image-URL-S</th>\n",
       "      <th>Image-URL-M</th>\n",
       "      <th>Image-URL-L</th>\n",
       "      <th>Age</th>\n",
       "      <th>country</th>\n",
       "    </tr>\n",
       "  </thead>\n",
       "  <tbody>\n",
       "    <tr>\n",
       "      <th>462</th>\n",
       "      <td>8680</td>\n",
       "      <td>034545104X</td>\n",
       "      <td>5</td>\n",
       "      <td>Flesh Tones: A Novel</td>\n",
       "      <td>M. J. Rose</td>\n",
       "      <td>2002</td>\n",
       "      <td>Ballantine Books</td>\n",
       "      <td>http://images.amazon.com/images/P/034545104X.01.THUMBZZZ.jpg</td>\n",
       "      <td>http://images.amazon.com/images/P/034545104X.01.MZZZZZZZ.jpg</td>\n",
       "      <td>http://images.amazon.com/images/P/034545104X.01.LZZZZZZZ.jpg</td>\n",
       "      <td>15.0</td>\n",
       "      <td>usa</td>\n",
       "    </tr>\n",
       "    <tr>\n",
       "      <th>463</th>\n",
       "      <td>8680</td>\n",
       "      <td>0446518581</td>\n",
       "      <td>8</td>\n",
       "      <td>Border Music</td>\n",
       "      <td>Robert James Waller</td>\n",
       "      <td>1995</td>\n",
       "      <td>Warner Books</td>\n",
       "      <td>http://images.amazon.com/images/P/0446518581.01.THUMBZZZ.jpg</td>\n",
       "      <td>http://images.amazon.com/images/P/0446518581.01.MZZZZZZZ.jpg</td>\n",
       "      <td>http://images.amazon.com/images/P/0446518581.01.LZZZZZZZ.jpg</td>\n",
       "      <td>15.0</td>\n",
       "      <td>usa</td>\n",
       "    </tr>\n",
       "    <tr>\n",
       "      <th>464</th>\n",
       "      <td>8680</td>\n",
       "      <td>0060958022</td>\n",
       "      <td>6</td>\n",
       "      <td>Five Quarters of the Orange</td>\n",
       "      <td>Joanne Harris</td>\n",
       "      <td>2002</td>\n",
       "      <td>Perennial</td>\n",
       "      <td>http://images.amazon.com/images/P/0060958022.01.THUMBZZZ.jpg</td>\n",
       "      <td>http://images.amazon.com/images/P/0060958022.01.MZZZZZZZ.jpg</td>\n",
       "      <td>http://images.amazon.com/images/P/0060958022.01.LZZZZZZZ.jpg</td>\n",
       "      <td>15.0</td>\n",
       "      <td>usa</td>\n",
       "    </tr>\n",
       "    <tr>\n",
       "      <th>465</th>\n",
       "      <td>8680</td>\n",
       "      <td>039914739X</td>\n",
       "      <td>0</td>\n",
       "      <td>Isle of Dogs</td>\n",
       "      <td>Patricia Daniels Cornwell</td>\n",
       "      <td>2001</td>\n",
       "      <td>Putnam Publishing Group</td>\n",
       "      <td>http://images.amazon.com/images/P/039914739X.01.THUMBZZZ.jpg</td>\n",
       "      <td>http://images.amazon.com/images/P/039914739X.01.MZZZZZZZ.jpg</td>\n",
       "      <td>http://images.amazon.com/images/P/039914739X.01.LZZZZZZZ.jpg</td>\n",
       "      <td>15.0</td>\n",
       "      <td>usa</td>\n",
       "    </tr>\n",
       "    <tr>\n",
       "      <th>466</th>\n",
       "      <td>8680</td>\n",
       "      <td>0156005891</td>\n",
       "      <td>0</td>\n",
       "      <td>Eden Close</td>\n",
       "      <td>Anita Shreve</td>\n",
       "      <td>1998</td>\n",
       "      <td>Harvest Books</td>\n",
       "      <td>http://images.amazon.com/images/P/0156005891.01.THUMBZZZ.jpg</td>\n",
       "      <td>http://images.amazon.com/images/P/0156005891.01.MZZZZZZZ.jpg</td>\n",
       "      <td>http://images.amazon.com/images/P/0156005891.01.LZZZZZZZ.jpg</td>\n",
       "      <td>15.0</td>\n",
       "      <td>usa</td>\n",
       "    </tr>\n",
       "    <tr>\n",
       "      <th>...</th>\n",
       "      <td>...</td>\n",
       "      <td>...</td>\n",
       "      <td>...</td>\n",
       "      <td>...</td>\n",
       "      <td>...</td>\n",
       "      <td>...</td>\n",
       "      <td>...</td>\n",
       "      <td>...</td>\n",
       "      <td>...</td>\n",
       "      <td>...</td>\n",
       "      <td>...</td>\n",
       "      <td>...</td>\n",
       "    </tr>\n",
       "    <tr>\n",
       "      <th>1031036</th>\n",
       "      <td>272469</td>\n",
       "      <td>186208260X</td>\n",
       "      <td>5</td>\n",
       "      <td>Gemma James American Adventure (Magic Jewellery S.)</td>\n",
       "      <td>Mike Gower</td>\n",
       "      <td>1997</td>\n",
       "      <td>Dorling Kindersley</td>\n",
       "      <td>http://images.amazon.com/images/P/186208260X.01.THUMBZZZ.jpg</td>\n",
       "      <td>http://images.amazon.com/images/P/186208260X.01.MZZZZZZZ.jpg</td>\n",
       "      <td>http://images.amazon.com/images/P/186208260X.01.LZZZZZZZ.jpg</td>\n",
       "      <td>15.0</td>\n",
       "      <td>australia</td>\n",
       "    </tr>\n",
       "    <tr>\n",
       "      <th>1031053</th>\n",
       "      <td>273058</td>\n",
       "      <td>0681007702</td>\n",
       "      <td>5</td>\n",
       "      <td>Anne of Green Gables</td>\n",
       "      <td>L.M. Montgomery</td>\n",
       "      <td>1995</td>\n",
       "      <td>Longmeadow Press</td>\n",
       "      <td>http://images.amazon.com/images/P/0681007702.01.THUMBZZZ.jpg</td>\n",
       "      <td>http://images.amazon.com/images/P/0681007702.01.MZZZZZZZ.jpg</td>\n",
       "      <td>http://images.amazon.com/images/P/0681007702.01.LZZZZZZZ.jpg</td>\n",
       "      <td>15.0</td>\n",
       "      <td>usa</td>\n",
       "    </tr>\n",
       "    <tr>\n",
       "      <th>1031133</th>\n",
       "      <td>276647</td>\n",
       "      <td>0553571001</td>\n",
       "      <td>0</td>\n",
       "      <td>Christmas With Anne and Other Holiday Stories: And Other Holiday Stories</td>\n",
       "      <td>L. M. Montgomery</td>\n",
       "      <td>2001</td>\n",
       "      <td>Starfire</td>\n",
       "      <td>http://images.amazon.com/images/P/0553571001.01.THUMBZZZ.jpg</td>\n",
       "      <td>http://images.amazon.com/images/P/0553571001.01.MZZZZZZZ.jpg</td>\n",
       "      <td>http://images.amazon.com/images/P/0553571001.01.LZZZZZZZ.jpg</td>\n",
       "      <td>15.0</td>\n",
       "      <td>usa</td>\n",
       "    </tr>\n",
       "    <tr>\n",
       "      <th>1031134</th>\n",
       "      <td>276647</td>\n",
       "      <td>0689822294</td>\n",
       "      <td>10</td>\n",
       "      <td>Heaven (Coretta Scott King Author Award Winner)</td>\n",
       "      <td>Angela Johnson</td>\n",
       "      <td>1998</td>\n",
       "      <td>Simon &amp;amp; Schuster Children's Publishing</td>\n",
       "      <td>http://images.amazon.com/images/P/0689822294.01.THUMBZZZ.jpg</td>\n",
       "      <td>http://images.amazon.com/images/P/0689822294.01.MZZZZZZZ.jpg</td>\n",
       "      <td>http://images.amazon.com/images/P/0689822294.01.LZZZZZZZ.jpg</td>\n",
       "      <td>15.0</td>\n",
       "      <td>usa</td>\n",
       "    </tr>\n",
       "    <tr>\n",
       "      <th>1031135</th>\n",
       "      <td>276660</td>\n",
       "      <td>0583307841</td>\n",
       "      <td>8</td>\n",
       "      <td>ROBOT RACE (MICRO ADV 6)</td>\n",
       "      <td>David Antony Kroft</td>\n",
       "      <td>1985</td>\n",
       "      <td>HarperCollins Publishers</td>\n",
       "      <td>http://images.amazon.com/images/P/0583307841.01.THUMBZZZ.jpg</td>\n",
       "      <td>http://images.amazon.com/images/P/0583307841.01.MZZZZZZZ.jpg</td>\n",
       "      <td>http://images.amazon.com/images/P/0583307841.01.LZZZZZZZ.jpg</td>\n",
       "      <td>15.0</td>\n",
       "      <td>singapore</td>\n",
       "    </tr>\n",
       "  </tbody>\n",
       "</table>\n",
       "<p>22325 rows × 12 columns</p>\n",
       "</div>"
      ],
      "text/plain": [
       "         User-ID        ISBN  Book-Rating  \\\n",
       "462      8680     034545104X  5             \n",
       "463      8680     0446518581  8             \n",
       "464      8680     0060958022  6             \n",
       "465      8680     039914739X  0             \n",
       "466      8680     0156005891  0             \n",
       "...       ...            ... ..             \n",
       "1031036  272469   186208260X  5             \n",
       "1031053  273058   0681007702  5             \n",
       "1031133  276647   0553571001  0             \n",
       "1031134  276647   0689822294  10            \n",
       "1031135  276660   0583307841  8             \n",
       "\n",
       "                                                                       Book-Title  \\\n",
       "462      Flesh Tones: A Novel                                                       \n",
       "463      Border Music                                                               \n",
       "464      Five Quarters of the Orange                                                \n",
       "465      Isle of Dogs                                                               \n",
       "466      Eden Close                                                                 \n",
       "...             ...                                                                 \n",
       "1031036  Gemma James American Adventure (Magic Jewellery S.)                        \n",
       "1031053  Anne of Green Gables                                                       \n",
       "1031133  Christmas With Anne and Other Holiday Stories: And Other Holiday Stories   \n",
       "1031134  Heaven (Coretta Scott King Author Award Winner)                            \n",
       "1031135  ROBOT RACE (MICRO ADV 6)                                                   \n",
       "\n",
       "                       Book-Author  Year-Of-Publication  \\\n",
       "462      M. J. Rose                 2002                  \n",
       "463      Robert James Waller        1995                  \n",
       "464      Joanne Harris              2002                  \n",
       "465      Patricia Daniels Cornwell  2001                  \n",
       "466      Anita Shreve               1998                  \n",
       "...               ...                ...                  \n",
       "1031036  Mike Gower                 1997                  \n",
       "1031053  L.M. Montgomery            1995                  \n",
       "1031133  L. M. Montgomery           2001                  \n",
       "1031134  Angela Johnson             1998                  \n",
       "1031135  David Antony Kroft         1985                  \n",
       "\n",
       "                                          Publisher  \\\n",
       "462      Ballantine Books                             \n",
       "463      Warner Books                                 \n",
       "464      Perennial                                    \n",
       "465      Putnam Publishing Group                      \n",
       "466      Harvest Books                                \n",
       "...                ...                                \n",
       "1031036  Dorling Kindersley                           \n",
       "1031053  Longmeadow Press                             \n",
       "1031133  Starfire                                     \n",
       "1031134  Simon &amp; Schuster Children's Publishing   \n",
       "1031135  HarperCollins Publishers                     \n",
       "\n",
       "                                                          Image-URL-S  \\\n",
       "462      http://images.amazon.com/images/P/034545104X.01.THUMBZZZ.jpg   \n",
       "463      http://images.amazon.com/images/P/0446518581.01.THUMBZZZ.jpg   \n",
       "464      http://images.amazon.com/images/P/0060958022.01.THUMBZZZ.jpg   \n",
       "465      http://images.amazon.com/images/P/039914739X.01.THUMBZZZ.jpg   \n",
       "466      http://images.amazon.com/images/P/0156005891.01.THUMBZZZ.jpg   \n",
       "...                                                               ...   \n",
       "1031036  http://images.amazon.com/images/P/186208260X.01.THUMBZZZ.jpg   \n",
       "1031053  http://images.amazon.com/images/P/0681007702.01.THUMBZZZ.jpg   \n",
       "1031133  http://images.amazon.com/images/P/0553571001.01.THUMBZZZ.jpg   \n",
       "1031134  http://images.amazon.com/images/P/0689822294.01.THUMBZZZ.jpg   \n",
       "1031135  http://images.amazon.com/images/P/0583307841.01.THUMBZZZ.jpg   \n",
       "\n",
       "                                                          Image-URL-M  \\\n",
       "462      http://images.amazon.com/images/P/034545104X.01.MZZZZZZZ.jpg   \n",
       "463      http://images.amazon.com/images/P/0446518581.01.MZZZZZZZ.jpg   \n",
       "464      http://images.amazon.com/images/P/0060958022.01.MZZZZZZZ.jpg   \n",
       "465      http://images.amazon.com/images/P/039914739X.01.MZZZZZZZ.jpg   \n",
       "466      http://images.amazon.com/images/P/0156005891.01.MZZZZZZZ.jpg   \n",
       "...                                                               ...   \n",
       "1031036  http://images.amazon.com/images/P/186208260X.01.MZZZZZZZ.jpg   \n",
       "1031053  http://images.amazon.com/images/P/0681007702.01.MZZZZZZZ.jpg   \n",
       "1031133  http://images.amazon.com/images/P/0553571001.01.MZZZZZZZ.jpg   \n",
       "1031134  http://images.amazon.com/images/P/0689822294.01.MZZZZZZZ.jpg   \n",
       "1031135  http://images.amazon.com/images/P/0583307841.01.MZZZZZZZ.jpg   \n",
       "\n",
       "                                                          Image-URL-L   Age  \\\n",
       "462      http://images.amazon.com/images/P/034545104X.01.LZZZZZZZ.jpg  15.0   \n",
       "463      http://images.amazon.com/images/P/0446518581.01.LZZZZZZZ.jpg  15.0   \n",
       "464      http://images.amazon.com/images/P/0060958022.01.LZZZZZZZ.jpg  15.0   \n",
       "465      http://images.amazon.com/images/P/039914739X.01.LZZZZZZZ.jpg  15.0   \n",
       "466      http://images.amazon.com/images/P/0156005891.01.LZZZZZZZ.jpg  15.0   \n",
       "...                                                               ...   ...   \n",
       "1031036  http://images.amazon.com/images/P/186208260X.01.LZZZZZZZ.jpg  15.0   \n",
       "1031053  http://images.amazon.com/images/P/0681007702.01.LZZZZZZZ.jpg  15.0   \n",
       "1031133  http://images.amazon.com/images/P/0553571001.01.LZZZZZZZ.jpg  15.0   \n",
       "1031134  http://images.amazon.com/images/P/0689822294.01.LZZZZZZZ.jpg  15.0   \n",
       "1031135  http://images.amazon.com/images/P/0583307841.01.LZZZZZZZ.jpg  15.0   \n",
       "\n",
       "            country  \n",
       "462       usa        \n",
       "463       usa        \n",
       "464       usa        \n",
       "465       usa        \n",
       "466       usa        \n",
       "...       ...        \n",
       "1031036   australia  \n",
       "1031053   usa        \n",
       "1031133   usa        \n",
       "1031134   usa        \n",
       "1031135   singapore  \n",
       "\n",
       "[22325 rows x 12 columns]"
      ]
     },
     "execution_count": 67,
     "metadata": {},
     "output_type": "execute_result"
    }
   ],
   "source": [
    "dataset2=dataset[dataset[\"Age\"]<18]\n",
    "dataset2"
   ]
  },
  {
   "cell_type": "code",
   "execution_count": 68,
   "id": "6ff5ba25",
   "metadata": {
    "colab": {
     "base_uri": "https://localhost:8080/"
    },
    "id": "B4eQZ13iIv3J",
    "outputId": "0103d106-fc7f-42dc-cc67-3957b44cbc3e"
   },
   "outputs": [
    {
     "data": {
      "text/plain": [
       "Age   Book-Rating\n",
       "15.0  0              7946\n",
       "      10             1369\n",
       "      8              1309\n",
       "      9              913 \n",
       "      7              891 \n",
       "      5              598 \n",
       "      6              454 \n",
       "      4              126 \n",
       "      3              65  \n",
       "      2              44  \n",
       "      1              29  \n",
       "16.0  0              1424\n",
       "      8              414 \n",
       "      10             412 \n",
       "      7              319 \n",
       "      9              297 \n",
       "      6              176 \n",
       "      5              157 \n",
       "      4              61  \n",
       "      3              26  \n",
       "      2              8   \n",
       "      1              5   \n",
       "17.0  0              2590\n",
       "      10             597 \n",
       "      8              566 \n",
       "      9              454 \n",
       "      7              433 \n",
       "      6              259 \n",
       "      5              244 \n",
       "      4              51  \n",
       "      3              34  \n",
       "      2              29  \n",
       "      1              25  \n",
       "Name: Book-Rating, dtype: int64"
      ]
     },
     "execution_count": 68,
     "metadata": {},
     "output_type": "execute_result"
    }
   ],
   "source": [
    "dataset2.groupby('Age')['Book-Rating'].value_counts()"
   ]
  },
  {
   "cell_type": "code",
   "execution_count": 69,
   "id": "a0c1dc75",
   "metadata": {
    "colab": {
     "base_uri": "https://localhost:8080/",
     "height": 1000
    },
    "id": "lGyOetZDJA-J",
    "outputId": "84b3c157-a350-4236-9837-96872b70ae89"
   },
   "outputs": [
    {
     "data": {
      "text/html": [
       "<div>\n",
       "<style scoped>\n",
       "    .dataframe tbody tr th:only-of-type {\n",
       "        vertical-align: middle;\n",
       "    }\n",
       "\n",
       "    .dataframe tbody tr th {\n",
       "        vertical-align: top;\n",
       "    }\n",
       "\n",
       "    .dataframe thead th {\n",
       "        text-align: right;\n",
       "    }\n",
       "</style>\n",
       "<table border=\"1\" class=\"dataframe\">\n",
       "  <thead>\n",
       "    <tr style=\"text-align: right;\">\n",
       "      <th></th>\n",
       "      <th>Age</th>\n",
       "      <th>Book-Rating</th>\n",
       "      <th>count</th>\n",
       "    </tr>\n",
       "  </thead>\n",
       "  <tbody>\n",
       "    <tr>\n",
       "      <th>0</th>\n",
       "      <td>15.0</td>\n",
       "      <td>0</td>\n",
       "      <td>7946</td>\n",
       "    </tr>\n",
       "    <tr>\n",
       "      <th>1</th>\n",
       "      <td>15.0</td>\n",
       "      <td>10</td>\n",
       "      <td>1369</td>\n",
       "    </tr>\n",
       "    <tr>\n",
       "      <th>2</th>\n",
       "      <td>15.0</td>\n",
       "      <td>8</td>\n",
       "      <td>1309</td>\n",
       "    </tr>\n",
       "    <tr>\n",
       "      <th>3</th>\n",
       "      <td>15.0</td>\n",
       "      <td>9</td>\n",
       "      <td>913</td>\n",
       "    </tr>\n",
       "    <tr>\n",
       "      <th>4</th>\n",
       "      <td>15.0</td>\n",
       "      <td>7</td>\n",
       "      <td>891</td>\n",
       "    </tr>\n",
       "    <tr>\n",
       "      <th>5</th>\n",
       "      <td>15.0</td>\n",
       "      <td>5</td>\n",
       "      <td>598</td>\n",
       "    </tr>\n",
       "    <tr>\n",
       "      <th>6</th>\n",
       "      <td>15.0</td>\n",
       "      <td>6</td>\n",
       "      <td>454</td>\n",
       "    </tr>\n",
       "    <tr>\n",
       "      <th>7</th>\n",
       "      <td>15.0</td>\n",
       "      <td>4</td>\n",
       "      <td>126</td>\n",
       "    </tr>\n",
       "    <tr>\n",
       "      <th>8</th>\n",
       "      <td>15.0</td>\n",
       "      <td>3</td>\n",
       "      <td>65</td>\n",
       "    </tr>\n",
       "    <tr>\n",
       "      <th>9</th>\n",
       "      <td>15.0</td>\n",
       "      <td>2</td>\n",
       "      <td>44</td>\n",
       "    </tr>\n",
       "    <tr>\n",
       "      <th>10</th>\n",
       "      <td>15.0</td>\n",
       "      <td>1</td>\n",
       "      <td>29</td>\n",
       "    </tr>\n",
       "    <tr>\n",
       "      <th>11</th>\n",
       "      <td>16.0</td>\n",
       "      <td>0</td>\n",
       "      <td>1424</td>\n",
       "    </tr>\n",
       "    <tr>\n",
       "      <th>12</th>\n",
       "      <td>16.0</td>\n",
       "      <td>8</td>\n",
       "      <td>414</td>\n",
       "    </tr>\n",
       "    <tr>\n",
       "      <th>13</th>\n",
       "      <td>16.0</td>\n",
       "      <td>10</td>\n",
       "      <td>412</td>\n",
       "    </tr>\n",
       "    <tr>\n",
       "      <th>14</th>\n",
       "      <td>16.0</td>\n",
       "      <td>7</td>\n",
       "      <td>319</td>\n",
       "    </tr>\n",
       "    <tr>\n",
       "      <th>15</th>\n",
       "      <td>16.0</td>\n",
       "      <td>9</td>\n",
       "      <td>297</td>\n",
       "    </tr>\n",
       "    <tr>\n",
       "      <th>16</th>\n",
       "      <td>16.0</td>\n",
       "      <td>6</td>\n",
       "      <td>176</td>\n",
       "    </tr>\n",
       "    <tr>\n",
       "      <th>17</th>\n",
       "      <td>16.0</td>\n",
       "      <td>5</td>\n",
       "      <td>157</td>\n",
       "    </tr>\n",
       "    <tr>\n",
       "      <th>18</th>\n",
       "      <td>16.0</td>\n",
       "      <td>4</td>\n",
       "      <td>61</td>\n",
       "    </tr>\n",
       "    <tr>\n",
       "      <th>19</th>\n",
       "      <td>16.0</td>\n",
       "      <td>3</td>\n",
       "      <td>26</td>\n",
       "    </tr>\n",
       "    <tr>\n",
       "      <th>20</th>\n",
       "      <td>16.0</td>\n",
       "      <td>2</td>\n",
       "      <td>8</td>\n",
       "    </tr>\n",
       "    <tr>\n",
       "      <th>21</th>\n",
       "      <td>16.0</td>\n",
       "      <td>1</td>\n",
       "      <td>5</td>\n",
       "    </tr>\n",
       "    <tr>\n",
       "      <th>22</th>\n",
       "      <td>17.0</td>\n",
       "      <td>0</td>\n",
       "      <td>2590</td>\n",
       "    </tr>\n",
       "    <tr>\n",
       "      <th>23</th>\n",
       "      <td>17.0</td>\n",
       "      <td>10</td>\n",
       "      <td>597</td>\n",
       "    </tr>\n",
       "    <tr>\n",
       "      <th>24</th>\n",
       "      <td>17.0</td>\n",
       "      <td>8</td>\n",
       "      <td>566</td>\n",
       "    </tr>\n",
       "    <tr>\n",
       "      <th>25</th>\n",
       "      <td>17.0</td>\n",
       "      <td>9</td>\n",
       "      <td>454</td>\n",
       "    </tr>\n",
       "    <tr>\n",
       "      <th>26</th>\n",
       "      <td>17.0</td>\n",
       "      <td>7</td>\n",
       "      <td>433</td>\n",
       "    </tr>\n",
       "    <tr>\n",
       "      <th>27</th>\n",
       "      <td>17.0</td>\n",
       "      <td>6</td>\n",
       "      <td>259</td>\n",
       "    </tr>\n",
       "    <tr>\n",
       "      <th>28</th>\n",
       "      <td>17.0</td>\n",
       "      <td>5</td>\n",
       "      <td>244</td>\n",
       "    </tr>\n",
       "    <tr>\n",
       "      <th>29</th>\n",
       "      <td>17.0</td>\n",
       "      <td>4</td>\n",
       "      <td>51</td>\n",
       "    </tr>\n",
       "    <tr>\n",
       "      <th>30</th>\n",
       "      <td>17.0</td>\n",
       "      <td>3</td>\n",
       "      <td>34</td>\n",
       "    </tr>\n",
       "    <tr>\n",
       "      <th>31</th>\n",
       "      <td>17.0</td>\n",
       "      <td>2</td>\n",
       "      <td>29</td>\n",
       "    </tr>\n",
       "    <tr>\n",
       "      <th>32</th>\n",
       "      <td>17.0</td>\n",
       "      <td>1</td>\n",
       "      <td>25</td>\n",
       "    </tr>\n",
       "  </tbody>\n",
       "</table>\n",
       "</div>"
      ],
      "text/plain": [
       "     Age  Book-Rating  count\n",
       "0   15.0  0            7946 \n",
       "1   15.0  10           1369 \n",
       "2   15.0  8            1309 \n",
       "3   15.0  9            913  \n",
       "4   15.0  7            891  \n",
       "5   15.0  5            598  \n",
       "6   15.0  6            454  \n",
       "7   15.0  4            126  \n",
       "8   15.0  3            65   \n",
       "9   15.0  2            44   \n",
       "10  15.0  1            29   \n",
       "11  16.0  0            1424 \n",
       "12  16.0  8            414  \n",
       "13  16.0  10           412  \n",
       "14  16.0  7            319  \n",
       "15  16.0  9            297  \n",
       "16  16.0  6            176  \n",
       "17  16.0  5            157  \n",
       "18  16.0  4            61   \n",
       "19  16.0  3            26   \n",
       "20  16.0  2            8    \n",
       "21  16.0  1            5    \n",
       "22  17.0  0            2590 \n",
       "23  17.0  10           597  \n",
       "24  17.0  8            566  \n",
       "25  17.0  9            454  \n",
       "26  17.0  7            433  \n",
       "27  17.0  6            259  \n",
       "28  17.0  5            244  \n",
       "29  17.0  4            51   \n",
       "30  17.0  3            34   \n",
       "31  17.0  2            29   \n",
       "32  17.0  1            25   "
      ]
     },
     "execution_count": 69,
     "metadata": {},
     "output_type": "execute_result"
    }
   ],
   "source": [
    "dft=dataset2.groupby('Age')['Book-Rating'].value_counts().reset_index(name='count')\n",
    "dft"
   ]
  },
  {
   "cell_type": "code",
   "execution_count": 70,
   "id": "364b1d3a",
   "metadata": {
    "colab": {
     "base_uri": "https://localhost:8080/",
     "height": 459
    },
    "id": "mz_PhMtEVGa5",
    "outputId": "f59ec082-15a1-44ac-e870-e0c9d54d041e"
   },
   "outputs": [
    {
     "data": {
      "text/plain": [
       "[Text(0.5, 0, 'Book-Rating')]"
      ]
     },
     "execution_count": 70,
     "metadata": {},
     "output_type": "execute_result"
    },
    {
     "data": {
      "image/png": "[encoded data removed]",
      "text/plain": [
       "<Figure size 864x504 with 1 Axes>"
      ]
     },
     "metadata": {
      "needs_background": "light"
     },
     "output_type": "display_data"
    }
   ],
   "source": [
    "#Plot\n",
    "plt.figure(figsize=(12,7))\n",
    "p = sns.barplot(x='Book-Rating',y='count',data=dft,hue='Age')\n",
    "p.legend(title='Age grp ratings',bbox_to_anchor=(1,1),loc='upper left')\n",
    "p.set(xlabel='Book-Rating')"
   ]
  },
  {
   "cell_type": "code",
   "execution_count": 71,
   "id": "84a91e2d",
   "metadata": {
    "colab": {
     "base_uri": "https://localhost:8080/",
     "height": 658
    },
    "id": "PCM1G60IWJD0",
    "outputId": "759ba239-2559-4900-fa8e-5b8abe58742d"
   },
   "outputs": [
    {
     "data": {
      "text/html": [
       "<div>\n",
       "<style scoped>\n",
       "    .dataframe tbody tr th:only-of-type {\n",
       "        vertical-align: middle;\n",
       "    }\n",
       "\n",
       "    .dataframe tbody tr th {\n",
       "        vertical-align: top;\n",
       "    }\n",
       "\n",
       "    .dataframe thead th {\n",
       "        text-align: right;\n",
       "    }\n",
       "</style>\n",
       "<table border=\"1\" class=\"dataframe\">\n",
       "  <thead>\n",
       "    <tr style=\"text-align: right;\">\n",
       "      <th></th>\n",
       "      <th>User-ID</th>\n",
       "      <th>ISBN</th>\n",
       "      <th>Book-Rating</th>\n",
       "      <th>Book-Title</th>\n",
       "      <th>Book-Author</th>\n",
       "      <th>Year-Of-Publication</th>\n",
       "      <th>Publisher</th>\n",
       "      <th>Image-URL-S</th>\n",
       "      <th>Image-URL-M</th>\n",
       "      <th>Image-URL-L</th>\n",
       "      <th>Age</th>\n",
       "      <th>country</th>\n",
       "    </tr>\n",
       "  </thead>\n",
       "  <tbody>\n",
       "    <tr>\n",
       "      <th>0</th>\n",
       "      <td>276725</td>\n",
       "      <td>034545104X</td>\n",
       "      <td>0</td>\n",
       "      <td>Flesh Tones: A Novel</td>\n",
       "      <td>M. J. Rose</td>\n",
       "      <td>2002</td>\n",
       "      <td>Ballantine Books</td>\n",
       "      <td>http://images.amazon.com/images/P/034545104X.01.THUMBZZZ.jpg</td>\n",
       "      <td>http://images.amazon.com/images/P/034545104X.01.MZZZZZZZ.jpg</td>\n",
       "      <td>http://images.amazon.com/images/P/034545104X.01.LZZZZZZZ.jpg</td>\n",
       "      <td>34.0</td>\n",
       "      <td>usa</td>\n",
       "    </tr>\n",
       "    <tr>\n",
       "      <th>1</th>\n",
       "      <td>2313</td>\n",
       "      <td>034545104X</td>\n",
       "      <td>5</td>\n",
       "      <td>Flesh Tones: A Novel</td>\n",
       "      <td>M. J. Rose</td>\n",
       "      <td>2002</td>\n",
       "      <td>Ballantine Books</td>\n",
       "      <td>http://images.amazon.com/images/P/034545104X.01.THUMBZZZ.jpg</td>\n",
       "      <td>http://images.amazon.com/images/P/034545104X.01.MZZZZZZZ.jpg</td>\n",
       "      <td>http://images.amazon.com/images/P/034545104X.01.LZZZZZZZ.jpg</td>\n",
       "      <td>23.0</td>\n",
       "      <td>usa</td>\n",
       "    </tr>\n",
       "    <tr>\n",
       "      <th>2</th>\n",
       "      <td>2313</td>\n",
       "      <td>0812533550</td>\n",
       "      <td>9</td>\n",
       "      <td>Ender's Game (Ender Wiggins Saga (Paperback))</td>\n",
       "      <td>Orson Scott Card</td>\n",
       "      <td>1986</td>\n",
       "      <td>Tor Books</td>\n",
       "      <td>http://images.amazon.com/images/P/0812533550.01.THUMBZZZ.jpg</td>\n",
       "      <td>http://images.amazon.com/images/P/0812533550.01.MZZZZZZZ.jpg</td>\n",
       "      <td>http://images.amazon.com/images/P/0812533550.01.LZZZZZZZ.jpg</td>\n",
       "      <td>23.0</td>\n",
       "      <td>usa</td>\n",
       "    </tr>\n",
       "    <tr>\n",
       "      <th>3</th>\n",
       "      <td>2313</td>\n",
       "      <td>0679745580</td>\n",
       "      <td>8</td>\n",
       "      <td>In Cold Blood (Vintage International)</td>\n",
       "      <td>TRUMAN CAPOTE</td>\n",
       "      <td>1994</td>\n",
       "      <td>Vintage</td>\n",
       "      <td>http://images.amazon.com/images/P/0679745580.01.THUMBZZZ.jpg</td>\n",
       "      <td>http://images.amazon.com/images/P/0679745580.01.MZZZZZZZ.jpg</td>\n",
       "      <td>http://images.amazon.com/images/P/0679745580.01.LZZZZZZZ.jpg</td>\n",
       "      <td>23.0</td>\n",
       "      <td>usa</td>\n",
       "    </tr>\n",
       "    <tr>\n",
       "      <th>4</th>\n",
       "      <td>2313</td>\n",
       "      <td>0060173289</td>\n",
       "      <td>9</td>\n",
       "      <td>Divine Secrets of the Ya-Ya Sisterhood : A Novel</td>\n",
       "      <td>Rebecca Wells</td>\n",
       "      <td>1996</td>\n",
       "      <td>HarperCollins</td>\n",
       "      <td>http://images.amazon.com/images/P/0060173289.01.THUMBZZZ.jpg</td>\n",
       "      <td>http://images.amazon.com/images/P/0060173289.01.MZZZZZZZ.jpg</td>\n",
       "      <td>http://images.amazon.com/images/P/0060173289.01.LZZZZZZZ.jpg</td>\n",
       "      <td>23.0</td>\n",
       "      <td>usa</td>\n",
       "    </tr>\n",
       "    <tr>\n",
       "      <th>...</th>\n",
       "      <td>...</td>\n",
       "      <td>...</td>\n",
       "      <td>...</td>\n",
       "      <td>...</td>\n",
       "      <td>...</td>\n",
       "      <td>...</td>\n",
       "      <td>...</td>\n",
       "      <td>...</td>\n",
       "      <td>...</td>\n",
       "      <td>...</td>\n",
       "      <td>...</td>\n",
       "      <td>...</td>\n",
       "    </tr>\n",
       "    <tr>\n",
       "      <th>1031131</th>\n",
       "      <td>276442</td>\n",
       "      <td>2862749796</td>\n",
       "      <td>7</td>\n",
       "      <td>Le Huit</td>\n",
       "      <td>Katherine Neville</td>\n",
       "      <td>2002</td>\n",
       "      <td>Le Cherche Midi</td>\n",
       "      <td>http://images.amazon.com/images/P/2862749796.01.THUMBZZZ.jpg</td>\n",
       "      <td>http://images.amazon.com/images/P/2862749796.01.MZZZZZZZ.jpg</td>\n",
       "      <td>http://images.amazon.com/images/P/2862749796.01.LZZZZZZZ.jpg</td>\n",
       "      <td>62.0</td>\n",
       "      <td>switzerland</td>\n",
       "    </tr>\n",
       "    <tr>\n",
       "      <th>1031132</th>\n",
       "      <td>276618</td>\n",
       "      <td>3788097000</td>\n",
       "      <td>5</td>\n",
       "      <td>Ludwig Marum: Briefe aus dem Konzentrationslager Kislau</td>\n",
       "      <td>Ludwig Marum</td>\n",
       "      <td>1984</td>\n",
       "      <td>C.F. MÃ¼ller</td>\n",
       "      <td>http://images.amazon.com/images/P/3788097000.01.THUMBZZZ.jpg</td>\n",
       "      <td>http://images.amazon.com/images/P/3788097000.01.MZZZZZZZ.jpg</td>\n",
       "      <td>http://images.amazon.com/images/P/3788097000.01.LZZZZZZZ.jpg</td>\n",
       "      <td>34.0</td>\n",
       "      <td>germany\"</td>\n",
       "    </tr>\n",
       "    <tr>\n",
       "      <th>1031133</th>\n",
       "      <td>276647</td>\n",
       "      <td>0553571001</td>\n",
       "      <td>0</td>\n",
       "      <td>Christmas With Anne and Other Holiday Stories: And Other Holiday Stories</td>\n",
       "      <td>L. M. Montgomery</td>\n",
       "      <td>2001</td>\n",
       "      <td>Starfire</td>\n",
       "      <td>http://images.amazon.com/images/P/0553571001.01.THUMBZZZ.jpg</td>\n",
       "      <td>http://images.amazon.com/images/P/0553571001.01.MZZZZZZZ.jpg</td>\n",
       "      <td>http://images.amazon.com/images/P/0553571001.01.LZZZZZZZ.jpg</td>\n",
       "      <td>15.0</td>\n",
       "      <td>usa</td>\n",
       "    </tr>\n",
       "    <tr>\n",
       "      <th>1031134</th>\n",
       "      <td>276647</td>\n",
       "      <td>0689822294</td>\n",
       "      <td>10</td>\n",
       "      <td>Heaven (Coretta Scott King Author Award Winner)</td>\n",
       "      <td>Angela Johnson</td>\n",
       "      <td>1998</td>\n",
       "      <td>Simon &amp;amp; Schuster Children's Publishing</td>\n",
       "      <td>http://images.amazon.com/images/P/0689822294.01.THUMBZZZ.jpg</td>\n",
       "      <td>http://images.amazon.com/images/P/0689822294.01.MZZZZZZZ.jpg</td>\n",
       "      <td>http://images.amazon.com/images/P/0689822294.01.LZZZZZZZ.jpg</td>\n",
       "      <td>15.0</td>\n",
       "      <td>usa</td>\n",
       "    </tr>\n",
       "    <tr>\n",
       "      <th>1031135</th>\n",
       "      <td>276660</td>\n",
       "      <td>0583307841</td>\n",
       "      <td>8</td>\n",
       "      <td>ROBOT RACE (MICRO ADV 6)</td>\n",
       "      <td>David Antony Kroft</td>\n",
       "      <td>1985</td>\n",
       "      <td>HarperCollins Publishers</td>\n",
       "      <td>http://images.amazon.com/images/P/0583307841.01.THUMBZZZ.jpg</td>\n",
       "      <td>http://images.amazon.com/images/P/0583307841.01.MZZZZZZZ.jpg</td>\n",
       "      <td>http://images.amazon.com/images/P/0583307841.01.LZZZZZZZ.jpg</td>\n",
       "      <td>15.0</td>\n",
       "      <td>singapore</td>\n",
       "    </tr>\n",
       "  </tbody>\n",
       "</table>\n",
       "<p>1031136 rows × 12 columns</p>\n",
       "</div>"
      ],
      "text/plain": [
       "         User-ID        ISBN  Book-Rating  \\\n",
       "0        276725   034545104X  0             \n",
       "1        2313     034545104X  5             \n",
       "2        2313     0812533550  9             \n",
       "3        2313     0679745580  8             \n",
       "4        2313     0060173289  9             \n",
       "...       ...            ... ..             \n",
       "1031131  276442   2862749796  7             \n",
       "1031132  276618   3788097000  5             \n",
       "1031133  276647   0553571001  0             \n",
       "1031134  276647   0689822294  10            \n",
       "1031135  276660   0583307841  8             \n",
       "\n",
       "                                                                       Book-Title  \\\n",
       "0        Flesh Tones: A Novel                                                       \n",
       "1        Flesh Tones: A Novel                                                       \n",
       "2        Ender's Game (Ender Wiggins Saga (Paperback))                              \n",
       "3        In Cold Blood (Vintage International)                                      \n",
       "4        Divine Secrets of the Ya-Ya Sisterhood : A Novel                           \n",
       "...                                                   ...                           \n",
       "1031131  Le Huit                                                                    \n",
       "1031132  Ludwig Marum: Briefe aus dem Konzentrationslager Kislau                    \n",
       "1031133  Christmas With Anne and Other Holiday Stories: And Other Holiday Stories   \n",
       "1031134  Heaven (Coretta Scott King Author Award Winner)                            \n",
       "1031135  ROBOT RACE (MICRO ADV 6)                                                   \n",
       "\n",
       "                Book-Author  Year-Of-Publication  \\\n",
       "0        M. J. Rose          2002                  \n",
       "1        M. J. Rose          2002                  \n",
       "2        Orson Scott Card    1986                  \n",
       "3        TRUMAN CAPOTE       1994                  \n",
       "4        Rebecca Wells       1996                  \n",
       "...                ...        ...                  \n",
       "1031131  Katherine Neville   2002                  \n",
       "1031132  Ludwig Marum        1984                  \n",
       "1031133  L. M. Montgomery    2001                  \n",
       "1031134  Angela Johnson      1998                  \n",
       "1031135  David Antony Kroft  1985                  \n",
       "\n",
       "                                          Publisher  \\\n",
       "0        Ballantine Books                             \n",
       "1        Ballantine Books                             \n",
       "2        Tor Books                                    \n",
       "3        Vintage                                      \n",
       "4        HarperCollins                                \n",
       "...                ...                                \n",
       "1031131  Le Cherche Midi                              \n",
       "1031132  C.F. MÃ¼ller                                 \n",
       "1031133  Starfire                                     \n",
       "1031134  Simon &amp; Schuster Children's Publishing   \n",
       "1031135  HarperCollins Publishers                     \n",
       "\n",
       "                                                          Image-URL-S  \\\n",
       "0        http://images.amazon.com/images/P/034545104X.01.THUMBZZZ.jpg   \n",
       "1        http://images.amazon.com/images/P/034545104X.01.THUMBZZZ.jpg   \n",
       "2        http://images.amazon.com/images/P/0812533550.01.THUMBZZZ.jpg   \n",
       "3        http://images.amazon.com/images/P/0679745580.01.THUMBZZZ.jpg   \n",
       "4        http://images.amazon.com/images/P/0060173289.01.THUMBZZZ.jpg   \n",
       "...                                                               ...   \n",
       "1031131  http://images.amazon.com/images/P/2862749796.01.THUMBZZZ.jpg   \n",
       "1031132  http://images.amazon.com/images/P/3788097000.01.THUMBZZZ.jpg   \n",
       "1031133  http://images.amazon.com/images/P/0553571001.01.THUMBZZZ.jpg   \n",
       "1031134  http://images.amazon.com/images/P/0689822294.01.THUMBZZZ.jpg   \n",
       "1031135  http://images.amazon.com/images/P/0583307841.01.THUMBZZZ.jpg   \n",
       "\n",
       "                                                          Image-URL-M  \\\n",
       "0        http://images.amazon.com/images/P/034545104X.01.MZZZZZZZ.jpg   \n",
       "1        http://images.amazon.com/images/P/034545104X.01.MZZZZZZZ.jpg   \n",
       "2        http://images.amazon.com/images/P/0812533550.01.MZZZZZZZ.jpg   \n",
       "3        http://images.amazon.com/images/P/0679745580.01.MZZZZZZZ.jpg   \n",
       "4        http://images.amazon.com/images/P/0060173289.01.MZZZZZZZ.jpg   \n",
       "...                                                               ...   \n",
       "1031131  http://images.amazon.com/images/P/2862749796.01.MZZZZZZZ.jpg   \n",
       "1031132  http://images.amazon.com/images/P/3788097000.01.MZZZZZZZ.jpg   \n",
       "1031133  http://images.amazon.com/images/P/0553571001.01.MZZZZZZZ.jpg   \n",
       "1031134  http://images.amazon.com/images/P/0689822294.01.MZZZZZZZ.jpg   \n",
       "1031135  http://images.amazon.com/images/P/0583307841.01.MZZZZZZZ.jpg   \n",
       "\n",
       "                                                          Image-URL-L   Age  \\\n",
       "0        http://images.amazon.com/images/P/034545104X.01.LZZZZZZZ.jpg  34.0   \n",
       "1        http://images.amazon.com/images/P/034545104X.01.LZZZZZZZ.jpg  23.0   \n",
       "2        http://images.amazon.com/images/P/0812533550.01.LZZZZZZZ.jpg  23.0   \n",
       "3        http://images.amazon.com/images/P/0679745580.01.LZZZZZZZ.jpg  23.0   \n",
       "4        http://images.amazon.com/images/P/0060173289.01.LZZZZZZZ.jpg  23.0   \n",
       "...                                                               ...   ...   \n",
       "1031131  http://images.amazon.com/images/P/2862749796.01.LZZZZZZZ.jpg  62.0   \n",
       "1031132  http://images.amazon.com/images/P/3788097000.01.LZZZZZZZ.jpg  34.0   \n",
       "1031133  http://images.amazon.com/images/P/0553571001.01.LZZZZZZZ.jpg  15.0   \n",
       "1031134  http://images.amazon.com/images/P/0689822294.01.LZZZZZZZ.jpg  15.0   \n",
       "1031135  http://images.amazon.com/images/P/0583307841.01.LZZZZZZZ.jpg  15.0   \n",
       "\n",
       "              country  \n",
       "0         usa          \n",
       "1         usa          \n",
       "2         usa          \n",
       "3         usa          \n",
       "4         usa          \n",
       "...       ...          \n",
       "1031131   switzerland  \n",
       "1031132   germany\"     \n",
       "1031133   usa          \n",
       "1031134   usa          \n",
       "1031135   singapore    \n",
       "\n",
       "[1031136 rows x 12 columns]"
      ]
     },
     "execution_count": 71,
     "metadata": {},
     "output_type": "execute_result"
    }
   ],
   "source": [
    "agedata=dataset.copy()\n",
    "agedata"
   ]
  },
  {
   "cell_type": "code",
   "execution_count": 72,
   "id": "d188ce9a",
   "metadata": {
    "colab": {
     "base_uri": "https://localhost:8080/",
     "height": 354
    },
    "id": "l9nEy10Pa1w3",
    "outputId": "d3c70e87-1ae8-41ba-a973-858453134647"
   },
   "outputs": [
    {
     "data": {
      "text/html": [
       "<div>\n",
       "<style scoped>\n",
       "    .dataframe tbody tr th:only-of-type {\n",
       "        vertical-align: middle;\n",
       "    }\n",
       "\n",
       "    .dataframe tbody tr th {\n",
       "        vertical-align: top;\n",
       "    }\n",
       "\n",
       "    .dataframe thead th {\n",
       "        text-align: right;\n",
       "    }\n",
       "</style>\n",
       "<table border=\"1\" class=\"dataframe\">\n",
       "  <thead>\n",
       "    <tr style=\"text-align: right;\">\n",
       "      <th></th>\n",
       "      <th>User-ID</th>\n",
       "      <th>ISBN</th>\n",
       "      <th>Book-Rating</th>\n",
       "      <th>Book-Title</th>\n",
       "      <th>Book-Author</th>\n",
       "      <th>Year-Of-Publication</th>\n",
       "      <th>Publisher</th>\n",
       "      <th>Image-URL-S</th>\n",
       "      <th>Image-URL-M</th>\n",
       "      <th>Image-URL-L</th>\n",
       "      <th>Age</th>\n",
       "      <th>country</th>\n",
       "      <th>age_group</th>\n",
       "    </tr>\n",
       "  </thead>\n",
       "  <tbody>\n",
       "    <tr>\n",
       "      <th>0</th>\n",
       "      <td>276725</td>\n",
       "      <td>034545104X</td>\n",
       "      <td>0</td>\n",
       "      <td>Flesh Tones: A Novel</td>\n",
       "      <td>M. J. Rose</td>\n",
       "      <td>2002</td>\n",
       "      <td>Ballantine Books</td>\n",
       "      <td>http://images.amazon.com/images/P/034545104X.01.THUMBZZZ.jpg</td>\n",
       "      <td>http://images.amazon.com/images/P/034545104X.01.MZZZZZZZ.jpg</td>\n",
       "      <td>http://images.amazon.com/images/P/034545104X.01.LZZZZZZZ.jpg</td>\n",
       "      <td>34.0</td>\n",
       "      <td>usa</td>\n",
       "      <td>adults</td>\n",
       "    </tr>\n",
       "    <tr>\n",
       "      <th>1</th>\n",
       "      <td>2313</td>\n",
       "      <td>034545104X</td>\n",
       "      <td>5</td>\n",
       "      <td>Flesh Tones: A Novel</td>\n",
       "      <td>M. J. Rose</td>\n",
       "      <td>2002</td>\n",
       "      <td>Ballantine Books</td>\n",
       "      <td>http://images.amazon.com/images/P/034545104X.01.THUMBZZZ.jpg</td>\n",
       "      <td>http://images.amazon.com/images/P/034545104X.01.MZZZZZZZ.jpg</td>\n",
       "      <td>http://images.amazon.com/images/P/034545104X.01.LZZZZZZZ.jpg</td>\n",
       "      <td>23.0</td>\n",
       "      <td>usa</td>\n",
       "      <td>youth</td>\n",
       "    </tr>\n",
       "    <tr>\n",
       "      <th>2</th>\n",
       "      <td>2313</td>\n",
       "      <td>0812533550</td>\n",
       "      <td>9</td>\n",
       "      <td>Ender's Game (Ender Wiggins Saga (Paperback))</td>\n",
       "      <td>Orson Scott Card</td>\n",
       "      <td>1986</td>\n",
       "      <td>Tor Books</td>\n",
       "      <td>http://images.amazon.com/images/P/0812533550.01.THUMBZZZ.jpg</td>\n",
       "      <td>http://images.amazon.com/images/P/0812533550.01.MZZZZZZZ.jpg</td>\n",
       "      <td>http://images.amazon.com/images/P/0812533550.01.LZZZZZZZ.jpg</td>\n",
       "      <td>23.0</td>\n",
       "      <td>usa</td>\n",
       "      <td>youth</td>\n",
       "    </tr>\n",
       "    <tr>\n",
       "      <th>3</th>\n",
       "      <td>2313</td>\n",
       "      <td>0679745580</td>\n",
       "      <td>8</td>\n",
       "      <td>In Cold Blood (Vintage International)</td>\n",
       "      <td>TRUMAN CAPOTE</td>\n",
       "      <td>1994</td>\n",
       "      <td>Vintage</td>\n",
       "      <td>http://images.amazon.com/images/P/0679745580.01.THUMBZZZ.jpg</td>\n",
       "      <td>http://images.amazon.com/images/P/0679745580.01.MZZZZZZZ.jpg</td>\n",
       "      <td>http://images.amazon.com/images/P/0679745580.01.LZZZZZZZ.jpg</td>\n",
       "      <td>23.0</td>\n",
       "      <td>usa</td>\n",
       "      <td>youth</td>\n",
       "    </tr>\n",
       "    <tr>\n",
       "      <th>4</th>\n",
       "      <td>2313</td>\n",
       "      <td>0060173289</td>\n",
       "      <td>9</td>\n",
       "      <td>Divine Secrets of the Ya-Ya Sisterhood : A Novel</td>\n",
       "      <td>Rebecca Wells</td>\n",
       "      <td>1996</td>\n",
       "      <td>HarperCollins</td>\n",
       "      <td>http://images.amazon.com/images/P/0060173289.01.THUMBZZZ.jpg</td>\n",
       "      <td>http://images.amazon.com/images/P/0060173289.01.MZZZZZZZ.jpg</td>\n",
       "      <td>http://images.amazon.com/images/P/0060173289.01.LZZZZZZZ.jpg</td>\n",
       "      <td>23.0</td>\n",
       "      <td>usa</td>\n",
       "      <td>youth</td>\n",
       "    </tr>\n",
       "  </tbody>\n",
       "</table>\n",
       "</div>"
      ],
      "text/plain": [
       "   User-ID        ISBN  Book-Rating  \\\n",
       "0  276725   034545104X  0             \n",
       "1  2313     034545104X  5             \n",
       "2  2313     0812533550  9             \n",
       "3  2313     0679745580  8             \n",
       "4  2313     0060173289  9             \n",
       "\n",
       "                                         Book-Title       Book-Author  \\\n",
       "0  Flesh Tones: A Novel                              M. J. Rose         \n",
       "1  Flesh Tones: A Novel                              M. J. Rose         \n",
       "2  Ender's Game (Ender Wiggins Saga (Paperback))     Orson Scott Card   \n",
       "3  In Cold Blood (Vintage International)             TRUMAN CAPOTE      \n",
       "4  Divine Secrets of the Ya-Ya Sisterhood : A Novel  Rebecca Wells      \n",
       "\n",
       "   Year-Of-Publication         Publisher  \\\n",
       "0  2002                 Ballantine Books   \n",
       "1  2002                 Ballantine Books   \n",
       "2  1986                 Tor Books          \n",
       "3  1994                 Vintage            \n",
       "4  1996                 HarperCollins      \n",
       "\n",
       "                                                    Image-URL-S  \\\n",
       "0  http://images.amazon.com/images/P/034545104X.01.THUMBZZZ.jpg   \n",
       "1  http://images.amazon.com/images/P/034545104X.01.THUMBZZZ.jpg   \n",
       "2  http://images.amazon.com/images/P/0812533550.01.THUMBZZZ.jpg   \n",
       "3  http://images.amazon.com/images/P/0679745580.01.THUMBZZZ.jpg   \n",
       "4  http://images.amazon.com/images/P/0060173289.01.THUMBZZZ.jpg   \n",
       "\n",
       "                                                    Image-URL-M  \\\n",
       "0  http://images.amazon.com/images/P/034545104X.01.MZZZZZZZ.jpg   \n",
       "1  http://images.amazon.com/images/P/034545104X.01.MZZZZZZZ.jpg   \n",
       "2  http://images.amazon.com/images/P/0812533550.01.MZZZZZZZ.jpg   \n",
       "3  http://images.amazon.com/images/P/0679745580.01.MZZZZZZZ.jpg   \n",
       "4  http://images.amazon.com/images/P/0060173289.01.MZZZZZZZ.jpg   \n",
       "\n",
       "                                                    Image-URL-L   Age country  \\\n",
       "0  http://images.amazon.com/images/P/034545104X.01.LZZZZZZZ.jpg  34.0   usa     \n",
       "1  http://images.amazon.com/images/P/034545104X.01.LZZZZZZZ.jpg  23.0   usa     \n",
       "2  http://images.amazon.com/images/P/0812533550.01.LZZZZZZZ.jpg  23.0   usa     \n",
       "3  http://images.amazon.com/images/P/0679745580.01.LZZZZZZZ.jpg  23.0   usa     \n",
       "4  http://images.amazon.com/images/P/0060173289.01.LZZZZZZZ.jpg  23.0   usa     \n",
       "\n",
       "  age_group  \n",
       "0  adults    \n",
       "1  youth     \n",
       "2  youth     \n",
       "3  youth     \n",
       "4  youth     "
      ]
     },
     "execution_count": 72,
     "metadata": {},
     "output_type": "execute_result"
    }
   ],
   "source": [
    "#converting age column into groups 0 to 25 youth, 26 to 50 adults and > 50 seniors \n",
    "agedata['age_group']=pd.cut(agedata['Age'],bins=[0,25,50,101],labels=['youth','adults','seniors'],right = False)\n",
    "agedata.head()"
   ]
  },
  {
   "cell_type": "code",
   "execution_count": 73,
   "id": "fc57dff1",
   "metadata": {
    "colab": {
     "base_uri": "https://localhost:8080/",
     "height": 1000
    },
    "id": "nzEg9b3dbdwF",
    "outputId": "5cdf39b3-1d93-4a51-cff6-7aad400e594d"
   },
   "outputs": [
    {
     "data": {
      "text/html": [
       "<div>\n",
       "<style scoped>\n",
       "    .dataframe tbody tr th:only-of-type {\n",
       "        vertical-align: middle;\n",
       "    }\n",
       "\n",
       "    .dataframe tbody tr th {\n",
       "        vertical-align: top;\n",
       "    }\n",
       "\n",
       "    .dataframe thead th {\n",
       "        text-align: right;\n",
       "    }\n",
       "</style>\n",
       "<table border=\"1\" class=\"dataframe\">\n",
       "  <thead>\n",
       "    <tr style=\"text-align: right;\">\n",
       "      <th></th>\n",
       "      <th>age_group</th>\n",
       "      <th>Book-Rating</th>\n",
       "      <th>count</th>\n",
       "    </tr>\n",
       "  </thead>\n",
       "  <tbody>\n",
       "    <tr>\n",
       "      <th>0</th>\n",
       "      <td>youth</td>\n",
       "      <td>0</td>\n",
       "      <td>61100</td>\n",
       "    </tr>\n",
       "    <tr>\n",
       "      <th>1</th>\n",
       "      <td>youth</td>\n",
       "      <td>8</td>\n",
       "      <td>9277</td>\n",
       "    </tr>\n",
       "    <tr>\n",
       "      <th>2</th>\n",
       "      <td>youth</td>\n",
       "      <td>10</td>\n",
       "      <td>8681</td>\n",
       "    </tr>\n",
       "    <tr>\n",
       "      <th>3</th>\n",
       "      <td>youth</td>\n",
       "      <td>7</td>\n",
       "      <td>6946</td>\n",
       "    </tr>\n",
       "    <tr>\n",
       "      <th>4</th>\n",
       "      <td>youth</td>\n",
       "      <td>9</td>\n",
       "      <td>6617</td>\n",
       "    </tr>\n",
       "    <tr>\n",
       "      <th>5</th>\n",
       "      <td>youth</td>\n",
       "      <td>5</td>\n",
       "      <td>4337</td>\n",
       "    </tr>\n",
       "    <tr>\n",
       "      <th>6</th>\n",
       "      <td>youth</td>\n",
       "      <td>6</td>\n",
       "      <td>3445</td>\n",
       "    </tr>\n",
       "    <tr>\n",
       "      <th>7</th>\n",
       "      <td>youth</td>\n",
       "      <td>4</td>\n",
       "      <td>885</td>\n",
       "    </tr>\n",
       "    <tr>\n",
       "      <th>8</th>\n",
       "      <td>youth</td>\n",
       "      <td>3</td>\n",
       "      <td>569</td>\n",
       "    </tr>\n",
       "    <tr>\n",
       "      <th>9</th>\n",
       "      <td>youth</td>\n",
       "      <td>2</td>\n",
       "      <td>276</td>\n",
       "    </tr>\n",
       "    <tr>\n",
       "      <th>10</th>\n",
       "      <td>youth</td>\n",
       "      <td>1</td>\n",
       "      <td>201</td>\n",
       "    </tr>\n",
       "    <tr>\n",
       "      <th>11</th>\n",
       "      <td>adults</td>\n",
       "      <td>0</td>\n",
       "      <td>501471</td>\n",
       "    </tr>\n",
       "    <tr>\n",
       "      <th>12</th>\n",
       "      <td>adults</td>\n",
       "      <td>8</td>\n",
       "      <td>71064</td>\n",
       "    </tr>\n",
       "    <tr>\n",
       "      <th>13</th>\n",
       "      <td>adults</td>\n",
       "      <td>10</td>\n",
       "      <td>52834</td>\n",
       "    </tr>\n",
       "    <tr>\n",
       "      <th>14</th>\n",
       "      <td>adults</td>\n",
       "      <td>7</td>\n",
       "      <td>52469</td>\n",
       "    </tr>\n",
       "    <tr>\n",
       "      <th>15</th>\n",
       "      <td>adults</td>\n",
       "      <td>9</td>\n",
       "      <td>45575</td>\n",
       "    </tr>\n",
       "    <tr>\n",
       "      <th>16</th>\n",
       "      <td>adults</td>\n",
       "      <td>5</td>\n",
       "      <td>36487</td>\n",
       "    </tr>\n",
       "    <tr>\n",
       "      <th>17</th>\n",
       "      <td>adults</td>\n",
       "      <td>6</td>\n",
       "      <td>25031</td>\n",
       "    </tr>\n",
       "    <tr>\n",
       "      <th>18</th>\n",
       "      <td>adults</td>\n",
       "      <td>4</td>\n",
       "      <td>6002</td>\n",
       "    </tr>\n",
       "    <tr>\n",
       "      <th>19</th>\n",
       "      <td>adults</td>\n",
       "      <td>3</td>\n",
       "      <td>4104</td>\n",
       "    </tr>\n",
       "    <tr>\n",
       "      <th>20</th>\n",
       "      <td>adults</td>\n",
       "      <td>2</td>\n",
       "      <td>1922</td>\n",
       "    </tr>\n",
       "    <tr>\n",
       "      <th>21</th>\n",
       "      <td>adults</td>\n",
       "      <td>1</td>\n",
       "      <td>1203</td>\n",
       "    </tr>\n",
       "    <tr>\n",
       "      <th>22</th>\n",
       "      <td>seniors</td>\n",
       "      <td>0</td>\n",
       "      <td>84723</td>\n",
       "    </tr>\n",
       "    <tr>\n",
       "      <th>23</th>\n",
       "      <td>seniors</td>\n",
       "      <td>8</td>\n",
       "      <td>11463</td>\n",
       "    </tr>\n",
       "    <tr>\n",
       "      <th>24</th>\n",
       "      <td>seniors</td>\n",
       "      <td>10</td>\n",
       "      <td>9710</td>\n",
       "    </tr>\n",
       "    <tr>\n",
       "      <th>25</th>\n",
       "      <td>seniors</td>\n",
       "      <td>9</td>\n",
       "      <td>8586</td>\n",
       "    </tr>\n",
       "    <tr>\n",
       "      <th>26</th>\n",
       "      <td>seniors</td>\n",
       "      <td>7</td>\n",
       "      <td>6987</td>\n",
       "    </tr>\n",
       "    <tr>\n",
       "      <th>27</th>\n",
       "      <td>seniors</td>\n",
       "      <td>5</td>\n",
       "      <td>4531</td>\n",
       "    </tr>\n",
       "    <tr>\n",
       "      <th>28</th>\n",
       "      <td>seniors</td>\n",
       "      <td>6</td>\n",
       "      <td>3211</td>\n",
       "    </tr>\n",
       "    <tr>\n",
       "      <th>29</th>\n",
       "      <td>seniors</td>\n",
       "      <td>4</td>\n",
       "      <td>730</td>\n",
       "    </tr>\n",
       "    <tr>\n",
       "      <th>30</th>\n",
       "      <td>seniors</td>\n",
       "      <td>3</td>\n",
       "      <td>445</td>\n",
       "    </tr>\n",
       "    <tr>\n",
       "      <th>31</th>\n",
       "      <td>seniors</td>\n",
       "      <td>2</td>\n",
       "      <td>177</td>\n",
       "    </tr>\n",
       "    <tr>\n",
       "      <th>32</th>\n",
       "      <td>seniors</td>\n",
       "      <td>1</td>\n",
       "      <td>77</td>\n",
       "    </tr>\n",
       "  </tbody>\n",
       "</table>\n",
       "</div>"
      ],
      "text/plain": [
       "   age_group  Book-Rating   count\n",
       "0   youth     0            61100 \n",
       "1   youth     8            9277  \n",
       "2   youth     10           8681  \n",
       "3   youth     7            6946  \n",
       "4   youth     9            6617  \n",
       "5   youth     5            4337  \n",
       "6   youth     6            3445  \n",
       "7   youth     4            885   \n",
       "8   youth     3            569   \n",
       "9   youth     2            276   \n",
       "10  youth     1            201   \n",
       "11  adults    0            501471\n",
       "12  adults    8            71064 \n",
       "13  adults    10           52834 \n",
       "14  adults    7            52469 \n",
       "15  adults    9            45575 \n",
       "16  adults    5            36487 \n",
       "17  adults    6            25031 \n",
       "18  adults    4            6002  \n",
       "19  adults    3            4104  \n",
       "20  adults    2            1922  \n",
       "21  adults    1            1203  \n",
       "22  seniors   0            84723 \n",
       "23  seniors   8            11463 \n",
       "24  seniors   10           9710  \n",
       "25  seniors   9            8586  \n",
       "26  seniors   7            6987  \n",
       "27  seniors   5            4531  \n",
       "28  seniors   6            3211  \n",
       "29  seniors   4            730   \n",
       "30  seniors   3            445   \n",
       "31  seniors   2            177   \n",
       "32  seniors   1            77    "
      ]
     },
     "execution_count": 73,
     "metadata": {},
     "output_type": "execute_result"
    }
   ],
   "source": [
    "df1=agedata.groupby('age_group')['Book-Rating'].value_counts().reset_index(name='count')\n",
    "df1"
   ]
  },
  {
   "cell_type": "code",
   "execution_count": 74,
   "id": "7faaaacf",
   "metadata": {
    "id": "PxncXeqW0lNR"
   },
   "outputs": [],
   "source": [
    "#dataset for Ratings 8 to 10\n",
    "ratings=agedata[agedata[\"Book-Rating\"]>7]"
   ]
  },
  {
   "cell_type": "code",
   "execution_count": 75,
   "id": "05a1ff93",
   "metadata": {
    "colab": {
     "base_uri": "https://localhost:8080/",
     "height": 815
    },
    "id": "8O3Qu2E30lEX",
    "outputId": "58c7acde-7442-431c-de6d-70e1496e1867"
   },
   "outputs": [
    {
     "data": {
      "text/html": [
       "<div>\n",
       "<style scoped>\n",
       "    .dataframe tbody tr th:only-of-type {\n",
       "        vertical-align: middle;\n",
       "    }\n",
       "\n",
       "    .dataframe tbody tr th {\n",
       "        vertical-align: top;\n",
       "    }\n",
       "\n",
       "    .dataframe thead th {\n",
       "        text-align: right;\n",
       "    }\n",
       "</style>\n",
       "<table border=\"1\" class=\"dataframe\">\n",
       "  <thead>\n",
       "    <tr style=\"text-align: right;\">\n",
       "      <th></th>\n",
       "      <th>User-ID</th>\n",
       "      <th>ISBN</th>\n",
       "      <th>Book-Rating</th>\n",
       "      <th>Book-Title</th>\n",
       "      <th>Book-Author</th>\n",
       "      <th>Year-Of-Publication</th>\n",
       "      <th>Publisher</th>\n",
       "      <th>Image-URL-S</th>\n",
       "      <th>Image-URL-M</th>\n",
       "      <th>Image-URL-L</th>\n",
       "      <th>Age</th>\n",
       "      <th>country</th>\n",
       "      <th>age_group</th>\n",
       "    </tr>\n",
       "  </thead>\n",
       "  <tbody>\n",
       "    <tr>\n",
       "      <th>2</th>\n",
       "      <td>2313</td>\n",
       "      <td>0812533550</td>\n",
       "      <td>9</td>\n",
       "      <td>Ender's Game (Ender Wiggins Saga (Paperback))</td>\n",
       "      <td>Orson Scott Card</td>\n",
       "      <td>1986</td>\n",
       "      <td>Tor Books</td>\n",
       "      <td>http://images.amazon.com/images/P/0812533550.01.THUMBZZZ.jpg</td>\n",
       "      <td>http://images.amazon.com/images/P/0812533550.01.MZZZZZZZ.jpg</td>\n",
       "      <td>http://images.amazon.com/images/P/0812533550.01.LZZZZZZZ.jpg</td>\n",
       "      <td>23.0</td>\n",
       "      <td>usa</td>\n",
       "      <td>youth</td>\n",
       "    </tr>\n",
       "    <tr>\n",
       "      <th>3</th>\n",
       "      <td>2313</td>\n",
       "      <td>0679745580</td>\n",
       "      <td>8</td>\n",
       "      <td>In Cold Blood (Vintage International)</td>\n",
       "      <td>TRUMAN CAPOTE</td>\n",
       "      <td>1994</td>\n",
       "      <td>Vintage</td>\n",
       "      <td>http://images.amazon.com/images/P/0679745580.01.THUMBZZZ.jpg</td>\n",
       "      <td>http://images.amazon.com/images/P/0679745580.01.MZZZZZZZ.jpg</td>\n",
       "      <td>http://images.amazon.com/images/P/0679745580.01.LZZZZZZZ.jpg</td>\n",
       "      <td>23.0</td>\n",
       "      <td>usa</td>\n",
       "      <td>youth</td>\n",
       "    </tr>\n",
       "    <tr>\n",
       "      <th>4</th>\n",
       "      <td>2313</td>\n",
       "      <td>0060173289</td>\n",
       "      <td>9</td>\n",
       "      <td>Divine Secrets of the Ya-Ya Sisterhood : A Novel</td>\n",
       "      <td>Rebecca Wells</td>\n",
       "      <td>1996</td>\n",
       "      <td>HarperCollins</td>\n",
       "      <td>http://images.amazon.com/images/P/0060173289.01.THUMBZZZ.jpg</td>\n",
       "      <td>http://images.amazon.com/images/P/0060173289.01.MZZZZZZZ.jpg</td>\n",
       "      <td>http://images.amazon.com/images/P/0060173289.01.LZZZZZZZ.jpg</td>\n",
       "      <td>23.0</td>\n",
       "      <td>usa</td>\n",
       "      <td>youth</td>\n",
       "    </tr>\n",
       "    <tr>\n",
       "      <th>7</th>\n",
       "      <td>2313</td>\n",
       "      <td>0345348036</td>\n",
       "      <td>9</td>\n",
       "      <td>The Princess Bride: S Morgenstern's Classic Tale of True Love and High Adventure</td>\n",
       "      <td>WILLIAM GOLDMAN</td>\n",
       "      <td>1987</td>\n",
       "      <td>Del Rey</td>\n",
       "      <td>http://images.amazon.com/images/P/0345348036.01.THUMBZZZ.jpg</td>\n",
       "      <td>http://images.amazon.com/images/P/0345348036.01.MZZZZZZZ.jpg</td>\n",
       "      <td>http://images.amazon.com/images/P/0345348036.01.LZZZZZZZ.jpg</td>\n",
       "      <td>23.0</td>\n",
       "      <td>usa</td>\n",
       "      <td>youth</td>\n",
       "    </tr>\n",
       "    <tr>\n",
       "      <th>10</th>\n",
       "      <td>2313</td>\n",
       "      <td>0020442602</td>\n",
       "      <td>9</td>\n",
       "      <td>Voyage of the Dawn Treader</td>\n",
       "      <td>C. S. Lewis</td>\n",
       "      <td>1970</td>\n",
       "      <td>MacMillan Publishing Company.</td>\n",
       "      <td>http://images.amazon.com/images/P/0020442602.01.THUMBZZZ.jpg</td>\n",
       "      <td>http://images.amazon.com/images/P/0020442602.01.MZZZZZZZ.jpg</td>\n",
       "      <td>http://images.amazon.com/images/P/0020442602.01.LZZZZZZZ.jpg</td>\n",
       "      <td>23.0</td>\n",
       "      <td>usa</td>\n",
       "      <td>youth</td>\n",
       "    </tr>\n",
       "    <tr>\n",
       "      <th>...</th>\n",
       "      <td>...</td>\n",
       "      <td>...</td>\n",
       "      <td>...</td>\n",
       "      <td>...</td>\n",
       "      <td>...</td>\n",
       "      <td>...</td>\n",
       "      <td>...</td>\n",
       "      <td>...</td>\n",
       "      <td>...</td>\n",
       "      <td>...</td>\n",
       "      <td>...</td>\n",
       "      <td>...</td>\n",
       "      <td>...</td>\n",
       "    </tr>\n",
       "    <tr>\n",
       "      <th>1031123</th>\n",
       "      <td>276067</td>\n",
       "      <td>0694004162</td>\n",
       "      <td>10</td>\n",
       "      <td>If You Give a Mouse a Cookie/Mini Book and Mouse Doll</td>\n",
       "      <td>Laura Joffe Numeroff</td>\n",
       "      <td>1992</td>\n",
       "      <td>HarperCollins Publishers</td>\n",
       "      <td>http://images.amazon.com/images/P/0694004162.01.THUMBZZZ.jpg</td>\n",
       "      <td>http://images.amazon.com/images/P/0694004162.01.MZZZZZZZ.jpg</td>\n",
       "      <td>http://images.amazon.com/images/P/0694004162.01.LZZZZZZZ.jpg</td>\n",
       "      <td>36.0</td>\n",
       "      <td>usa</td>\n",
       "      <td>adults</td>\n",
       "    </tr>\n",
       "    <tr>\n",
       "      <th>1031124</th>\n",
       "      <td>276142</td>\n",
       "      <td>0671038672</td>\n",
       "      <td>10</td>\n",
       "      <td>Lights Out : Sleep, Sugar, and Survival</td>\n",
       "      <td>T. S. Wiley</td>\n",
       "      <td>2000</td>\n",
       "      <td>Atria</td>\n",
       "      <td>http://images.amazon.com/images/P/0671038672.01.THUMBZZZ.jpg</td>\n",
       "      <td>http://images.amazon.com/images/P/0671038672.01.MZZZZZZZ.jpg</td>\n",
       "      <td>http://images.amazon.com/images/P/0671038672.01.LZZZZZZZ.jpg</td>\n",
       "      <td>34.0</td>\n",
       "      <td>canada</td>\n",
       "      <td>adults</td>\n",
       "    </tr>\n",
       "    <tr>\n",
       "      <th>1031126</th>\n",
       "      <td>276221</td>\n",
       "      <td>1550741136</td>\n",
       "      <td>8</td>\n",
       "      <td>The Science Book for Girls: And Other Intelligent Beings</td>\n",
       "      <td>Valerie Wyatt</td>\n",
       "      <td>1997</td>\n",
       "      <td>Kids Can Press</td>\n",
       "      <td>http://images.amazon.com/images/P/1550741136.01.THUMBZZZ.jpg</td>\n",
       "      <td>http://images.amazon.com/images/P/1550741136.01.MZZZZZZZ.jpg</td>\n",
       "      <td>http://images.amazon.com/images/P/1550741136.01.LZZZZZZZ.jpg</td>\n",
       "      <td>34.0</td>\n",
       "      <td></td>\n",
       "      <td>adults</td>\n",
       "    </tr>\n",
       "    <tr>\n",
       "      <th>1031134</th>\n",
       "      <td>276647</td>\n",
       "      <td>0689822294</td>\n",
       "      <td>10</td>\n",
       "      <td>Heaven (Coretta Scott King Author Award Winner)</td>\n",
       "      <td>Angela Johnson</td>\n",
       "      <td>1998</td>\n",
       "      <td>Simon &amp;amp; Schuster Children's Publishing</td>\n",
       "      <td>http://images.amazon.com/images/P/0689822294.01.THUMBZZZ.jpg</td>\n",
       "      <td>http://images.amazon.com/images/P/0689822294.01.MZZZZZZZ.jpg</td>\n",
       "      <td>http://images.amazon.com/images/P/0689822294.01.LZZZZZZZ.jpg</td>\n",
       "      <td>15.0</td>\n",
       "      <td>usa</td>\n",
       "      <td>youth</td>\n",
       "    </tr>\n",
       "    <tr>\n",
       "      <th>1031135</th>\n",
       "      <td>276660</td>\n",
       "      <td>0583307841</td>\n",
       "      <td>8</td>\n",
       "      <td>ROBOT RACE (MICRO ADV 6)</td>\n",
       "      <td>David Antony Kroft</td>\n",
       "      <td>1985</td>\n",
       "      <td>HarperCollins Publishers</td>\n",
       "      <td>http://images.amazon.com/images/P/0583307841.01.THUMBZZZ.jpg</td>\n",
       "      <td>http://images.amazon.com/images/P/0583307841.01.MZZZZZZZ.jpg</td>\n",
       "      <td>http://images.amazon.com/images/P/0583307841.01.LZZZZZZZ.jpg</td>\n",
       "      <td>15.0</td>\n",
       "      <td>singapore</td>\n",
       "      <td>youth</td>\n",
       "    </tr>\n",
       "  </tbody>\n",
       "</table>\n",
       "<p>223807 rows × 13 columns</p>\n",
       "</div>"
      ],
      "text/plain": [
       "         User-ID        ISBN  Book-Rating  \\\n",
       "2        2313     0812533550  9             \n",
       "3        2313     0679745580  8             \n",
       "4        2313     0060173289  9             \n",
       "7        2313     0345348036  9             \n",
       "10       2313     0020442602  9             \n",
       "...       ...            ... ..             \n",
       "1031123  276067   0694004162  10            \n",
       "1031124  276142   0671038672  10            \n",
       "1031126  276221   1550741136  8             \n",
       "1031134  276647   0689822294  10            \n",
       "1031135  276660   0583307841  8             \n",
       "\n",
       "                                                                               Book-Title  \\\n",
       "2        Ender's Game (Ender Wiggins Saga (Paperback))                                      \n",
       "3        In Cold Blood (Vintage International)                                              \n",
       "4        Divine Secrets of the Ya-Ya Sisterhood : A Novel                                   \n",
       "7        The Princess Bride: S Morgenstern's Classic Tale of True Love and High Adventure   \n",
       "10       Voyage of the Dawn Treader                                                         \n",
       "...                             ...                                                         \n",
       "1031123  If You Give a Mouse a Cookie/Mini Book and Mouse Doll                              \n",
       "1031124  Lights Out : Sleep, Sugar, and Survival                                            \n",
       "1031126  The Science Book for Girls: And Other Intelligent Beings                           \n",
       "1031134  Heaven (Coretta Scott King Author Award Winner)                                    \n",
       "1031135  ROBOT RACE (MICRO ADV 6)                                                           \n",
       "\n",
       "                  Book-Author  Year-Of-Publication  \\\n",
       "2        Orson Scott Card      1986                  \n",
       "3        TRUMAN CAPOTE         1994                  \n",
       "4        Rebecca Wells         1996                  \n",
       "7        WILLIAM GOLDMAN       1987                  \n",
       "10       C. S. Lewis           1970                  \n",
       "...              ...            ...                  \n",
       "1031123  Laura Joffe Numeroff  1992                  \n",
       "1031124  T. S. Wiley           2000                  \n",
       "1031126  Valerie Wyatt         1997                  \n",
       "1031134  Angela Johnson        1998                  \n",
       "1031135  David Antony Kroft    1985                  \n",
       "\n",
       "                                          Publisher  \\\n",
       "2        Tor Books                                    \n",
       "3        Vintage                                      \n",
       "4        HarperCollins                                \n",
       "7        Del Rey                                      \n",
       "10       MacMillan Publishing Company.                \n",
       "...                                ...                \n",
       "1031123  HarperCollins Publishers                     \n",
       "1031124  Atria                                        \n",
       "1031126  Kids Can Press                               \n",
       "1031134  Simon &amp; Schuster Children's Publishing   \n",
       "1031135  HarperCollins Publishers                     \n",
       "\n",
       "                                                          Image-URL-S  \\\n",
       "2        http://images.amazon.com/images/P/0812533550.01.THUMBZZZ.jpg   \n",
       "3        http://images.amazon.com/images/P/0679745580.01.THUMBZZZ.jpg   \n",
       "4        http://images.amazon.com/images/P/0060173289.01.THUMBZZZ.jpg   \n",
       "7        http://images.amazon.com/images/P/0345348036.01.THUMBZZZ.jpg   \n",
       "10       http://images.amazon.com/images/P/0020442602.01.THUMBZZZ.jpg   \n",
       "...                                                               ...   \n",
       "1031123  http://images.amazon.com/images/P/0694004162.01.THUMBZZZ.jpg   \n",
       "1031124  http://images.amazon.com/images/P/0671038672.01.THUMBZZZ.jpg   \n",
       "1031126  http://images.amazon.com/images/P/1550741136.01.THUMBZZZ.jpg   \n",
       "1031134  http://images.amazon.com/images/P/0689822294.01.THUMBZZZ.jpg   \n",
       "1031135  http://images.amazon.com/images/P/0583307841.01.THUMBZZZ.jpg   \n",
       "\n",
       "                                                          Image-URL-M  \\\n",
       "2        http://images.amazon.com/images/P/0812533550.01.MZZZZZZZ.jpg   \n",
       "3        http://images.amazon.com/images/P/0679745580.01.MZZZZZZZ.jpg   \n",
       "4        http://images.amazon.com/images/P/0060173289.01.MZZZZZZZ.jpg   \n",
       "7        http://images.amazon.com/images/P/0345348036.01.MZZZZZZZ.jpg   \n",
       "10       http://images.amazon.com/images/P/0020442602.01.MZZZZZZZ.jpg   \n",
       "...                                                               ...   \n",
       "1031123  http://images.amazon.com/images/P/0694004162.01.MZZZZZZZ.jpg   \n",
       "1031124  http://images.amazon.com/images/P/0671038672.01.MZZZZZZZ.jpg   \n",
       "1031126  http://images.amazon.com/images/P/1550741136.01.MZZZZZZZ.jpg   \n",
       "1031134  http://images.amazon.com/images/P/0689822294.01.MZZZZZZZ.jpg   \n",
       "1031135  http://images.amazon.com/images/P/0583307841.01.MZZZZZZZ.jpg   \n",
       "\n",
       "                                                          Image-URL-L   Age  \\\n",
       "2        http://images.amazon.com/images/P/0812533550.01.LZZZZZZZ.jpg  23.0   \n",
       "3        http://images.amazon.com/images/P/0679745580.01.LZZZZZZZ.jpg  23.0   \n",
       "4        http://images.amazon.com/images/P/0060173289.01.LZZZZZZZ.jpg  23.0   \n",
       "7        http://images.amazon.com/images/P/0345348036.01.LZZZZZZZ.jpg  23.0   \n",
       "10       http://images.amazon.com/images/P/0020442602.01.LZZZZZZZ.jpg  23.0   \n",
       "...                                                               ...   ...   \n",
       "1031123  http://images.amazon.com/images/P/0694004162.01.LZZZZZZZ.jpg  36.0   \n",
       "1031124  http://images.amazon.com/images/P/0671038672.01.LZZZZZZZ.jpg  34.0   \n",
       "1031126  http://images.amazon.com/images/P/1550741136.01.LZZZZZZZ.jpg  34.0   \n",
       "1031134  http://images.amazon.com/images/P/0689822294.01.LZZZZZZZ.jpg  15.0   \n",
       "1031135  http://images.amazon.com/images/P/0583307841.01.LZZZZZZZ.jpg  15.0   \n",
       "\n",
       "            country age_group  \n",
       "2         usa        youth     \n",
       "3         usa        youth     \n",
       "4         usa        youth     \n",
       "7         usa        youth     \n",
       "10        usa        youth     \n",
       "...       ...          ...     \n",
       "1031123   usa        adults    \n",
       "1031124   canada     adults    \n",
       "1031126              adults    \n",
       "1031134   usa        youth     \n",
       "1031135   singapore  youth     \n",
       "\n",
       "[223807 rows x 13 columns]"
      ]
     },
     "execution_count": 75,
     "metadata": {},
     "output_type": "execute_result"
    }
   ],
   "source": [
    "ratings"
   ]
  },
  {
   "cell_type": "code",
   "execution_count": 76,
   "id": "eb48ffaf",
   "metadata": {
    "colab": {
     "base_uri": "https://localhost:8080/",
     "height": 459
    },
    "id": "tad9Jf1Ubpu_",
    "outputId": "e489ac01-d8a6-46f5-8ad5-17780f2fb412",
    "scrolled": true
   },
   "outputs": [
    {
     "data": {
      "text/plain": [
       "[Text(0.5, 0, 'Book-Rating')]"
      ]
     },
     "execution_count": 76,
     "metadata": {},
     "output_type": "execute_result"
    },
    {
     "data": {
      "image/png": "[encoded data removed]",
      "text/plain": [
       "<Figure size 864x504 with 1 Axes>"
      ]
     },
     "metadata": {
      "needs_background": "light"
     },
     "output_type": "display_data"
    }
   ],
   "source": [
    "#Plot\n",
    "plt.figure(figsize=(12,7))\n",
    "p = sns.barplot(x='Book-Rating',y='count',data=df1,hue='age_group')\n",
    "p.legend(title='Age grp ratings',bbox_to_anchor=(1,1),loc='upper left')\n",
    "p.set(xlabel='Book-Rating')"
   ]
  },
  {
   "cell_type": "markdown",
   "id": "75c2b43a",
   "metadata": {
    "id": "7V4w7_a9puxF"
   },
   "source": [
    "# **EDA**"
   ]
  },
  {
   "cell_type": "code",
   "execution_count": 77,
   "id": "0876fc75",
   "metadata": {
    "colab": {
     "base_uri": "https://localhost:8080/",
     "height": 514
    },
    "id": "_scFO_xgc5Jf",
    "outputId": "583f8342-3988-4bfb-82c2-247d9b4be80f"
   },
   "outputs": [
    {
     "data": {
      "text/plain": [
       "<AxesSubplot:xlabel='Book-Rating', ylabel='count'>"
      ]
     },
     "execution_count": 77,
     "metadata": {},
     "output_type": "execute_result"
    },
    {
     "data": {
      "image/png": "[encoded data removed]",
      "text/plain": [
       "<Figure size 720x576 with 1 Axes>"
      ]
     },
     "metadata": {
      "needs_background": "light"
     },
     "output_type": "display_data"
    }
   ],
   "source": [
    "#Countplot of 0 to 10 ratings \n",
    "plt.figure(figsize=(10,8))\n",
    "sns.countplot(x=\"Book-Rating\", data=rating)"
   ]
  },
  {
   "cell_type": "code",
   "execution_count": 78,
   "id": "cb5c7bd6",
   "metadata": {
    "colab": {
     "base_uri": "https://localhost:8080/",
     "height": 459
    },
    "id": "ffdJUhYgqCFI",
    "outputId": "cf878caa-8d6d-4de3-8b8f-9281a9dad1c2"
   },
   "outputs": [
    {
     "data": {
      "text/plain": [
       "[Text(0.5, 0, 'Book-Rating')]"
      ]
     },
     "execution_count": 78,
     "metadata": {},
     "output_type": "execute_result"
    },
    {
     "data": {
      "image/png": "[encoded data removed]",
      "text/plain": [
       "<Figure size 864x504 with 1 Axes>"
      ]
     },
     "metadata": {
      "needs_background": "light"
     },
     "output_type": "display_data"
    }
   ],
   "source": [
    "#Plot of age group of above count plot \n",
    "#youth= 0 to 25 , adults = 25 to 50 and seniors > 50 years of age\n",
    "plt.figure(figsize=(12,7))\n",
    "p = sns.barplot(x='Book-Rating',y='count',data=df1,hue='age_group')\n",
    "p.legend(title='Age grp ratings',bbox_to_anchor=(1,1),loc='upper left')\n",
    "p.set(xlabel='Book-Rating')"
   ]
  },
  {
   "cell_type": "code",
   "execution_count": 79,
   "id": "90726dac",
   "metadata": {
    "colab": {
     "base_uri": "https://localhost:8080/",
     "height": 475
    },
    "id": "tJvXhA7NqY-W",
    "outputId": "f27429e5-2cfc-4dc6-906a-28ade446b6fb"
   },
   "outputs": [
    {
     "data": {
      "text/plain": [
       "Text(0.5, 1.0, 'Top 10 countries with Most No. of readers')"
      ]
     },
     "execution_count": 79,
     "metadata": {},
     "output_type": "execute_result"
    },
    {
     "data": {
      "image/png": "[encoded data removed]",
      "text/plain": [
       "<Figure size 864x504 with 1 Axes>"
      ]
     },
     "metadata": {
      "needs_background": "light"
     },
     "output_type": "display_data"
    }
   ],
   "source": [
    "#plotting top 10 countries with most number of readers\n",
    "plt.figure(figsize=(12,7))\n",
    "sns.countplot(y=\"country\", data=agedata, order=agedata['country'].value_counts().index[0:10],color='blue')\n",
    "plt.title(\"Top 10 countries with Most No. of readers\")"
   ]
  },
  {
   "cell_type": "code",
   "execution_count": 80,
   "id": "3424298f",
   "metadata": {
    "colab": {
     "base_uri": "https://localhost:8080/",
     "height": 475
    },
    "id": "3I3Xpn3bqq3u",
    "outputId": "64a052f8-9435-45c7-ed47-c29a0477936d"
   },
   "outputs": [
    {
     "data": {
      "text/plain": [
       "Text(0.5, 1.0, 'Top 10 countries with Most No. of readers with Age Group')"
      ]
     },
     "execution_count": 80,
     "metadata": {},
     "output_type": "execute_result"
    },
    {
     "data": {
      "image/png": "[encoded data removed]",
      "text/plain": [
       "<Figure size 864x504 with 1 Axes>"
      ]
     },
     "metadata": {
      "needs_background": "light"
     },
     "output_type": "display_data"
    }
   ],
   "source": [
    "#Plotting the Age group in countries \n",
    "plt.figure(figsize=(12,7))\n",
    "sns.countplot(y=\"country\", data=agedata,order=agedata['country'].value_counts().index[0:10],hue='age_group')\n",
    "plt.title(\"Top 10 countries with Most No. of readers with Age Group\")"
   ]
  },
  {
   "cell_type": "code",
   "execution_count": 81,
   "id": "4b63ae6f",
   "metadata": {
    "colab": {
     "base_uri": "https://localhost:8080/",
     "height": 475
    },
    "id": "iADtzoSuumyW",
    "outputId": "76e05432-69cb-4bcf-9806-b3e7fce05997"
   },
   "outputs": [
    {
     "data": {
      "text/plain": [
       "Text(0.5, 1.0, 'Top 10 Book-Author with Most No. of readers')"
      ]
     },
     "execution_count": 81,
     "metadata": {},
     "output_type": "execute_result"
    },
    {
     "data": {
      "image/png": "[encoded data removed]",
      "text/plain": [
       "<Figure size 864x504 with 1 Axes>"
      ]
     },
     "metadata": {
      "needs_background": "light"
     },
     "output_type": "display_data"
    }
   ],
   "source": [
    "#plotting top 10 Book-Author with most number of readers\n",
    "plt.figure(figsize=(12,7))\n",
    "sns.countplot(y=\"Book-Author\", data=agedata, order=agedata['Book-Author'].value_counts().index[0:10],color='blue')\n",
    "plt.title(\"Top 10 Book-Author with Most No. of readers\")"
   ]
  },
  {
   "cell_type": "code",
   "execution_count": 82,
   "id": "44130db6",
   "metadata": {
    "colab": {
     "base_uri": "https://localhost:8080/",
     "height": 475
    },
    "id": "DqKrngxKweel",
    "outputId": "02612d4d-96a3-4710-903d-24178809a774"
   },
   "outputs": [
    {
     "data": {
      "text/plain": [
       "Text(0.5, 1.0, 'Top 10 Book-Author with Most No. of readers with Age Grp')"
      ]
     },
     "execution_count": 82,
     "metadata": {},
     "output_type": "execute_result"
    },
    {
     "data": {
      "image/png": "[encoded data removed]",
      "text/plain": [
       "<Figure size 864x504 with 1 Axes>"
      ]
     },
     "metadata": {
      "needs_background": "light"
     },
     "output_type": "display_data"
    }
   ],
   "source": [
    "#plotting top 10 Book-Author with most number of readers with Age Group\n",
    "plt.figure(figsize=(12,7))\n",
    "sns.countplot(y=\"Book-Author\", data=agedata, order=agedata['Book-Author'].value_counts().index[0:10],hue='age_group')\n",
    "plt.title(\"Top 10 Book-Author with Most No. of readers with Age Grp\")"
   ]
  },
  {
   "cell_type": "code",
   "execution_count": 83,
   "id": "a98086ff",
   "metadata": {
    "colab": {
     "base_uri": "https://localhost:8080/",
     "height": 475
    },
    "id": "96r-Vfylww5K",
    "outputId": "c6e6a9a7-687c-4b82-b44d-234f6169d0b9"
   },
   "outputs": [
    {
     "data": {
      "text/plain": [
       "Text(0.5, 1.0, 'Top 10 Year-Of-Publication with Most No. of readers')"
      ]
     },
     "execution_count": 83,
     "metadata": {},
     "output_type": "execute_result"
    },
    {
     "data": {
      "image/png": "[encoded data removed]",
      "text/plain": [
       "<Figure size 864x504 with 1 Axes>"
      ]
     },
     "metadata": {
      "needs_background": "light"
     },
     "output_type": "display_data"
    }
   ],
   "source": [
    "#plotting top 10 Year-Of-Publication with most number of readers\n",
    "plt.figure(figsize=(12,7))\n",
    "sns.countplot(y=\"Year-Of-Publication\", data=agedata, order=agedata['Year-Of-Publication'].value_counts().index[0:10],color='blue')\n",
    "plt.title(\"Top 10 Year-Of-Publication with Most No. of readers\")"
   ]
  },
  {
   "cell_type": "code",
   "execution_count": 84,
   "id": "723bdf19",
   "metadata": {
    "colab": {
     "base_uri": "https://localhost:8080/",
     "height": 475
    },
    "id": "MSHnJwNc06kW",
    "outputId": "67de492f-2ccc-4c68-f4ef-b38ea9ced447"
   },
   "outputs": [
    {
     "data": {
      "text/plain": [
       "Text(0.5, 1.0, 'Top 10 Year-Of-Publication with Most No. of readers with Age Grp')"
      ]
     },
     "execution_count": 84,
     "metadata": {},
     "output_type": "execute_result"
    },
    {
     "data": {
      "image/png": "[encoded data removed]",
      "text/plain": [
       "<Figure size 864x504 with 1 Axes>"
      ]
     },
     "metadata": {
      "needs_background": "light"
     },
     "output_type": "display_data"
    }
   ],
   "source": [
    "#plotting top 10 Year-Of-Publication with most number of readers with Age Group\n",
    "plt.figure(figsize=(12,7))\n",
    "sns.countplot(y=\"Year-Of-Publication\", data=agedata, order=agedata['Year-Of-Publication'].value_counts().index[0:10],\n",
    "              hue='age_group')\n",
    "plt.title(\"Top 10 Year-Of-Publication with Most No. of readers with Age Grp\")"
   ]
  },
  {
   "cell_type": "code",
   "execution_count": 85,
   "id": "c1246184",
   "metadata": {
    "colab": {
     "base_uri": "https://localhost:8080/",
     "height": 454
    },
    "id": "GNGbx-gw1Pcu",
    "outputId": "3079dcc1-937b-4c32-c608-160e8a66a558"
   },
   "outputs": [
    {
     "data": {
      "text/plain": [
       "Text(0.5, 1.0, 'Top 10 Book-Title with Ratings 8 to 10')"
      ]
     },
     "execution_count": 85,
     "metadata": {},
     "output_type": "execute_result"
    },
    {
     "data": {
      "image/png": "[encoded data removed]",
      "text/plain": [
       "<Figure size 864x504 with 1 Axes>"
      ]
     },
     "metadata": {
      "needs_background": "light"
     },
     "output_type": "display_data"
    }
   ],
   "source": [
    "#Plot of Top 10 Book Titles with Ratings 8 to 10 \n",
    "plt.figure(figsize=(12,7))\n",
    "sns.countplot(y=\"Book-Title\", data=ratings, order=ratings['Book-Title'].value_counts().index[0:10],color='blue')\n",
    "plt.title(\"Top 10 Book-Title with Ratings 8 to 10\")"
   ]
  },
  {
   "cell_type": "code",
   "execution_count": 86,
   "id": "702bd087",
   "metadata": {
    "colab": {
     "base_uri": "https://localhost:8080/",
     "height": 454
    },
    "id": "bMrqnWF42cCv",
    "outputId": "7da03b51-5caa-4d34-c303-7963fa306037"
   },
   "outputs": [
    {
     "data": {
      "text/plain": [
       "Text(0.5, 1.0, 'Top 10 Book-Title with Ratings 8 to 10 with Age Grp')"
      ]
     },
     "execution_count": 86,
     "metadata": {},
     "output_type": "execute_result"
    },
    {
     "data": {
      "image/png": "[encoded data removed]",
      "text/plain": [
       "<Figure size 864x504 with 1 Axes>"
      ]
     },
     "metadata": {
      "needs_background": "light"
     },
     "output_type": "display_data"
    }
   ],
   "source": [
    "#Plot of Top 10 Book Titles with Ratings 8 to 10 with Age Group\n",
    "plt.figure(figsize=(12,7))\n",
    "sns.countplot(y=\"Book-Title\", data=ratings, order=ratings['Book-Title'].value_counts().index[0:10],\n",
    "              hue='age_group')\n",
    "plt.title(\"Top 10 Book-Title with Ratings 8 to 10 with Age Grp\")"
   ]
  },
  {
   "cell_type": "code",
   "execution_count": 87,
   "id": "d1a82984",
   "metadata": {
    "colab": {
     "base_uri": "https://localhost:8080/",
     "height": 475
    },
    "id": "OG84bwvl27e2",
    "outputId": "17a54e8f-a09e-4b48-a1aa-30188866e992"
   },
   "outputs": [
    {
     "data": {
      "text/plain": [
       "Text(0.5, 1.0, 'Top 10 Book-Author with Ratings 8 to 10')"
      ]
     },
     "execution_count": 87,
     "metadata": {},
     "output_type": "execute_result"
    },
    {
     "data": {
      "image/png": "[encoded data removed]",
      "text/plain": [
       "<Figure size 864x504 with 1 Axes>"
      ]
     },
     "metadata": {
      "needs_background": "light"
     },
     "output_type": "display_data"
    }
   ],
   "source": [
    "#Plot of Top 10 Book Titles with Ratings 8 to 10 \n",
    "plt.figure(figsize=(12,7))\n",
    "sns.countplot(y=\"Book-Author\", data=ratings, order=ratings['Book-Author'].value_counts().index[0:10],color='blue')\n",
    "plt.title(\"Top 10 Book-Author with Ratings 8 to 10\")"
   ]
  },
  {
   "cell_type": "code",
   "execution_count": 88,
   "id": "9a87e6a0",
   "metadata": {
    "colab": {
     "base_uri": "https://localhost:8080/",
     "height": 475
    },
    "id": "lAePoLTv3Zse",
    "outputId": "253ec7a6-82b6-4506-db5c-3310a36abe54",
    "scrolled": true
   },
   "outputs": [
    {
     "data": {
      "text/plain": [
       "Text(0.5, 1.0, 'Top 10 Book-Author with Ratings 8 to 10 with Age Grp')"
      ]
     },
     "execution_count": 88,
     "metadata": {},
     "output_type": "execute_result"
    },
    {
     "data": {
      "image/png": "[encoded data removed]",
      "text/plain": [
       "<Figure size 864x504 with 1 Axes>"
      ]
     },
     "metadata": {
      "needs_background": "light"
     },
     "output_type": "display_data"
    }
   ],
   "source": [
    "#Plot of Top 10 Book Titles with Ratings 8 to 10 with Age Group\n",
    "plt.figure(figsize=(12,7))\n",
    "sns.countplot(y=\"Book-Author\", data=ratings, order=ratings['Book-Author'].value_counts().index[0:10],\n",
    "              hue='age_group')\n",
    "plt.title(\"Top 10 Book-Author with Ratings 8 to 10 with Age Grp\")"
   ]
  },
  {
   "cell_type": "code",
   "execution_count": 89,
   "id": "75559d32",
   "metadata": {},
   "outputs": [
    {
     "data": {
      "text/plain": [
       "0    0\n",
       "1    5\n",
       "2    0\n",
       "3    3\n",
       "4    6\n",
       "Name: Book-Rating, dtype: int64"
      ]
     },
     "execution_count": 89,
     "metadata": {},
     "output_type": "execute_result"
    }
   ],
   "source": [
    "rating['Book-Rating'].head()"
   ]
  },
  {
   "cell_type": "code",
   "execution_count": 90,
   "id": "4f2d1516",
   "metadata": {},
   "outputs": [
    {
     "data": {
      "text/html": [
       "<div>\n",
       "<style scoped>\n",
       "    .dataframe tbody tr th:only-of-type {\n",
       "        vertical-align: middle;\n",
       "    }\n",
       "\n",
       "    .dataframe tbody tr th {\n",
       "        vertical-align: top;\n",
       "    }\n",
       "\n",
       "    .dataframe thead th {\n",
       "        text-align: right;\n",
       "    }\n",
       "</style>\n",
       "<table border=\"1\" class=\"dataframe\">\n",
       "  <thead>\n",
       "    <tr style=\"text-align: right;\">\n",
       "      <th></th>\n",
       "      <th>ISBN</th>\n",
       "      <th>Book-Title</th>\n",
       "      <th>Book-Author</th>\n",
       "      <th>Year-Of-Publication</th>\n",
       "      <th>Publisher</th>\n",
       "      <th>Image-URL-S</th>\n",
       "      <th>Image-URL-M</th>\n",
       "      <th>Image-URL-L</th>\n",
       "      <th>User-ID</th>\n",
       "      <th>Book-Rating</th>\n",
       "    </tr>\n",
       "  </thead>\n",
       "  <tbody>\n",
       "    <tr>\n",
       "      <th>0</th>\n",
       "      <td>0195153448</td>\n",
       "      <td>Classical Mythology</td>\n",
       "      <td>Mark P. O. Morford</td>\n",
       "      <td>2002</td>\n",
       "      <td>Oxford University Press</td>\n",
       "      <td>http://images.amazon.com/images/P/0195153448.01.THUMBZZZ.jpg</td>\n",
       "      <td>http://images.amazon.com/images/P/0195153448.01.MZZZZZZZ.jpg</td>\n",
       "      <td>http://images.amazon.com/images/P/0195153448.01.LZZZZZZZ.jpg</td>\n",
       "      <td>2</td>\n",
       "      <td>0</td>\n",
       "    </tr>\n",
       "    <tr>\n",
       "      <th>1</th>\n",
       "      <td>0002005018</td>\n",
       "      <td>Clara Callan</td>\n",
       "      <td>Richard Bruce Wright</td>\n",
       "      <td>2001</td>\n",
       "      <td>HarperFlamingo Canada</td>\n",
       "      <td>http://images.amazon.com/images/P/0002005018.01.THUMBZZZ.jpg</td>\n",
       "      <td>http://images.amazon.com/images/P/0002005018.01.MZZZZZZZ.jpg</td>\n",
       "      <td>http://images.amazon.com/images/P/0002005018.01.LZZZZZZZ.jpg</td>\n",
       "      <td>8</td>\n",
       "      <td>5</td>\n",
       "    </tr>\n",
       "    <tr>\n",
       "      <th>2</th>\n",
       "      <td>0002005018</td>\n",
       "      <td>Clara Callan</td>\n",
       "      <td>Richard Bruce Wright</td>\n",
       "      <td>2001</td>\n",
       "      <td>HarperFlamingo Canada</td>\n",
       "      <td>http://images.amazon.com/images/P/0002005018.01.THUMBZZZ.jpg</td>\n",
       "      <td>http://images.amazon.com/images/P/0002005018.01.MZZZZZZZ.jpg</td>\n",
       "      <td>http://images.amazon.com/images/P/0002005018.01.LZZZZZZZ.jpg</td>\n",
       "      <td>11400</td>\n",
       "      <td>0</td>\n",
       "    </tr>\n",
       "    <tr>\n",
       "      <th>3</th>\n",
       "      <td>0002005018</td>\n",
       "      <td>Clara Callan</td>\n",
       "      <td>Richard Bruce Wright</td>\n",
       "      <td>2001</td>\n",
       "      <td>HarperFlamingo Canada</td>\n",
       "      <td>http://images.amazon.com/images/P/0002005018.01.THUMBZZZ.jpg</td>\n",
       "      <td>http://images.amazon.com/images/P/0002005018.01.MZZZZZZZ.jpg</td>\n",
       "      <td>http://images.amazon.com/images/P/0002005018.01.LZZZZZZZ.jpg</td>\n",
       "      <td>11676</td>\n",
       "      <td>8</td>\n",
       "    </tr>\n",
       "    <tr>\n",
       "      <th>4</th>\n",
       "      <td>0002005018</td>\n",
       "      <td>Clara Callan</td>\n",
       "      <td>Richard Bruce Wright</td>\n",
       "      <td>2001</td>\n",
       "      <td>HarperFlamingo Canada</td>\n",
       "      <td>http://images.amazon.com/images/P/0002005018.01.THUMBZZZ.jpg</td>\n",
       "      <td>http://images.amazon.com/images/P/0002005018.01.MZZZZZZZ.jpg</td>\n",
       "      <td>http://images.amazon.com/images/P/0002005018.01.LZZZZZZZ.jpg</td>\n",
       "      <td>41385</td>\n",
       "      <td>0</td>\n",
       "    </tr>\n",
       "  </tbody>\n",
       "</table>\n",
       "</div>"
      ],
      "text/plain": [
       "         ISBN           Book-Title           Book-Author  Year-Of-Publication  \\\n",
       "0  0195153448  Classical Mythology  Mark P. O. Morford    2002                  \n",
       "1  0002005018  Clara Callan         Richard Bruce Wright  2001                  \n",
       "2  0002005018  Clara Callan         Richard Bruce Wright  2001                  \n",
       "3  0002005018  Clara Callan         Richard Bruce Wright  2001                  \n",
       "4  0002005018  Clara Callan         Richard Bruce Wright  2001                  \n",
       "\n",
       "                 Publisher  \\\n",
       "0  Oxford University Press   \n",
       "1  HarperFlamingo Canada     \n",
       "2  HarperFlamingo Canada     \n",
       "3  HarperFlamingo Canada     \n",
       "4  HarperFlamingo Canada     \n",
       "\n",
       "                                                    Image-URL-S  \\\n",
       "0  http://images.amazon.com/images/P/0195153448.01.THUMBZZZ.jpg   \n",
       "1  http://images.amazon.com/images/P/0002005018.01.THUMBZZZ.jpg   \n",
       "2  http://images.amazon.com/images/P/0002005018.01.THUMBZZZ.jpg   \n",
       "3  http://images.amazon.com/images/P/0002005018.01.THUMBZZZ.jpg   \n",
       "4  http://images.amazon.com/images/P/0002005018.01.THUMBZZZ.jpg   \n",
       "\n",
       "                                                    Image-URL-M  \\\n",
       "0  http://images.amazon.com/images/P/0195153448.01.MZZZZZZZ.jpg   \n",
       "1  http://images.amazon.com/images/P/0002005018.01.MZZZZZZZ.jpg   \n",
       "2  http://images.amazon.com/images/P/0002005018.01.MZZZZZZZ.jpg   \n",
       "3  http://images.amazon.com/images/P/0002005018.01.MZZZZZZZ.jpg   \n",
       "4  http://images.amazon.com/images/P/0002005018.01.MZZZZZZZ.jpg   \n",
       "\n",
       "                                                    Image-URL-L  User-ID  \\\n",
       "0  http://images.amazon.com/images/P/0195153448.01.LZZZZZZZ.jpg  2         \n",
       "1  http://images.amazon.com/images/P/0002005018.01.LZZZZZZZ.jpg  8         \n",
       "2  http://images.amazon.com/images/P/0002005018.01.LZZZZZZZ.jpg  11400     \n",
       "3  http://images.amazon.com/images/P/0002005018.01.LZZZZZZZ.jpg  11676     \n",
       "4  http://images.amazon.com/images/P/0002005018.01.LZZZZZZZ.jpg  41385     \n",
       "\n",
       "   Book-Rating  \n",
       "0  0            \n",
       "1  5            \n",
       "2  0            \n",
       "3  8            \n",
       "4  0            "
      ]
     },
     "execution_count": 90,
     "metadata": {},
     "output_type": "execute_result"
    }
   ],
   "source": [
    "books_data=books.merge(rating,on=\"ISBN\")\n",
    "books_data.head()"
   ]
  },
  {
   "cell_type": "code",
   "execution_count": 91,
   "id": "39dd8a32",
   "metadata": {},
   "outputs": [
    {
     "data": {
      "text/html": [
       "<div>\n",
       "<style scoped>\n",
       "    .dataframe tbody tr th:only-of-type {\n",
       "        vertical-align: middle;\n",
       "    }\n",
       "\n",
       "    .dataframe tbody tr th {\n",
       "        vertical-align: top;\n",
       "    }\n",
       "\n",
       "    .dataframe thead th {\n",
       "        text-align: right;\n",
       "    }\n",
       "</style>\n",
       "<table border=\"1\" class=\"dataframe\">\n",
       "  <thead>\n",
       "    <tr style=\"text-align: right;\">\n",
       "      <th></th>\n",
       "      <th>Book-Title</th>\n",
       "      <th>Book-Author</th>\n",
       "      <th>Publisher</th>\n",
       "      <th>Image-URL-L</th>\n",
       "      <th>User-ID</th>\n",
       "      <th>Book-Rating</th>\n",
       "    </tr>\n",
       "  </thead>\n",
       "  <tbody>\n",
       "    <tr>\n",
       "      <th>1</th>\n",
       "      <td>Clara Callan</td>\n",
       "      <td>Richard Bruce Wright</td>\n",
       "      <td>HarperFlamingo Canada</td>\n",
       "      <td>http://images.amazon.com/images/P/0002005018.01.LZZZZZZZ.jpg</td>\n",
       "      <td>8</td>\n",
       "      <td>5</td>\n",
       "    </tr>\n",
       "    <tr>\n",
       "      <th>3</th>\n",
       "      <td>Clara Callan</td>\n",
       "      <td>Richard Bruce Wright</td>\n",
       "      <td>HarperFlamingo Canada</td>\n",
       "      <td>http://images.amazon.com/images/P/0002005018.01.LZZZZZZZ.jpg</td>\n",
       "      <td>11676</td>\n",
       "      <td>8</td>\n",
       "    </tr>\n",
       "    <tr>\n",
       "      <th>5</th>\n",
       "      <td>Clara Callan</td>\n",
       "      <td>Richard Bruce Wright</td>\n",
       "      <td>HarperFlamingo Canada</td>\n",
       "      <td>http://images.amazon.com/images/P/0002005018.01.LZZZZZZZ.jpg</td>\n",
       "      <td>67544</td>\n",
       "      <td>8</td>\n",
       "    </tr>\n",
       "    <tr>\n",
       "      <th>8</th>\n",
       "      <td>Clara Callan</td>\n",
       "      <td>Richard Bruce Wright</td>\n",
       "      <td>HarperFlamingo Canada</td>\n",
       "      <td>http://images.amazon.com/images/P/0002005018.01.LZZZZZZZ.jpg</td>\n",
       "      <td>116866</td>\n",
       "      <td>9</td>\n",
       "    </tr>\n",
       "    <tr>\n",
       "      <th>9</th>\n",
       "      <td>Clara Callan</td>\n",
       "      <td>Richard Bruce Wright</td>\n",
       "      <td>HarperFlamingo Canada</td>\n",
       "      <td>http://images.amazon.com/images/P/0002005018.01.LZZZZZZZ.jpg</td>\n",
       "      <td>123629</td>\n",
       "      <td>9</td>\n",
       "    </tr>\n",
       "  </tbody>\n",
       "</table>\n",
       "</div>"
      ],
      "text/plain": [
       "     Book-Title           Book-Author              Publisher  \\\n",
       "1  Clara Callan  Richard Bruce Wright  HarperFlamingo Canada   \n",
       "3  Clara Callan  Richard Bruce Wright  HarperFlamingo Canada   \n",
       "5  Clara Callan  Richard Bruce Wright  HarperFlamingo Canada   \n",
       "8  Clara Callan  Richard Bruce Wright  HarperFlamingo Canada   \n",
       "9  Clara Callan  Richard Bruce Wright  HarperFlamingo Canada   \n",
       "\n",
       "                                                    Image-URL-L  User-ID  \\\n",
       "1  http://images.amazon.com/images/P/0002005018.01.LZZZZZZZ.jpg  8         \n",
       "3  http://images.amazon.com/images/P/0002005018.01.LZZZZZZZ.jpg  11676     \n",
       "5  http://images.amazon.com/images/P/0002005018.01.LZZZZZZZ.jpg  67544     \n",
       "8  http://images.amazon.com/images/P/0002005018.01.LZZZZZZZ.jpg  116866    \n",
       "9  http://images.amazon.com/images/P/0002005018.01.LZZZZZZZ.jpg  123629    \n",
       "\n",
       "   Book-Rating  \n",
       "1  5            \n",
       "3  8            \n",
       "5  8            \n",
       "8  9            \n",
       "9  9            "
      ]
     },
     "execution_count": 91,
     "metadata": {},
     "output_type": "execute_result"
    }
   ],
   "source": [
    "import re\n",
    "df=books_data.copy()\n",
    "df.dropna(inplace=True)\n",
    "df.reset_index(drop=True,inplace=True)\n",
    "df.drop(columns=[\"ISBN\",\"Year-Of-Publication\",\"Image-URL-S\",\"Image-URL-M\"],axis=1,inplace=True)\n",
    "df.drop(index=df[df[\"Book-Rating\"]==0].index,inplace=True)\n",
    "df[\"Book-Title\"]=df[\"Book-Title\"].apply(lambda x: re.sub(\"[\\W_]+\",\" \",x).strip())\n",
    "df.head()"
   ]
  },
  {
   "cell_type": "code",
   "execution_count": 92,
   "id": "f2887eb3",
   "metadata": {},
   "outputs": [],
   "source": [
    "new_df=df[df['User-ID'].map(df['User-ID'].value_counts()) > 200]  # Drop users who vote less than 200 times.\n",
    "users_pivot=new_df.pivot_table(index=[\"User-ID\"],columns=[\"Book-Title\"],values=\"Book-Rating\")\n",
    "users_pivot.fillna(0,inplace=True)"
   ]
  },
  {
   "cell_type": "code",
   "execution_count": 93,
   "id": "fcf380a3",
   "metadata": {},
   "outputs": [],
   "source": [
    "from sklearn.metrics.pairwise import cosine_similarity\n",
    "def user_choice(id):\n",
    "    \n",
    "    users_fav=new_df[new_df[\"User-ID\"]==id].sort_values([\"Book-Rating\"],ascending=False)[0:5]\n",
    "    return users_fav"
   ]
  },
  {
   "cell_type": "code",
   "execution_count": 94,
   "id": "05c98ba5",
   "metadata": {},
   "outputs": [],
   "source": [
    "def user_based(new_df,id):\n",
    "    if id not in new_df[\"User-ID\"].values:\n",
    "        print(\"❌ User NOT FOUND ❌\")\n",
    "        \n",
    "        \n",
    "    else:\n",
    "        index = np.where(users_pivot.index==id)[0][0]\n",
    "        similarity=cosine_similarity(users_pivot)\n",
    "        similar_users=list(enumerate(similarity[index]))\n",
    "        similar_users = sorted(similar_users,key = lambda x:x[1],reverse=True)[0:5]\n",
    "        \n",
    "        user_rec=[]\n",
    "        \n",
    "        for i in similar_users:\n",
    "            data=df[df[\"User-ID\"]==users_pivot.index[i[0]]]\n",
    "            user_rec.extend(list(data.drop_duplicates(\"User-Id\")[\"User-ID\"].values))\n",
    "            \n",
    "    return user_rec"
   ]
  },
  {
   "cell_type": "code",
   "execution_count": 95,
   "id": "f6dcef59",
   "metadata": {},
   "outputs": [],
   "source": [
    "def common(new_df,user,user_id):\n",
    "    x=new_df[new_df[\"User-ID\"]==user_id]\n",
    "    recommend_books=[]\n",
    "    user=list(user)\n",
    "    for i in user:\n",
    "        y=new_df[(new_df[\"User-ID\"]==i)]\n",
    "        books=y.loc[~y[\"Book-Title\"].isin(x[\"Book-Title\"]),:]\n",
    "        books=books.sort_values([\"Book-Rating\"],ascending=False)[0:5]\n",
    "        recommend_books.extend(books[\"Book-Title\"].values)\n",
    "        \n",
    "    return recommend_books[0:5]"
   ]
  },
  {
   "cell_type": "code",
   "execution_count": 96,
   "id": "30ed5edf",
   "metadata": {},
   "outputs": [
    {
     "ename": "NameError",
     "evalue": "name 'users_choice' is not defined",
     "output_type": "error",
     "traceback": [
      "\u001b[1;31m---------------------------------------------------------------------------\u001b[0m",
      "\u001b[1;31mNameError\u001b[0m                                 Traceback (most recent call last)",
      "Input \u001b[1;32mIn [96]\u001b[0m, in \u001b[0;36m<cell line: 5>\u001b[1;34m()\u001b[0m\n\u001b[0;32m      3\u001b[0m \u001b[38;5;28;01mimport\u001b[39;00m \u001b[38;5;21;01mrequests\u001b[39;00m\n\u001b[0;32m      4\u001b[0m user_id\u001b[38;5;241m=\u001b[39mrandom\u001b[38;5;241m.\u001b[39mchoice(new_df[\u001b[38;5;124m\"\u001b[39m\u001b[38;5;124mUser-ID\u001b[39m\u001b[38;5;124m\"\u001b[39m]\u001b[38;5;241m.\u001b[39mvalues)\n\u001b[1;32m----> 5\u001b[0m user_choice_df\u001b[38;5;241m=\u001b[39mpd\u001b[38;5;241m.\u001b[39mDataFrame(\u001b[43musers_choice\u001b[49m(user_id))\n\u001b[0;32m      6\u001b[0m user_favorite\u001b[38;5;241m=\u001b[39musers_choice(user_id)\n\u001b[0;32m      7\u001b[0m n\u001b[38;5;241m=\u001b[39m\u001b[38;5;28mlen\u001b[39m(user_choice_df[\u001b[38;5;124m\"\u001b[39m\u001b[38;5;124mBook-Title\u001b[39m\u001b[38;5;124m\"\u001b[39m]\u001b[38;5;241m.\u001b[39mvalues)\n",
      "\u001b[1;31mNameError\u001b[0m: name 'users_choice' is not defined"
     ]
    }
   ],
   "source": [
    "import random\n",
    "from PIL import Image\n",
    "import requests\n",
    "user_id=random.choice(new_df[\"User-ID\"].values)\n",
    "user_choice_df=pd.DataFrame(users_choice(user_id))\n",
    "user_favorite=users_choice(user_id)\n",
    "n=len(user_choice_df[\"Book-Title\"].values)\n",
    "print(\"🟦 USER: {} \".format(user_id))\n",
    "    \n",
    "fig,ax=plt.subplots(1,n,figsize=(17,5))\n",
    "fig.suptitle(\"YOUR FAVORITE BOOKS\",fontsize=40,color=\"salmon\")\n",
    "    \n",
    "for i in range(n):\n",
    "        url=new_df.loc[new_df[\"Book-Title\"]==user_choice_df[\"Book-Title\"].tolist()[i],\"Image-URL-L\"][:1].values[0]\n",
    "        img=Image.open(requests.get(url,stream=True).raw)\n",
    "        ax[i].imshow(img)\n",
    "        ax[i].axis(\"off\")\n",
    "        ax[i].set_title(\"RATING: {} \".format(round(new_df[new_df[\"Book-Title\"]==user_choice_df[\"Book-Title\"].tolist()[i]][\"Book-Rating\"].mean(),1)),y=-0.20,color=\"mediumorchid\",fontsize=22)\n",
    "        fig.show()\n",
    "\n",
    "user_based_rec=user_based(new_df,user_id)\n",
    "books_for_user=common(new_df,user_based_rec,user_id)\n",
    "books_for_userDF=pd.DataFrame(books_for_user,columns=[\"Book-Title\"])\n",
    "\n",
    "fig,ax=plt.subplots(1,5,figsize=(17,5))\n",
    "fig.suptitle(\"YOU MAY ALSO LIKE THESE BOOKS\",fontsize=40,color=\"mediumseagreen\")\n",
    "for i in range(5):\n",
    "    url=new_df.loc[new_df[\"Book-Title\"]==books_for_userDF[\"Book-Title\"].tolist()[i],\"Image-URL-L\"][:1].values[0]\n",
    "    img=Image.open(requests.get(url,stream=True).raw)\n",
    "    ax[i].imshow(img)\n",
    "    ax[i].axis(\"off\")\n",
    "    ax[i].set_title(\"RATING: {} \".format(round(new_df[new_df[\"Book-Title\"]==books_for_userDF[\"Book-Title\"].tolist()[i]][\"Book-Rating\"].mean(),1)),y=-0.20,color=\"mediumorchid\",fontsize=22)\n",
    "    fig.show()"
   ]
  },
  {
   "cell_type": "code",
   "execution_count": null,
   "id": "7c726dc7",
   "metadata": {},
   "outputs": [],
   "source": []
  }
 ],
 "metadata": {
  "kernelspec": {
   "display_name": "Python 3 (ipykernel)",
   "language": "python",
   "name": "python3"
  },
  "language_info": {
   "codemirror_mode": {
    "name": "ipython",
    "version": 3
   },
   "file_extension": ".py",
   "mimetype": "text/x-python",
   "name": "python",
   "nbconvert_exporter": "python",
   "pygments_lexer": "ipython3",
   "version": "3.9.12"
  }
 },
 "nbformat": 4,
 "nbformat_minor": 5
}
